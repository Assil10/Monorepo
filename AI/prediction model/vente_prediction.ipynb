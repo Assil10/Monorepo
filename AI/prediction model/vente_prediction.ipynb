{
 "cells": [
  {
   "cell_type": "markdown",
   "metadata": {},
   "source": [
    "### Import necessary libraries"
   ]
  },
  {
   "cell_type": "code",
   "execution_count": 39,
   "metadata": {},
   "outputs": [],
   "source": [
    "import pandas as pd\n",
    "import seaborn as sns\n",
    "import matplotlib.pyplot as plt\n",
    "from geopy.geocoders import Nominatim\n",
    "from geopy.exc import GeocoderTimedOut\n",
    "from sklearn.model_selection import train_test_split\n",
    "from sklearn.linear_model import LinearRegression\n",
    "from sklearn.metrics import mean_squared_error,mean_absolute_error,r2_score\n",
    "import numpy as np\n",
    "from scipy import stats\n",
    "from sklearn.preprocessing import StandardScaler\n",
    "import requests\n",
    "import pickle"
   ]
  },
  {
   "cell_type": "markdown",
   "metadata": {},
   "source": [
    "### loading the dataset"
   ]
  },
  {
   "cell_type": "code",
   "execution_count": 40,
   "metadata": {},
   "outputs": [],
   "source": [
    "df_remax=pd.read_csv('remax_vente.csv')"
   ]
  },
  {
   "cell_type": "code",
   "execution_count": 41,
   "metadata": {},
   "outputs": [],
   "source": [
    "df_star_vente=pd.read_csv('properstar_vente.csv')\n",
    "df_star_vente_commercial=pd.read_csv('properstar_commercial_vente.csv')\n",
    "df_star=pd.concat([df_star_vente,df_star_vente_commercial])"
   ]
  },
  {
   "cell_type": "markdown",
   "metadata": {},
   "source": [
    "## Data exploration"
   ]
  },
  {
   "cell_type": "markdown",
   "metadata": {},
   "source": [
    "### Properstar data"
   ]
  },
  {
   "cell_type": "code",
   "execution_count": 42,
   "metadata": {},
   "outputs": [
    {
     "data": {
      "text/html": [
       "<div>\n",
       "<style scoped>\n",
       "    .dataframe tbody tr th:only-of-type {\n",
       "        vertical-align: middle;\n",
       "    }\n",
       "\n",
       "    .dataframe tbody tr th {\n",
       "        vertical-align: top;\n",
       "    }\n",
       "\n",
       "    .dataframe thead th {\n",
       "        text-align: right;\n",
       "    }\n",
       "</style>\n",
       "<table border=\"1\" class=\"dataframe\">\n",
       "  <thead>\n",
       "    <tr style=\"text-align: right;\">\n",
       "      <th></th>\n",
       "      <th>statut</th>\n",
       "      <th>link</th>\n",
       "      <th>title</th>\n",
       "      <th>address</th>\n",
       "      <th>prix</th>\n",
       "      <th>Pièces</th>\n",
       "      <th>Etages</th>\n",
       "      <th>Chambres</th>\n",
       "      <th>Salles de bains</th>\n",
       "      <th>Toilettes</th>\n",
       "      <th>...</th>\n",
       "      <th>Vue sur la forêt</th>\n",
       "      <th>Vue sur la montagne</th>\n",
       "      <th>Centre de remise en forme</th>\n",
       "      <th>Hammam</th>\n",
       "      <th>Vue du village</th>\n",
       "      <th>Vue du port</th>\n",
       "      <th>Vue sur la campagne</th>\n",
       "      <th>Garage</th>\n",
       "      <th>Vue sur la verdure</th>\n",
       "      <th>Vue sur le parc</th>\n",
       "    </tr>\n",
       "  </thead>\n",
       "  <tbody>\n",
       "    <tr>\n",
       "      <th>0</th>\n",
       "      <td>Vente</td>\n",
       "      <td>https://www.properstar.fr/annonce/104215563</td>\n",
       "      <td>Maison à vendre à Ez Zahra, Tunisie</td>\n",
       "      <td>Ez Zahra</td>\n",
       "      <td>250 €</td>\n",
       "      <td>7.0</td>\n",
       "      <td>1.0</td>\n",
       "      <td>5.0</td>\n",
       "      <td>2.0</td>\n",
       "      <td>1.0</td>\n",
       "      <td>...</td>\n",
       "      <td>NaN</td>\n",
       "      <td>NaN</td>\n",
       "      <td>NaN</td>\n",
       "      <td>NaN</td>\n",
       "      <td>NaN</td>\n",
       "      <td>NaN</td>\n",
       "      <td>NaN</td>\n",
       "      <td>NaN</td>\n",
       "      <td>NaN</td>\n",
       "      <td>NaN</td>\n",
       "    </tr>\n",
       "    <tr>\n",
       "      <th>1</th>\n",
       "      <td>Vente</td>\n",
       "      <td>https://www.properstar.fr/annonce/102753772</td>\n",
       "      <td>Appartement à vendre à Jardins de Carthage, Tu...</td>\n",
       "      <td>Jardins De Carthage</td>\n",
       "      <td>130 929 €</td>\n",
       "      <td>2.0</td>\n",
       "      <td>9.0</td>\n",
       "      <td>1.0</td>\n",
       "      <td>1.0</td>\n",
       "      <td>1.0</td>\n",
       "      <td>...</td>\n",
       "      <td>NaN</td>\n",
       "      <td>NaN</td>\n",
       "      <td>NaN</td>\n",
       "      <td>NaN</td>\n",
       "      <td>NaN</td>\n",
       "      <td>NaN</td>\n",
       "      <td>NaN</td>\n",
       "      <td>NaN</td>\n",
       "      <td>NaN</td>\n",
       "      <td>NaN</td>\n",
       "    </tr>\n",
       "    <tr>\n",
       "      <th>2</th>\n",
       "      <td>Vente</td>\n",
       "      <td>https://www.properstar.fr/annonce/104409743</td>\n",
       "      <td>Appartement à vendre à Gammarth, Tunisie</td>\n",
       "      <td>Gammarth</td>\n",
       "      <td>418 372 €</td>\n",
       "      <td>6.0</td>\n",
       "      <td>2.0</td>\n",
       "      <td>5.0</td>\n",
       "      <td>5.0</td>\n",
       "      <td>2.0</td>\n",
       "      <td>...</td>\n",
       "      <td>NaN</td>\n",
       "      <td>NaN</td>\n",
       "      <td>NaN</td>\n",
       "      <td>NaN</td>\n",
       "      <td>NaN</td>\n",
       "      <td>NaN</td>\n",
       "      <td>NaN</td>\n",
       "      <td>NaN</td>\n",
       "      <td>NaN</td>\n",
       "      <td>NaN</td>\n",
       "    </tr>\n",
       "  </tbody>\n",
       "</table>\n",
       "<p>3 rows × 93 columns</p>\n",
       "</div>"
      ],
      "text/plain": [
       "  statut                                         link  \\\n",
       "0  Vente  https://www.properstar.fr/annonce/104215563   \n",
       "1  Vente  https://www.properstar.fr/annonce/102753772   \n",
       "2  Vente  https://www.properstar.fr/annonce/104409743   \n",
       "\n",
       "                                               title              address  \\\n",
       "0                Maison à vendre à Ez Zahra, Tunisie             Ez Zahra   \n",
       "1  Appartement à vendre à Jardins de Carthage, Tu...  Jardins De Carthage   \n",
       "2           Appartement à vendre à Gammarth, Tunisie             Gammarth   \n",
       "\n",
       "        prix  Pièces  Etages  Chambres  Salles de bains  Toilettes  ...  \\\n",
       "0      250 €     7.0     1.0       5.0              2.0        1.0  ...   \n",
       "1  130 929 €     2.0     9.0       1.0              1.0        1.0  ...   \n",
       "2  418 372 €     6.0     2.0       5.0              5.0        2.0  ...   \n",
       "\n",
       "   Vue sur la forêt Vue sur la montagne Centre de remise en forme Hammam  \\\n",
       "0               NaN                 NaN                       NaN    NaN   \n",
       "1               NaN                 NaN                       NaN    NaN   \n",
       "2               NaN                 NaN                       NaN    NaN   \n",
       "\n",
       "   Vue du village Vue du port Vue sur la campagne Garage  Vue sur la verdure  \\\n",
       "0             NaN         NaN                 NaN    NaN                 NaN   \n",
       "1             NaN         NaN                 NaN    NaN                 NaN   \n",
       "2             NaN         NaN                 NaN    NaN                 NaN   \n",
       "\n",
       "   Vue sur le parc  \n",
       "0              NaN  \n",
       "1              NaN  \n",
       "2              NaN  \n",
       "\n",
       "[3 rows x 93 columns]"
      ]
     },
     "execution_count": 42,
     "metadata": {},
     "output_type": "execute_result"
    }
   ],
   "source": [
    "df_star.head(3)"
   ]
  },
  {
   "cell_type": "code",
   "execution_count": 43,
   "metadata": {},
   "outputs": [
    {
     "data": {
      "text/plain": [
       "(521, 93)"
      ]
     },
     "execution_count": 43,
     "metadata": {},
     "output_type": "execute_result"
    }
   ],
   "source": [
    "df_star.shape"
   ]
  },
  {
   "cell_type": "code",
   "execution_count": 44,
   "metadata": {},
   "outputs": [
    {
     "data": {
      "text/plain": [
       "Index(['statut', 'link', 'title', 'address', 'prix', 'Pièces', 'Etages',\n",
       "       'Chambres', 'Salles de bains', 'Toilettes', 'Places de parc extérieur',\n",
       "       'Habitable', 'Total', 'Alarme', '1', 'Ascenseur', 'Balcon', 'Type',\n",
       "       'Année de construction', 'Appartements', 'Piscine', 'Terrasse',\n",
       "       'Climatisation', 'Concierge 24/7', 'Internet', 'Parking', 'Sécurité',\n",
       "       'Aéroport', 'Autoroute', 'Centre-ville', 'Ecole primaire / élémentaire',\n",
       "       'Ecole secondaire', 'Garderie', 'Hôpital ou clinique', 'Magasins',\n",
       "       'Université', 'Orientation Nord', 'Vue de la rue', 'Vue du ciel',\n",
       "       'Condition', 'Chauffage', 'Eau chaude', 'Déchets des eaux usées',\n",
       "       'Centre de sport', 'Docteur', 'Parking public', 'Supermarché', 'Taxi',\n",
       "       'Transports publics', 'Standing', 'Terrain', 'Jardin', 'Meublé',\n",
       "       'Places de parc intérieures', 'Machine à laver',\n",
       "       'Télévision par satellite', 'Parc', 'Année de rénovation', 'Interphone',\n",
       "       'Station de ski', 'Orientation Northeast', 'Mer', 'Plage', 'Port',\n",
       "       'Vue sur la ville', 'Golf', 'Vue sur la mer', 'Piscine publique',\n",
       "       'Barbecue', 'Orientation Est', 'Centre de congrès', 'Cinéma', 'Lac',\n",
       "       'Tennis', 'Orientation Southeast', 'Jacuzzi', 'Orientation Northwest',\n",
       "       'Orientation Ouest', 'Orientation Sud', 'Vue de la piscine',\n",
       "       'Recharge de véhicules électriques', 'Vue sur le jardin', 'Sauna',\n",
       "       'Vue sur la forêt', 'Vue sur la montagne', 'Centre de remise en forme',\n",
       "       'Hammam', 'Vue du village', 'Vue du port', 'Vue sur la campagne',\n",
       "       'Garage', 'Vue sur la verdure', 'Vue sur le parc'],\n",
       "      dtype='object')"
      ]
     },
     "execution_count": 44,
     "metadata": {},
     "output_type": "execute_result"
    }
   ],
   "source": [
    "df_star.columns"
   ]
  },
  {
   "cell_type": "code",
   "execution_count": 45,
   "metadata": {},
   "outputs": [
    {
     "data": {
      "text/plain": [
       "statut                     0\n",
       "link                       0\n",
       "prix                       0\n",
       "title                      9\n",
       "address                    9\n",
       "Pièces                    62\n",
       "1                         63\n",
       "Habitable                 72\n",
       "Type                      90\n",
       "Total                    120\n",
       "Etages                   218\n",
       "Chambres                 270\n",
       "Année de construction    272\n",
       "Salles de bains          283\n",
       "Condition                288\n",
       "dtype: int64"
      ]
     },
     "execution_count": 45,
     "metadata": {},
     "output_type": "execute_result"
    }
   ],
   "source": [
    "df_star.isna().sum().sort_values(ascending=True).head(15)"
   ]
  },
  {
   "cell_type": "code",
   "execution_count": 46,
   "metadata": {},
   "outputs": [
    {
     "data": {
      "text/html": [
       "<div>\n",
       "<style scoped>\n",
       "    .dataframe tbody tr th:only-of-type {\n",
       "        vertical-align: middle;\n",
       "    }\n",
       "\n",
       "    .dataframe tbody tr th {\n",
       "        vertical-align: top;\n",
       "    }\n",
       "\n",
       "    .dataframe thead th {\n",
       "        text-align: right;\n",
       "    }\n",
       "</style>\n",
       "<table border=\"1\" class=\"dataframe\">\n",
       "  <thead>\n",
       "    <tr style=\"text-align: right;\">\n",
       "      <th></th>\n",
       "      <th>address</th>\n",
       "      <th>Type</th>\n",
       "      <th>Habitable</th>\n",
       "      <th>Total</th>\n",
       "      <th>Terrain</th>\n",
       "      <th>Pièces</th>\n",
       "      <th>Salles de bains</th>\n",
       "      <th>Chambres</th>\n",
       "      <th>Garage</th>\n",
       "      <th>Jardin</th>\n",
       "      <th>Balcon</th>\n",
       "      <th>Meublé</th>\n",
       "      <th>Piscine</th>\n",
       "      <th>Etages</th>\n",
       "      <th>prix</th>\n",
       "    </tr>\n",
       "  </thead>\n",
       "  <tbody>\n",
       "    <tr>\n",
       "      <th>0</th>\n",
       "      <td>Ez Zahra</td>\n",
       "      <td>NaN</td>\n",
       "      <td>380 m²</td>\n",
       "      <td>380 m²</td>\n",
       "      <td>NaN</td>\n",
       "      <td>7.0</td>\n",
       "      <td>2.0</td>\n",
       "      <td>5.0</td>\n",
       "      <td>NaN</td>\n",
       "      <td>NaN</td>\n",
       "      <td>NaN</td>\n",
       "      <td>NaN</td>\n",
       "      <td>NaN</td>\n",
       "      <td>1.0</td>\n",
       "      <td>250 €</td>\n",
       "    </tr>\n",
       "    <tr>\n",
       "      <th>1</th>\n",
       "      <td>Jardins De Carthage</td>\n",
       "      <td>Appartement</td>\n",
       "      <td>103 m²</td>\n",
       "      <td>103 m²</td>\n",
       "      <td>NaN</td>\n",
       "      <td>2.0</td>\n",
       "      <td>1.0</td>\n",
       "      <td>1.0</td>\n",
       "      <td>NaN</td>\n",
       "      <td>NaN</td>\n",
       "      <td>Balcon</td>\n",
       "      <td>NaN</td>\n",
       "      <td>NaN</td>\n",
       "      <td>9.0</td>\n",
       "      <td>130 929 €</td>\n",
       "    </tr>\n",
       "    <tr>\n",
       "      <th>2</th>\n",
       "      <td>Gammarth</td>\n",
       "      <td>Appartement</td>\n",
       "      <td>354 m²</td>\n",
       "      <td>354 m²</td>\n",
       "      <td>NaN</td>\n",
       "      <td>6.0</td>\n",
       "      <td>5.0</td>\n",
       "      <td>5.0</td>\n",
       "      <td>NaN</td>\n",
       "      <td>NaN</td>\n",
       "      <td>Balcon</td>\n",
       "      <td>NaN</td>\n",
       "      <td>Piscine</td>\n",
       "      <td>2.0</td>\n",
       "      <td>418 372 €</td>\n",
       "    </tr>\n",
       "    <tr>\n",
       "      <th>3</th>\n",
       "      <td>Sousse</td>\n",
       "      <td>Appartement</td>\n",
       "      <td>135 m²</td>\n",
       "      <td>155 m²</td>\n",
       "      <td>NaN</td>\n",
       "      <td>4.0</td>\n",
       "      <td>NaN</td>\n",
       "      <td>3.0</td>\n",
       "      <td>NaN</td>\n",
       "      <td>NaN</td>\n",
       "      <td>NaN</td>\n",
       "      <td>NaN</td>\n",
       "      <td>NaN</td>\n",
       "      <td>5.0</td>\n",
       "      <td>177 281 €</td>\n",
       "    </tr>\n",
       "    <tr>\n",
       "      <th>4</th>\n",
       "      <td>Sousse</td>\n",
       "      <td>Maison</td>\n",
       "      <td>630 m²</td>\n",
       "      <td>NaN</td>\n",
       "      <td>NaN</td>\n",
       "      <td>5.0</td>\n",
       "      <td>NaN</td>\n",
       "      <td>NaN</td>\n",
       "      <td>NaN</td>\n",
       "      <td>NaN</td>\n",
       "      <td>NaN</td>\n",
       "      <td>NaN</td>\n",
       "      <td>NaN</td>\n",
       "      <td>NaN</td>\n",
       "      <td>174 572 €</td>\n",
       "    </tr>\n",
       "  </tbody>\n",
       "</table>\n",
       "</div>"
      ],
      "text/plain": [
       "               address         Type Habitable   Total Terrain  Pièces  \\\n",
       "0             Ez Zahra          NaN    380 m²  380 m²     NaN     7.0   \n",
       "1  Jardins De Carthage  Appartement    103 m²  103 m²     NaN     2.0   \n",
       "2             Gammarth  Appartement    354 m²  354 m²     NaN     6.0   \n",
       "3               Sousse  Appartement    135 m²  155 m²     NaN     4.0   \n",
       "4               Sousse       Maison    630 m²     NaN     NaN     5.0   \n",
       "\n",
       "   Salles de bains  Chambres Garage Jardin  Balcon Meublé  Piscine  Etages  \\\n",
       "0              2.0       5.0    NaN    NaN     NaN    NaN      NaN     1.0   \n",
       "1              1.0       1.0    NaN    NaN  Balcon    NaN      NaN     9.0   \n",
       "2              5.0       5.0    NaN    NaN  Balcon    NaN  Piscine     2.0   \n",
       "3              NaN       3.0    NaN    NaN     NaN    NaN      NaN     5.0   \n",
       "4              NaN       NaN    NaN    NaN     NaN    NaN      NaN     NaN   \n",
       "\n",
       "        prix  \n",
       "0      250 €  \n",
       "1  130 929 €  \n",
       "2  418 372 €  \n",
       "3  177 281 €  \n",
       "4  174 572 €  "
      ]
     },
     "execution_count": 46,
     "metadata": {},
     "output_type": "execute_result"
    }
   ],
   "source": [
    "columns_to_keep=['address','Type', 'Habitable', 'Total','Terrain',\n",
    "       'Pièces', 'Salles de bains', 'Chambres','Garage','Jardin','Balcon','Meublé','Piscine','Etages', 'prix']\n",
    "df_star=df_star[columns_to_keep]\n",
    "df_star.head()"
   ]
  },
  {
   "cell_type": "code",
   "execution_count": 47,
   "metadata": {},
   "outputs": [
    {
     "name": "stdout",
     "output_type": "stream",
     "text": [
      "<class 'pandas.core.frame.DataFrame'>\n",
      "Index: 521 entries, 0 to 27\n",
      "Data columns (total 15 columns):\n",
      " #   Column           Non-Null Count  Dtype  \n",
      "---  ------           --------------  -----  \n",
      " 0   address          512 non-null    object \n",
      " 1   Type             431 non-null    object \n",
      " 2   Habitable        449 non-null    object \n",
      " 3   Total            401 non-null    object \n",
      " 4   Terrain          118 non-null    object \n",
      " 5   Pièces           459 non-null    float64\n",
      " 6   Salles de bains  238 non-null    float64\n",
      " 7   Chambres         251 non-null    float64\n",
      " 8   Garage           1 non-null      object \n",
      " 9   Jardin           10 non-null     object \n",
      " 10  Balcon           125 non-null    object \n",
      " 11  Meublé           88 non-null     object \n",
      " 12  Piscine          94 non-null     object \n",
      " 13  Etages           303 non-null    float64\n",
      " 14  prix             521 non-null    object \n",
      "dtypes: float64(4), object(11)\n",
      "memory usage: 65.1+ KB\n"
     ]
    }
   ],
   "source": [
    "df_star.info()"
   ]
  },
  {
   "cell_type": "code",
   "execution_count": 48,
   "metadata": {},
   "outputs": [
    {
     "data": {
      "text/plain": [
       "Garage             520\n",
       "Jardin             511\n",
       "Meublé             433\n",
       "Piscine            427\n",
       "Terrain            403\n",
       "Balcon             396\n",
       "Salles de bains    283\n",
       "Chambres           270\n",
       "Etages             218\n",
       "Total              120\n",
       "Type                90\n",
       "Habitable           72\n",
       "Pièces              62\n",
       "address              9\n",
       "prix                 0\n",
       "dtype: int64"
      ]
     },
     "execution_count": 48,
     "metadata": {},
     "output_type": "execute_result"
    }
   ],
   "source": [
    "df_star.isna().sum().sort_values(ascending=False)"
   ]
  },
  {
   "cell_type": "markdown",
   "metadata": {},
   "source": [
    "### remax data"
   ]
  },
  {
   "cell_type": "code",
   "execution_count": 49,
   "metadata": {},
   "outputs": [
    {
     "data": {
      "text/html": [
       "<div>\n",
       "<style scoped>\n",
       "    .dataframe tbody tr th:only-of-type {\n",
       "        vertical-align: middle;\n",
       "    }\n",
       "\n",
       "    .dataframe tbody tr th {\n",
       "        vertical-align: top;\n",
       "    }\n",
       "\n",
       "    .dataframe thead th {\n",
       "        text-align: right;\n",
       "    }\n",
       "</style>\n",
       "<table border=\"1\" class=\"dataframe\">\n",
       "  <thead>\n",
       "    <tr style=\"text-align: right;\">\n",
       "      <th></th>\n",
       "      <th>statut</th>\n",
       "      <th>link</th>\n",
       "      <th>title</th>\n",
       "      <th>prix</th>\n",
       "      <th>address</th>\n",
       "      <th>statut_marche</th>\n",
       "      <th>m²</th>\n",
       "      <th>Surface constructible (m²)</th>\n",
       "      <th>Année/Mois de Construction</th>\n",
       "      <th>Places de parking</th>\n",
       "      <th>...</th>\n",
       "      <th>Upgraded interior</th>\n",
       "      <th>Energy Efficient</th>\n",
       "      <th>Tennis Court</th>\n",
       "      <th>Année de construction</th>\n",
       "      <th>Baie Vitrée</th>\n",
       "      <th>Garage avec porte automatisée</th>\n",
       "      <th>Garage individuel</th>\n",
       "      <th>Brique</th>\n",
       "      <th>Accès facile en voiture</th>\n",
       "      <th>Villa</th>\n",
       "    </tr>\n",
       "  </thead>\n",
       "  <tbody>\n",
       "    <tr>\n",
       "      <th>0</th>\n",
       "      <td>Vente</td>\n",
       "      <td>https://www.remax.com.tn/fr-tn/biens/apparteme...</td>\n",
       "      <td>Appartement - Vente - Ennasr 1-2 Ariana Tunisie</td>\n",
       "      <td>386,000 TND</td>\n",
       "      <td>Ennasr 1-2 - Ariana - Tunisie</td>\n",
       "      <td>Nouveau sur le marché</td>\n",
       "      <td>122</td>\n",
       "      <td>122</td>\n",
       "      <td>2018/01</td>\n",
       "      <td>11.0</td>\n",
       "      <td>...</td>\n",
       "      <td>NaN</td>\n",
       "      <td>NaN</td>\n",
       "      <td>NaN</td>\n",
       "      <td>NaN</td>\n",
       "      <td>NaN</td>\n",
       "      <td>NaN</td>\n",
       "      <td>NaN</td>\n",
       "      <td>NaN</td>\n",
       "      <td>NaN</td>\n",
       "      <td>NaN</td>\n",
       "    </tr>\n",
       "    <tr>\n",
       "      <th>1</th>\n",
       "      <td>Vente</td>\n",
       "      <td>https://www.remax.com.tn/fr-tn/biens/terrain-a...</td>\n",
       "      <td>Terrain agricole - Vente - Enfida Sousse Tunisie</td>\n",
       "      <td>500,000 TND</td>\n",
       "      <td>Enfida - 4030 - Enfida - Sousse - Tunisie</td>\n",
       "      <td>Excellente valeur</td>\n",
       "      <td>250,000</td>\n",
       "      <td>100</td>\n",
       "      <td>2019/12</td>\n",
       "      <td>NaN</td>\n",
       "      <td>...</td>\n",
       "      <td>NaN</td>\n",
       "      <td>NaN</td>\n",
       "      <td>NaN</td>\n",
       "      <td>NaN</td>\n",
       "      <td>NaN</td>\n",
       "      <td>NaN</td>\n",
       "      <td>NaN</td>\n",
       "      <td>NaN</td>\n",
       "      <td>NaN</td>\n",
       "      <td>NaN</td>\n",
       "    </tr>\n",
       "    <tr>\n",
       "      <th>2</th>\n",
       "      <td>Vente</td>\n",
       "      <td>https://www.remax.com.tn/fr-tn/biens/etage-de-...</td>\n",
       "      <td>Etage de Maison/ Villa - Vente - Hammam Ghezèz...</td>\n",
       "      <td>2,000,000 TND</td>\n",
       "      <td>Hammam Ghezèze - Nabeul - Tunisie</td>\n",
       "      <td>Nouveau sur le marché</td>\n",
       "      <td>790</td>\n",
       "      <td>600</td>\n",
       "      <td>2025/01</td>\n",
       "      <td>4.0</td>\n",
       "      <td>...</td>\n",
       "      <td>NaN</td>\n",
       "      <td>NaN</td>\n",
       "      <td>NaN</td>\n",
       "      <td>NaN</td>\n",
       "      <td>NaN</td>\n",
       "      <td>NaN</td>\n",
       "      <td>NaN</td>\n",
       "      <td>NaN</td>\n",
       "      <td>NaN</td>\n",
       "      <td>NaN</td>\n",
       "    </tr>\n",
       "  </tbody>\n",
       "</table>\n",
       "<p>3 rows × 148 columns</p>\n",
       "</div>"
      ],
      "text/plain": [
       "  statut                                               link  \\\n",
       "0  Vente  https://www.remax.com.tn/fr-tn/biens/apparteme...   \n",
       "1  Vente  https://www.remax.com.tn/fr-tn/biens/terrain-a...   \n",
       "2  Vente  https://www.remax.com.tn/fr-tn/biens/etage-de-...   \n",
       "\n",
       "                                               title           prix  \\\n",
       "0    Appartement - Vente - Ennasr 1-2 Ariana Tunisie    386,000 TND   \n",
       "1   Terrain agricole - Vente - Enfida Sousse Tunisie    500,000 TND   \n",
       "2  Etage de Maison/ Villa - Vente - Hammam Ghezèz...  2,000,000 TND   \n",
       "\n",
       "                                     address          statut_marche       m²  \\\n",
       "0              Ennasr 1-2 - Ariana - Tunisie  Nouveau sur le marché      122   \n",
       "1  Enfida - 4030 - Enfida - Sousse - Tunisie      Excellente valeur  250,000   \n",
       "2          Hammam Ghezèze - Nabeul - Tunisie  Nouveau sur le marché      790   \n",
       "\n",
       "  Surface constructible (m²) Année/Mois de Construction  Places de parking  \\\n",
       "0                        122                    2018/01               11.0   \n",
       "1                        100                    2019/12                NaN   \n",
       "2                        600                    2025/01                4.0   \n",
       "\n",
       "   ...  Upgraded interior  Energy Efficient  Tennis Court  \\\n",
       "0  ...                NaN               NaN           NaN   \n",
       "1  ...                NaN               NaN           NaN   \n",
       "2  ...                NaN               NaN           NaN   \n",
       "\n",
       "   Année de construction  Baie Vitrée  Garage avec porte automatisée  \\\n",
       "0                    NaN          NaN                            NaN   \n",
       "1                    NaN          NaN                            NaN   \n",
       "2                    NaN          NaN                            NaN   \n",
       "\n",
       "   Garage individuel  Brique  Accès facile en voiture  Villa  \n",
       "0                NaN     NaN                      NaN    NaN  \n",
       "1                NaN     NaN                      NaN    NaN  \n",
       "2                NaN     NaN                      NaN    NaN  \n",
       "\n",
       "[3 rows x 148 columns]"
      ]
     },
     "execution_count": 49,
     "metadata": {},
     "output_type": "execute_result"
    }
   ],
   "source": [
    "df_remax.head(3)"
   ]
  },
  {
   "cell_type": "code",
   "execution_count": 50,
   "metadata": {},
   "outputs": [
    {
     "data": {
      "text/plain": [
       "(583, 148)"
      ]
     },
     "execution_count": 50,
     "metadata": {},
     "output_type": "execute_result"
    }
   ],
   "source": [
    "df_remax.shape"
   ]
  },
  {
   "cell_type": "code",
   "execution_count": 51,
   "metadata": {},
   "outputs": [
    {
     "data": {
      "text/plain": [
       "Index(['statut', 'link', 'title', 'prix', 'address', 'statut_marche', 'm²',\n",
       "       'Surface constructible (m²)', 'Année/Mois de Construction',\n",
       "       'Places de parking',\n",
       "       ...\n",
       "       'Upgraded interior', 'Energy Efficient', 'Tennis Court',\n",
       "       'Année de construction', 'Baie Vitrée', 'Garage avec porte automatisée',\n",
       "       'Garage individuel', 'Brique', 'Accès facile en voiture', 'Villa'],\n",
       "      dtype='object', length=148)"
      ]
     },
     "execution_count": 51,
     "metadata": {},
     "output_type": "execute_result"
    }
   ],
   "source": [
    "df_remax.columns"
   ]
  },
  {
   "cell_type": "code",
   "execution_count": 52,
   "metadata": {},
   "outputs": [
    {
     "data": {
      "text/plain": [
       "statut                          0\n",
       "link                            0\n",
       "title                           0\n",
       "prix                            0\n",
       "address                         0\n",
       "m²                             75\n",
       "statut_marche                 135\n",
       "Surface constructible (m²)    154\n",
       "Nombre de pièces              198\n",
       "Nombre de chambres            208\n",
       "dtype: int64"
      ]
     },
     "execution_count": 52,
     "metadata": {},
     "output_type": "execute_result"
    }
   ],
   "source": [
    "df_remax.isna().sum().sort_values(ascending=True).head(10)"
   ]
  },
  {
   "cell_type": "code",
   "execution_count": 53,
   "metadata": {},
   "outputs": [
    {
     "data": {
      "text/html": [
       "<div>\n",
       "<style scoped>\n",
       "    .dataframe tbody tr th:only-of-type {\n",
       "        vertical-align: middle;\n",
       "    }\n",
       "\n",
       "    .dataframe tbody tr th {\n",
       "        vertical-align: top;\n",
       "    }\n",
       "\n",
       "    .dataframe thead th {\n",
       "        text-align: right;\n",
       "    }\n",
       "</style>\n",
       "<table border=\"1\" class=\"dataframe\">\n",
       "  <thead>\n",
       "    <tr style=\"text-align: right;\">\n",
       "      <th></th>\n",
       "      <th>title</th>\n",
       "      <th>address</th>\n",
       "      <th>m²</th>\n",
       "      <th>Surface constructible (m²)</th>\n",
       "      <th>Surface Terrain (m²)</th>\n",
       "      <th>Nombre de pièces</th>\n",
       "      <th>Nombre salles de bain</th>\n",
       "      <th>Nombre de chambres</th>\n",
       "      <th>Garage</th>\n",
       "      <th>Garage individuel</th>\n",
       "      <th>Garage avec porte automatisée</th>\n",
       "      <th>Jardin</th>\n",
       "      <th>Balcon</th>\n",
       "      <th>Meublé</th>\n",
       "      <th>Piscine</th>\n",
       "      <th>Piscine extérieure</th>\n",
       "      <th>Nombre d'étages</th>\n",
       "      <th>prix</th>\n",
       "    </tr>\n",
       "  </thead>\n",
       "  <tbody>\n",
       "    <tr>\n",
       "      <th>0</th>\n",
       "      <td>Appartement - Vente - Ennasr 1-2 Ariana Tunisie</td>\n",
       "      <td>Ennasr 1-2 - Ariana - Tunisie</td>\n",
       "      <td>122</td>\n",
       "      <td>122</td>\n",
       "      <td>NaN</td>\n",
       "      <td>NaN</td>\n",
       "      <td>NaN</td>\n",
       "      <td>NaN</td>\n",
       "      <td>1.0</td>\n",
       "      <td>NaN</td>\n",
       "      <td>NaN</td>\n",
       "      <td>NaN</td>\n",
       "      <td>NaN</td>\n",
       "      <td>NaN</td>\n",
       "      <td>NaN</td>\n",
       "      <td>NaN</td>\n",
       "      <td>2.0</td>\n",
       "      <td>386,000 TND</td>\n",
       "    </tr>\n",
       "    <tr>\n",
       "      <th>1</th>\n",
       "      <td>Terrain agricole - Vente - Enfida Sousse Tunisie</td>\n",
       "      <td>Enfida - 4030 - Enfida - Sousse - Tunisie</td>\n",
       "      <td>250,000</td>\n",
       "      <td>100</td>\n",
       "      <td>250,000</td>\n",
       "      <td>2.0</td>\n",
       "      <td>1.0</td>\n",
       "      <td>NaN</td>\n",
       "      <td>NaN</td>\n",
       "      <td>NaN</td>\n",
       "      <td>NaN</td>\n",
       "      <td>NaN</td>\n",
       "      <td>NaN</td>\n",
       "      <td>NaN</td>\n",
       "      <td>NaN</td>\n",
       "      <td>NaN</td>\n",
       "      <td>NaN</td>\n",
       "      <td>500,000 TND</td>\n",
       "    </tr>\n",
       "    <tr>\n",
       "      <th>2</th>\n",
       "      <td>Etage de Maison/ Villa - Vente - Hammam Ghezèz...</td>\n",
       "      <td>Hammam Ghezèze - Nabeul - Tunisie</td>\n",
       "      <td>790</td>\n",
       "      <td>600</td>\n",
       "      <td>660</td>\n",
       "      <td>5.0</td>\n",
       "      <td>7.0</td>\n",
       "      <td>8.0</td>\n",
       "      <td>NaN</td>\n",
       "      <td>NaN</td>\n",
       "      <td>NaN</td>\n",
       "      <td>1.0</td>\n",
       "      <td>1.0</td>\n",
       "      <td>NaN</td>\n",
       "      <td>NaN</td>\n",
       "      <td>NaN</td>\n",
       "      <td>2.0</td>\n",
       "      <td>2,000,000 TND</td>\n",
       "    </tr>\n",
       "  </tbody>\n",
       "</table>\n",
       "</div>"
      ],
      "text/plain": [
       "                                               title  \\\n",
       "0    Appartement - Vente - Ennasr 1-2 Ariana Tunisie   \n",
       "1   Terrain agricole - Vente - Enfida Sousse Tunisie   \n",
       "2  Etage de Maison/ Villa - Vente - Hammam Ghezèz...   \n",
       "\n",
       "                                     address       m²  \\\n",
       "0              Ennasr 1-2 - Ariana - Tunisie      122   \n",
       "1  Enfida - 4030 - Enfida - Sousse - Tunisie  250,000   \n",
       "2          Hammam Ghezèze - Nabeul - Tunisie      790   \n",
       "\n",
       "  Surface constructible (m²) Surface Terrain (m²)  Nombre de pièces  \\\n",
       "0                        122                  NaN               NaN   \n",
       "1                        100              250,000               2.0   \n",
       "2                        600                  660               5.0   \n",
       "\n",
       "   Nombre salles de bain  Nombre de chambres  Garage  Garage individuel  \\\n",
       "0                    NaN                 NaN     1.0                NaN   \n",
       "1                    1.0                 NaN     NaN                NaN   \n",
       "2                    7.0                 8.0     NaN                NaN   \n",
       "\n",
       "   Garage avec porte automatisée  Jardin  Balcon  Meublé  Piscine  \\\n",
       "0                            NaN     NaN     NaN     NaN      NaN   \n",
       "1                            NaN     NaN     NaN     NaN      NaN   \n",
       "2                            NaN     1.0     1.0     NaN      NaN   \n",
       "\n",
       "   Piscine extérieure  Nombre d'étages           prix  \n",
       "0                 NaN              2.0    386,000 TND  \n",
       "1                 NaN              NaN    500,000 TND  \n",
       "2                 NaN              2.0  2,000,000 TND  "
      ]
     },
     "execution_count": 53,
     "metadata": {},
     "output_type": "execute_result"
    }
   ],
   "source": [
    "columns_to_keep=['title','address', 'm²', 'Surface constructible (m²)','Surface Terrain (m²)',\n",
    "       'Nombre de pièces', 'Nombre salles de bain', 'Nombre de chambres',\n",
    "       'Garage','Garage individuel','Garage avec porte automatisée','Jardin',\n",
    "       'Balcon','Meublé','Piscine','Piscine extérieure',\"Nombre d'étages\", 'prix']\n",
    "df_remax=df_remax[columns_to_keep]\n",
    "df_remax.head(3)\n"
   ]
  },
  {
   "cell_type": "code",
   "execution_count": 54,
   "metadata": {},
   "outputs": [
    {
     "data": {
      "text/html": [
       "<div>\n",
       "<style scoped>\n",
       "    .dataframe tbody tr th:only-of-type {\n",
       "        vertical-align: middle;\n",
       "    }\n",
       "\n",
       "    .dataframe tbody tr th {\n",
       "        vertical-align: top;\n",
       "    }\n",
       "\n",
       "    .dataframe thead th {\n",
       "        text-align: right;\n",
       "    }\n",
       "</style>\n",
       "<table border=\"1\" class=\"dataframe\">\n",
       "  <thead>\n",
       "    <tr style=\"text-align: right;\">\n",
       "      <th></th>\n",
       "      <th>title</th>\n",
       "      <th>address</th>\n",
       "      <th>Habitable</th>\n",
       "      <th>Terrain</th>\n",
       "      <th>Total</th>\n",
       "      <th>Pièces</th>\n",
       "      <th>Salles de bains</th>\n",
       "      <th>Chambres</th>\n",
       "      <th>Garage</th>\n",
       "      <th>Garage individuel</th>\n",
       "      <th>Garage avec porte automatisée</th>\n",
       "      <th>Jardin</th>\n",
       "      <th>Balcon</th>\n",
       "      <th>Meublé</th>\n",
       "      <th>Piscine</th>\n",
       "      <th>Piscine extérieure</th>\n",
       "      <th>Etages</th>\n",
       "      <th>prix</th>\n",
       "    </tr>\n",
       "  </thead>\n",
       "  <tbody>\n",
       "    <tr>\n",
       "      <th>0</th>\n",
       "      <td>Appartement - Vente - Ennasr 1-2 Ariana Tunisie</td>\n",
       "      <td>Ennasr 1-2 - Ariana - Tunisie</td>\n",
       "      <td>122</td>\n",
       "      <td>122</td>\n",
       "      <td>NaN</td>\n",
       "      <td>NaN</td>\n",
       "      <td>NaN</td>\n",
       "      <td>NaN</td>\n",
       "      <td>1.0</td>\n",
       "      <td>NaN</td>\n",
       "      <td>NaN</td>\n",
       "      <td>NaN</td>\n",
       "      <td>NaN</td>\n",
       "      <td>NaN</td>\n",
       "      <td>NaN</td>\n",
       "      <td>NaN</td>\n",
       "      <td>2.0</td>\n",
       "      <td>386,000 TND</td>\n",
       "    </tr>\n",
       "  </tbody>\n",
       "</table>\n",
       "</div>"
      ],
      "text/plain": [
       "                                             title  \\\n",
       "0  Appartement - Vente - Ennasr 1-2 Ariana Tunisie   \n",
       "\n",
       "                         address Habitable Terrain Total  Pièces  \\\n",
       "0  Ennasr 1-2 - Ariana - Tunisie       122     122   NaN     NaN   \n",
       "\n",
       "   Salles de bains  Chambres  Garage  Garage individuel  \\\n",
       "0              NaN       NaN     1.0                NaN   \n",
       "\n",
       "   Garage avec porte automatisée  Jardin  Balcon  Meublé  Piscine  \\\n",
       "0                            NaN     NaN     NaN     NaN      NaN   \n",
       "\n",
       "   Piscine extérieure  Etages         prix  \n",
       "0                 NaN     2.0  386,000 TND  "
      ]
     },
     "execution_count": 54,
     "metadata": {},
     "output_type": "execute_result"
    }
   ],
   "source": [
    "df_remax.rename(columns={\n",
    "    'm²': 'Habitable',\n",
    "    'Surface constructible (m²)': 'Terrain',\n",
    "    'Surface Terrain (m²)': 'Total',\n",
    "    'Nombre de chambres':'Chambres',\n",
    "    'Nombre de pièces':'Pièces',\n",
    "    'Nombre salles de bain':'Salles de bains',\n",
    "    \"Nombre d'étages\":'Etages'\n",
    "}, inplace=True)\n",
    "df_remax.head(1)"
   ]
  },
  {
   "cell_type": "markdown",
   "metadata": {},
   "source": [
    "### Data Cleaning"
   ]
  },
  {
   "cell_type": "markdown",
   "metadata": {},
   "source": [
    "### properstar"
   ]
  },
  {
   "cell_type": "markdown",
   "metadata": {},
   "source": [
    "#### Prix column"
   ]
  },
  {
   "cell_type": "code",
   "execution_count": 55,
   "metadata": {},
   "outputs": [
    {
     "data": {
      "text/plain": [
       "73      1,500,000 TND\n",
       "191    Nous consulter\n",
       "309       592,000 TND\n",
       "Name: prix, dtype: object"
      ]
     },
     "execution_count": 55,
     "metadata": {},
     "output_type": "execute_result"
    }
   ],
   "source": [
    "df_remax['prix'].sample(3)"
   ]
  },
  {
   "cell_type": "code",
   "execution_count": 56,
   "metadata": {},
   "outputs": [
    {
     "data": {
      "text/plain": [
       "19     269 383 €\n",
       "205    361 184 €\n",
       "123    151 998 €\n",
       "Name: prix, dtype: object"
      ]
     },
     "execution_count": 56,
     "metadata": {},
     "output_type": "execute_result"
    }
   ],
   "source": [
    "df_star['prix'].sample(3)\n",
    "#prices are in euro => we need to convert them to TND"
   ]
  },
  {
   "cell_type": "code",
   "execution_count": 57,
   "metadata": {},
   "outputs": [],
   "source": [
    "#update the price column\n",
    "df_star['prix'] = df_star['prix'].apply(lambda x: str(x).replace('€','') if isinstance(x, str) else x)\n",
    "df_star['prix'] = df_star['prix'].apply(lambda x: str(x).replace('\\u202f', '') if isinstance(x, str) else x)\n",
    "df_star['prix'] = df_star['prix'].apply(lambda x: str(x).replace(' ','') if isinstance(x, str) else x)\n",
    "df_star['prix'] = df_star['prix'].apply(lambda x: x.strip() if isinstance(x, str) else x)\n",
    "df_star['prix'] = df_star['prix'].apply(lambda x: x + \"000\" if isinstance(x, str) and len(x) < 4 else x)\n",
    "df_star['prix'] = pd.to_numeric(df_star['prix'], errors='coerce')\n"
   ]
  },
  {
   "cell_type": "code",
   "execution_count": 58,
   "metadata": {},
   "outputs": [],
   "source": [
    "API_KEY = \"cur_live_VxYPVVMtGszXGu8LDX9l4AbamFmdEfbOYFDt0ojS\"  \n",
    "API_URL = f\"https://api.currencyapi.com/v3/latest?apikey={API_KEY}&currencies=TND&base_currency=EUR\"\n",
    "# Fetch exchange rate from API\n",
    "response = requests.get(API_URL)\n",
    "data = response.json()\n",
    "# Extract the exchange rate\n",
    "eur_to_tnd_rate = data['data']['TND']['value']\n",
    "# Convert 'prix' column from EUR to TND\n",
    "df_star['prix'] = df_star['prix'] * eur_to_tnd_rate\n",
    "df_star['prix'] = df_star['prix'].apply(lambda x: str(int(x)) if isinstance(x, (int, float)) else x)\n",
    "df_star['prix'] = pd.to_numeric(df_star['prix'], errors='coerce')\n"
   ]
  },
  {
   "cell_type": "markdown",
   "metadata": {},
   "source": [
    "#### Habitable,Total and Terrain"
   ]
  },
  {
   "cell_type": "code",
   "execution_count": 59,
   "metadata": {},
   "outputs": [
    {
     "data": {
      "text/html": [
       "<div>\n",
       "<style scoped>\n",
       "    .dataframe tbody tr th:only-of-type {\n",
       "        vertical-align: middle;\n",
       "    }\n",
       "\n",
       "    .dataframe tbody tr th {\n",
       "        vertical-align: top;\n",
       "    }\n",
       "\n",
       "    .dataframe thead th {\n",
       "        text-align: right;\n",
       "    }\n",
       "</style>\n",
       "<table border=\"1\" class=\"dataframe\">\n",
       "  <thead>\n",
       "    <tr style=\"text-align: right;\">\n",
       "      <th></th>\n",
       "      <th>Habitable</th>\n",
       "      <th>Total</th>\n",
       "      <th>Terrain</th>\n",
       "    </tr>\n",
       "  </thead>\n",
       "  <tbody>\n",
       "    <tr>\n",
       "      <th>311</th>\n",
       "      <td>535 m²</td>\n",
       "      <td>535 m²</td>\n",
       "      <td>NaN</td>\n",
       "    </tr>\n",
       "  </tbody>\n",
       "</table>\n",
       "</div>"
      ],
      "text/plain": [
       "    Habitable   Total Terrain\n",
       "311    535 m²  535 m²     NaN"
      ]
     },
     "execution_count": 59,
     "metadata": {},
     "output_type": "execute_result"
    }
   ],
   "source": [
    "df_star[['Habitable','Total','Terrain']].sample(1)"
   ]
  },
  {
   "cell_type": "code",
   "execution_count": 60,
   "metadata": {},
   "outputs": [
    {
     "data": {
      "text/html": [
       "<div>\n",
       "<style scoped>\n",
       "    .dataframe tbody tr th:only-of-type {\n",
       "        vertical-align: middle;\n",
       "    }\n",
       "\n",
       "    .dataframe tbody tr th {\n",
       "        vertical-align: top;\n",
       "    }\n",
       "\n",
       "    .dataframe thead th {\n",
       "        text-align: right;\n",
       "    }\n",
       "</style>\n",
       "<table border=\"1\" class=\"dataframe\">\n",
       "  <thead>\n",
       "    <tr style=\"text-align: right;\">\n",
       "      <th></th>\n",
       "      <th>Habitable</th>\n",
       "      <th>Total</th>\n",
       "      <th>Terrain</th>\n",
       "    </tr>\n",
       "  </thead>\n",
       "  <tbody>\n",
       "    <tr>\n",
       "      <th>182</th>\n",
       "      <td>102</td>\n",
       "      <td>NaN</td>\n",
       "      <td>102</td>\n",
       "    </tr>\n",
       "  </tbody>\n",
       "</table>\n",
       "</div>"
      ],
      "text/plain": [
       "    Habitable Total Terrain\n",
       "182       102   NaN     102"
      ]
     },
     "execution_count": 60,
     "metadata": {},
     "output_type": "execute_result"
    }
   ],
   "source": [
    "df_remax[['Habitable','Total','Terrain']].sample(1)"
   ]
  },
  {
   "cell_type": "code",
   "execution_count": 61,
   "metadata": {},
   "outputs": [
    {
     "data": {
      "text/html": [
       "<div>\n",
       "<style scoped>\n",
       "    .dataframe tbody tr th:only-of-type {\n",
       "        vertical-align: middle;\n",
       "    }\n",
       "\n",
       "    .dataframe tbody tr th {\n",
       "        vertical-align: top;\n",
       "    }\n",
       "\n",
       "    .dataframe thead th {\n",
       "        text-align: right;\n",
       "    }\n",
       "</style>\n",
       "<table border=\"1\" class=\"dataframe\">\n",
       "  <thead>\n",
       "    <tr style=\"text-align: right;\">\n",
       "      <th></th>\n",
       "      <th>Habitable</th>\n",
       "      <th>Total</th>\n",
       "      <th>Terrain</th>\n",
       "    </tr>\n",
       "  </thead>\n",
       "  <tbody>\n",
       "    <tr>\n",
       "      <th>0</th>\n",
       "      <td>380.0</td>\n",
       "      <td>380.0</td>\n",
       "      <td>NaN</td>\n",
       "    </tr>\n",
       "    <tr>\n",
       "      <th>1</th>\n",
       "      <td>103.0</td>\n",
       "      <td>103.0</td>\n",
       "      <td>NaN</td>\n",
       "    </tr>\n",
       "    <tr>\n",
       "      <th>2</th>\n",
       "      <td>354.0</td>\n",
       "      <td>354.0</td>\n",
       "      <td>NaN</td>\n",
       "    </tr>\n",
       "    <tr>\n",
       "      <th>3</th>\n",
       "      <td>135.0</td>\n",
       "      <td>155.0</td>\n",
       "      <td>NaN</td>\n",
       "    </tr>\n",
       "    <tr>\n",
       "      <th>4</th>\n",
       "      <td>630.0</td>\n",
       "      <td>NaN</td>\n",
       "      <td>NaN</td>\n",
       "    </tr>\n",
       "  </tbody>\n",
       "</table>\n",
       "</div>"
      ],
      "text/plain": [
       "   Habitable  Total  Terrain\n",
       "0      380.0  380.0      NaN\n",
       "1      103.0  103.0      NaN\n",
       "2      354.0  354.0      NaN\n",
       "3      135.0  155.0      NaN\n",
       "4      630.0    NaN      NaN"
      ]
     },
     "execution_count": 61,
     "metadata": {},
     "output_type": "execute_result"
    }
   ],
   "source": [
    "def clean_size_column(df, col):\n",
    "    \"\"\"\n",
    "    Cleans a size-related column by:\n",
    "    1. Removing 'm²' and any non-breaking spaces.\n",
    "    2. Stripping leading/trailing spaces.\n",
    "    3. Converting cleaned values to numeric (float).\n",
    "    4. Handling missing or invalid values gracefully.\n",
    "    \"\"\"\n",
    "    df[col] = df[col].astype(str)  # Convert all to string to prevent errors\n",
    "    df[col] = df[col].str.replace('m²', '', regex=False)  # Remove 'm²'\n",
    "    df[col] = df[col].str.replace('\\u202f', '', regex=False)  # Remove non-breaking spaces\n",
    "    df[col] = df[col].str.replace(' ', '', regex=False)  # Remove normal spaces\n",
    "    df[col] = df[col].str.strip()  # Strip leading/trailing spaces\n",
    "    df[col] = pd.to_numeric(df[col], errors='coerce')  # Convert to float, setting errors to NaN\n",
    "\n",
    "# Example usage\n",
    "columns_to_clean = ['Habitable', 'Total', 'Terrain']  # List of size-related columns\n",
    "for col in columns_to_clean:\n",
    "    clean_size_column(df_star, col)\n",
    "\n",
    "# Check the cleaned columns\n",
    "df_star[columns_to_clean].head()\n"
   ]
  },
  {
   "cell_type": "markdown",
   "metadata": {},
   "source": [
    "#### Type column"
   ]
  },
  {
   "cell_type": "code",
   "execution_count": 62,
   "metadata": {},
   "outputs": [
    {
     "data": {
      "text/plain": [
       "Type\n",
       "Appartement    293\n",
       "Maison         125\n",
       "Commercial      13\n",
       "Name: count, dtype: int64"
      ]
     },
     "execution_count": 62,
     "metadata": {},
     "output_type": "execute_result"
    }
   ],
   "source": [
    "df_star['Type'].value_counts()"
   ]
  },
  {
   "cell_type": "code",
   "execution_count": 63,
   "metadata": {},
   "outputs": [
    {
     "data": {
      "text/plain": [
       "Type\n",
       "Residential    418\n",
       "Commercial      13\n",
       "Name: count, dtype: int64"
      ]
     },
     "execution_count": 63,
     "metadata": {},
     "output_type": "execute_result"
    }
   ],
   "source": [
    "df_star['Type'] = df_star['Type'].replace({'Appartement': 'Residential','Maison':'Residential'})\n",
    "df_star['Type'].value_counts()"
   ]
  },
  {
   "cell_type": "markdown",
   "metadata": {},
   "source": [
    "### remax"
   ]
  },
  {
   "cell_type": "markdown",
   "metadata": {},
   "source": [
    "#### title column"
   ]
  },
  {
   "cell_type": "code",
   "execution_count": 64,
   "metadata": {},
   "outputs": [
    {
     "data": {
      "text/html": [
       "<div>\n",
       "<style scoped>\n",
       "    .dataframe tbody tr th:only-of-type {\n",
       "        vertical-align: middle;\n",
       "    }\n",
       "\n",
       "    .dataframe tbody tr th {\n",
       "        vertical-align: top;\n",
       "    }\n",
       "\n",
       "    .dataframe thead th {\n",
       "        text-align: right;\n",
       "    }\n",
       "</style>\n",
       "<table border=\"1\" class=\"dataframe\">\n",
       "  <thead>\n",
       "    <tr style=\"text-align: right;\">\n",
       "      <th></th>\n",
       "      <th>title</th>\n",
       "    </tr>\n",
       "  </thead>\n",
       "  <tbody>\n",
       "    <tr>\n",
       "      <th>452</th>\n",
       "      <td>Appartement - Vente - Hammamet Sud Nabeul Tunisie</td>\n",
       "    </tr>\n",
       "    <tr>\n",
       "      <th>211</th>\n",
       "      <td>Duplex - Vente - La Marsa Tunis Tunisie</td>\n",
       "    </tr>\n",
       "    <tr>\n",
       "      <th>10</th>\n",
       "      <td>Building - Vente - El Omrane supérieur Tunis T...</td>\n",
       "    </tr>\n",
       "  </tbody>\n",
       "</table>\n",
       "</div>"
      ],
      "text/plain": [
       "                                                 title\n",
       "452  Appartement - Vente - Hammamet Sud Nabeul Tunisie\n",
       "211            Duplex - Vente - La Marsa Tunis Tunisie\n",
       "10   Building - Vente - El Omrane supérieur Tunis T..."
      ]
     },
     "execution_count": 64,
     "metadata": {},
     "output_type": "execute_result"
    }
   ],
   "source": [
    "df_remax[['title']].sample(3)"
   ]
  },
  {
   "cell_type": "code",
   "execution_count": 65,
   "metadata": {},
   "outputs": [
    {
     "data": {
      "text/plain": [
       "Type\n",
       "Residential    354\n",
       "Other          113\n",
       "Land            90\n",
       "Commercial      22\n",
       "Name: count, dtype: int64"
      ]
     },
     "execution_count": 65,
     "metadata": {},
     "output_type": "execute_result"
    }
   ],
   "source": [
    "df_remax['title'] = df_remax['title'].str.split('-').str[0]\n",
    "# Remove trailing/leading spaces\n",
    "df_remax['Type'] = df_remax['title'].str.strip()\n",
    "\n",
    "# Handle specific cases for \"1\" and \"6 and More\"\n",
    "df_remax = df_remax[ (df_remax['Type']!='6 and More') & (df_remax['Type']!='1') ]\n",
    "\n",
    "# Optional: categorize property types\n",
    "def categorize_property(property_type):\n",
    "    if property_type in [\"Appartement\", \"Villa\", \"Maison\", \"Duplex\", \"Penthouse\", \"Studio\", \"Résidence\"]:\n",
    "        return \"Residential\"\n",
    "    elif property_type in [\"Commercial\", \"Showroom\", \"Bureau\", \"Office\", \"Local Commercial\", \"Building\"]:\n",
    "        return \"Commercial\"\n",
    "    elif property_type in [\"Terrain\", \"Lot\", \"Land\", \"Agricole\"]:\n",
    "        return \"Land\"\n",
    "    elif property_type in [\"Hôtel\", \"Warehouse\", \"Usine\", \"Entrepôt\", \"Industrie\"]:\n",
    "        return \"Industrial\"\n",
    "    else:\n",
    "        return \"Other\"\n",
    "df_remax['Type'] = df_remax['Type'].apply(categorize_property)\n",
    "df_remax=df_remax.drop(columns=['title'])\n",
    "df_remax['Type'].value_counts()"
   ]
  },
  {
   "cell_type": "markdown",
   "metadata": {},
   "source": [
    "#### other columns"
   ]
  },
  {
   "cell_type": "code",
   "execution_count": 66,
   "metadata": {},
   "outputs": [
    {
     "data": {
      "text/html": [
       "<div>\n",
       "<style scoped>\n",
       "    .dataframe tbody tr th:only-of-type {\n",
       "        vertical-align: middle;\n",
       "    }\n",
       "\n",
       "    .dataframe tbody tr th {\n",
       "        vertical-align: top;\n",
       "    }\n",
       "\n",
       "    .dataframe thead th {\n",
       "        text-align: right;\n",
       "    }\n",
       "</style>\n",
       "<table border=\"1\" class=\"dataframe\">\n",
       "  <thead>\n",
       "    <tr style=\"text-align: right;\">\n",
       "      <th></th>\n",
       "      <th>address</th>\n",
       "      <th>Habitable</th>\n",
       "      <th>Terrain</th>\n",
       "      <th>Total</th>\n",
       "      <th>Pièces</th>\n",
       "      <th>Salles de bains</th>\n",
       "      <th>Chambres</th>\n",
       "      <th>Garage</th>\n",
       "      <th>Garage individuel</th>\n",
       "      <th>Garage avec porte automatisée</th>\n",
       "      <th>Jardin</th>\n",
       "      <th>Balcon</th>\n",
       "      <th>Meublé</th>\n",
       "      <th>Piscine</th>\n",
       "      <th>Piscine extérieure</th>\n",
       "      <th>Etages</th>\n",
       "      <th>prix</th>\n",
       "      <th>Type</th>\n",
       "    </tr>\n",
       "  </thead>\n",
       "  <tbody>\n",
       "    <tr>\n",
       "      <th>554</th>\n",
       "      <td>Djerba - Houmt Souk - Djerba - Houmt Souk - Mé...</td>\n",
       "      <td>400</td>\n",
       "      <td>200</td>\n",
       "      <td>400</td>\n",
       "      <td>NaN</td>\n",
       "      <td>NaN</td>\n",
       "      <td>NaN</td>\n",
       "      <td>1.0</td>\n",
       "      <td>NaN</td>\n",
       "      <td>NaN</td>\n",
       "      <td>1.0</td>\n",
       "      <td>NaN</td>\n",
       "      <td>1.0</td>\n",
       "      <td>NaN</td>\n",
       "      <td>NaN</td>\n",
       "      <td>1.0</td>\n",
       "      <td>510,000 TND</td>\n",
       "      <td>Other</td>\n",
       "    </tr>\n",
       "  </tbody>\n",
       "</table>\n",
       "</div>"
      ],
      "text/plain": [
       "                                               address Habitable Terrain  \\\n",
       "554  Djerba - Houmt Souk - Djerba - Houmt Souk - Mé...       400     200   \n",
       "\n",
       "    Total  Pièces  Salles de bains  Chambres  Garage  Garage individuel  \\\n",
       "554   400     NaN              NaN       NaN     1.0                NaN   \n",
       "\n",
       "     Garage avec porte automatisée  Jardin  Balcon  Meublé  Piscine  \\\n",
       "554                            NaN     1.0     NaN     1.0      NaN   \n",
       "\n",
       "     Piscine extérieure  Etages         prix   Type  \n",
       "554                 NaN     1.0  510,000 TND  Other  "
      ]
     },
     "execution_count": 66,
     "metadata": {},
     "output_type": "execute_result"
    }
   ],
   "source": [
    "df_remax.sample(1)"
   ]
  },
  {
   "cell_type": "code",
   "execution_count": 67,
   "metadata": {},
   "outputs": [
    {
     "name": "stdout",
     "output_type": "stream",
     "text": [
      "<class 'pandas.core.frame.DataFrame'>\n",
      "Index: 579 entries, 0 to 582\n",
      "Data columns (total 18 columns):\n",
      " #   Column                         Non-Null Count  Dtype  \n",
      "---  ------                         --------------  -----  \n",
      " 0   address                        579 non-null    object \n",
      " 1   Habitable                      503 non-null    float64\n",
      " 2   Terrain                        425 non-null    float64\n",
      " 3   Total                          296 non-null    float64\n",
      " 4   Pièces                         383 non-null    float64\n",
      " 5   Salles de bains                371 non-null    float64\n",
      " 6   Chambres                       373 non-null    float64\n",
      " 7   Garage                         579 non-null    float64\n",
      " 8   Garage individuel              579 non-null    float64\n",
      " 9   Garage avec porte automatisée  579 non-null    float64\n",
      " 10  Jardin                         579 non-null    float64\n",
      " 11  Balcon                         579 non-null    float64\n",
      " 12  Meublé                         579 non-null    float64\n",
      " 13  Piscine                        579 non-null    float64\n",
      " 14  Piscine extérieure             579 non-null    float64\n",
      " 15  Etages                         332 non-null    float64\n",
      " 16  prix                           487 non-null    float64\n",
      " 17  Type                           579 non-null    object \n",
      "dtypes: float64(16), object(2)\n",
      "memory usage: 85.9+ KB\n"
     ]
    }
   ],
   "source": [
    "#change column types\n",
    "df_remax['Habitable'] = df_remax['Habitable'].apply(lambda x: str(x).replace(',', '.') if isinstance(x, str) else x)\n",
    "df_remax['Habitable'] = pd.to_numeric(df_remax['Habitable'], errors='coerce')\n",
    "df_remax['Total'] = df_remax['Total'].apply(lambda x: str(x).replace(',', '.') if isinstance(x, str) else x)\n",
    "df_remax['Total'] = pd.to_numeric(df_remax['Total'], errors='coerce')\n",
    "df_remax['Terrain'] = df_remax['Terrain'].apply(lambda x: str(x).replace(',', '.') if isinstance(x, str) else x)\n",
    "df_remax['Terrain'] = pd.to_numeric(df_remax['Terrain'], errors='coerce')\n",
    "\n",
    "df_remax['prix'] = df_remax['prix'].apply(lambda x: str(x).replace('TND','') if isinstance(x, str) else x)\n",
    "df_remax['prix'] = df_remax['prix'].apply(lambda x: str(x).replace(',','') if isinstance(x, str) else x)\n",
    "df_remax['prix'] = df_remax['prix'].apply(lambda x: x.strip() if isinstance(x, str) else x)\n",
    "df_remax['prix'] = pd.to_numeric(df_remax['prix'], errors='coerce')\n",
    "\n",
    "columns_with_zero=['Garage','Garage individuel','Garage avec porte automatisée','Jardin','Balcon','Meublé','Piscine','Piscine extérieure']\n",
    "for col in columns_with_zero:\n",
    "    df_remax[col]=df_remax[col].fillna(0)\n",
    "df_remax.info()"
   ]
  },
  {
   "cell_type": "code",
   "execution_count": 68,
   "metadata": {},
   "outputs": [
    {
     "data": {
      "text/html": [
       "<div>\n",
       "<style scoped>\n",
       "    .dataframe tbody tr th:only-of-type {\n",
       "        vertical-align: middle;\n",
       "    }\n",
       "\n",
       "    .dataframe tbody tr th {\n",
       "        vertical-align: top;\n",
       "    }\n",
       "\n",
       "    .dataframe thead th {\n",
       "        text-align: right;\n",
       "    }\n",
       "</style>\n",
       "<table border=\"1\" class=\"dataframe\">\n",
       "  <thead>\n",
       "    <tr style=\"text-align: right;\">\n",
       "      <th></th>\n",
       "      <th>address</th>\n",
       "      <th>Habitable</th>\n",
       "      <th>Terrain</th>\n",
       "      <th>Total</th>\n",
       "      <th>Pièces</th>\n",
       "      <th>Salles de bains</th>\n",
       "      <th>Chambres</th>\n",
       "      <th>Garage</th>\n",
       "      <th>Garage individuel</th>\n",
       "      <th>Garage avec porte automatisée</th>\n",
       "      <th>Jardin</th>\n",
       "      <th>Balcon</th>\n",
       "      <th>Meublé</th>\n",
       "      <th>Piscine</th>\n",
       "      <th>Piscine extérieure</th>\n",
       "      <th>Etages</th>\n",
       "      <th>prix</th>\n",
       "      <th>Type</th>\n",
       "    </tr>\n",
       "  </thead>\n",
       "  <tbody>\n",
       "    <tr>\n",
       "      <th>479</th>\n",
       "      <td>Djerba - Midoun - Médenine - Tunisie</td>\n",
       "      <td>7.029</td>\n",
       "      <td>NaN</td>\n",
       "      <td>192.0</td>\n",
       "      <td>NaN</td>\n",
       "      <td>NaN</td>\n",
       "      <td>NaN</td>\n",
       "      <td>1.0</td>\n",
       "      <td>0.0</td>\n",
       "      <td>0.0</td>\n",
       "      <td>1.0</td>\n",
       "      <td>0.0</td>\n",
       "      <td>0.0</td>\n",
       "      <td>0.0</td>\n",
       "      <td>0.0</td>\n",
       "      <td>NaN</td>\n",
       "      <td>NaN</td>\n",
       "      <td>Residential</td>\n",
       "    </tr>\n",
       "  </tbody>\n",
       "</table>\n",
       "</div>"
      ],
      "text/plain": [
       "                                  address  Habitable  Terrain  Total  Pièces  \\\n",
       "479  Djerba - Midoun - Médenine - Tunisie      7.029      NaN  192.0     NaN   \n",
       "\n",
       "     Salles de bains  Chambres  Garage  Garage individuel  \\\n",
       "479              NaN       NaN     1.0                0.0   \n",
       "\n",
       "     Garage avec porte automatisée  Jardin  Balcon  Meublé  Piscine  \\\n",
       "479                            0.0     1.0     0.0     0.0      0.0   \n",
       "\n",
       "     Piscine extérieure  Etages  prix         Type  \n",
       "479                 0.0     NaN   NaN  Residential  "
      ]
     },
     "execution_count": 68,
     "metadata": {},
     "output_type": "execute_result"
    }
   ],
   "source": [
    "df_remax.sample(1)"
   ]
  },
  {
   "cell_type": "code",
   "execution_count": 69,
   "metadata": {},
   "outputs": [],
   "source": [
    "df_remax['Garage'] = df_remax[['Garage', 'Garage individuel', 'Garage avec porte automatisée']].max(axis=1)"
   ]
  },
  {
   "cell_type": "code",
   "execution_count": 70,
   "metadata": {},
   "outputs": [],
   "source": [
    "df_remax['Piscine'] = df_remax[['Piscine', 'Piscine extérieure']].max(axis=1)"
   ]
  },
  {
   "cell_type": "code",
   "execution_count": 71,
   "metadata": {},
   "outputs": [
    {
     "data": {
      "text/html": [
       "<div>\n",
       "<style scoped>\n",
       "    .dataframe tbody tr th:only-of-type {\n",
       "        vertical-align: middle;\n",
       "    }\n",
       "\n",
       "    .dataframe tbody tr th {\n",
       "        vertical-align: top;\n",
       "    }\n",
       "\n",
       "    .dataframe thead th {\n",
       "        text-align: right;\n",
       "    }\n",
       "</style>\n",
       "<table border=\"1\" class=\"dataframe\">\n",
       "  <thead>\n",
       "    <tr style=\"text-align: right;\">\n",
       "      <th></th>\n",
       "      <th>address</th>\n",
       "      <th>Habitable</th>\n",
       "      <th>Terrain</th>\n",
       "      <th>Total</th>\n",
       "      <th>Pièces</th>\n",
       "      <th>Salles de bains</th>\n",
       "      <th>Chambres</th>\n",
       "      <th>Garage</th>\n",
       "      <th>Jardin</th>\n",
       "      <th>Balcon</th>\n",
       "      <th>Meublé</th>\n",
       "      <th>Piscine</th>\n",
       "      <th>Etages</th>\n",
       "      <th>prix</th>\n",
       "      <th>Type</th>\n",
       "    </tr>\n",
       "  </thead>\n",
       "  <tbody>\n",
       "    <tr>\n",
       "      <th>0</th>\n",
       "      <td>Ennasr 1-2 - Ariana - Tunisie</td>\n",
       "      <td>122.0</td>\n",
       "      <td>122.0</td>\n",
       "      <td>NaN</td>\n",
       "      <td>NaN</td>\n",
       "      <td>NaN</td>\n",
       "      <td>NaN</td>\n",
       "      <td>1.0</td>\n",
       "      <td>0.0</td>\n",
       "      <td>0.0</td>\n",
       "      <td>0.0</td>\n",
       "      <td>0.0</td>\n",
       "      <td>2.0</td>\n",
       "      <td>386000.0</td>\n",
       "      <td>Residential</td>\n",
       "    </tr>\n",
       "  </tbody>\n",
       "</table>\n",
       "</div>"
      ],
      "text/plain": [
       "                         address  Habitable  Terrain  Total  Pièces  \\\n",
       "0  Ennasr 1-2 - Ariana - Tunisie      122.0    122.0    NaN     NaN   \n",
       "\n",
       "   Salles de bains  Chambres  Garage  Jardin  Balcon  Meublé  Piscine  Etages  \\\n",
       "0              NaN       NaN     1.0     0.0     0.0     0.0      0.0     2.0   \n",
       "\n",
       "       prix         Type  \n",
       "0  386000.0  Residential  "
      ]
     },
     "execution_count": 71,
     "metadata": {},
     "output_type": "execute_result"
    }
   ],
   "source": [
    "#drop columns that we don't need\n",
    "columns_to_drop=['Garage individuel', 'Garage avec porte automatisée','Piscine extérieure']\n",
    "df_remax=df_remax.drop(columns_to_drop,axis=1)\n",
    "df_remax.head(1)"
   ]
  },
  {
   "cell_type": "markdown",
   "metadata": {},
   "source": [
    "#### combine the two dataframes into one"
   ]
  },
  {
   "cell_type": "code",
   "execution_count": 72,
   "metadata": {},
   "outputs": [
    {
     "name": "stdout",
     "output_type": "stream",
     "text": [
      "(1100, 15)\n"
     ]
    },
    {
     "data": {
      "text/html": [
       "<div>\n",
       "<style scoped>\n",
       "    .dataframe tbody tr th:only-of-type {\n",
       "        vertical-align: middle;\n",
       "    }\n",
       "\n",
       "    .dataframe tbody tr th {\n",
       "        vertical-align: top;\n",
       "    }\n",
       "\n",
       "    .dataframe thead th {\n",
       "        text-align: right;\n",
       "    }\n",
       "</style>\n",
       "<table border=\"1\" class=\"dataframe\">\n",
       "  <thead>\n",
       "    <tr style=\"text-align: right;\">\n",
       "      <th></th>\n",
       "      <th>address</th>\n",
       "      <th>Habitable</th>\n",
       "      <th>Terrain</th>\n",
       "      <th>Total</th>\n",
       "      <th>Pièces</th>\n",
       "      <th>Salles de bains</th>\n",
       "      <th>Chambres</th>\n",
       "      <th>Garage</th>\n",
       "      <th>Jardin</th>\n",
       "      <th>Balcon</th>\n",
       "      <th>Meublé</th>\n",
       "      <th>Piscine</th>\n",
       "      <th>Etages</th>\n",
       "      <th>prix</th>\n",
       "      <th>Type</th>\n",
       "    </tr>\n",
       "  </thead>\n",
       "  <tbody>\n",
       "    <tr>\n",
       "      <th>0</th>\n",
       "      <td>Ennasr 1-2 - Ariana - Tunisie</td>\n",
       "      <td>122.0</td>\n",
       "      <td>122.0</td>\n",
       "      <td>NaN</td>\n",
       "      <td>NaN</td>\n",
       "      <td>NaN</td>\n",
       "      <td>NaN</td>\n",
       "      <td>1.0</td>\n",
       "      <td>0.0</td>\n",
       "      <td>0.0</td>\n",
       "      <td>0.0</td>\n",
       "      <td>0.0</td>\n",
       "      <td>2.0</td>\n",
       "      <td>386000.0</td>\n",
       "      <td>Residential</td>\n",
       "    </tr>\n",
       "    <tr>\n",
       "      <th>1</th>\n",
       "      <td>Enfida - 4030 - Enfida - Sousse - Tunisie</td>\n",
       "      <td>250.0</td>\n",
       "      <td>100.0</td>\n",
       "      <td>250.0</td>\n",
       "      <td>2.0</td>\n",
       "      <td>1.0</td>\n",
       "      <td>NaN</td>\n",
       "      <td>0.0</td>\n",
       "      <td>0.0</td>\n",
       "      <td>0.0</td>\n",
       "      <td>0.0</td>\n",
       "      <td>0.0</td>\n",
       "      <td>NaN</td>\n",
       "      <td>500000.0</td>\n",
       "      <td>Other</td>\n",
       "    </tr>\n",
       "    <tr>\n",
       "      <th>2</th>\n",
       "      <td>Hammam Ghezèze - Nabeul - Tunisie</td>\n",
       "      <td>790.0</td>\n",
       "      <td>600.0</td>\n",
       "      <td>660.0</td>\n",
       "      <td>5.0</td>\n",
       "      <td>7.0</td>\n",
       "      <td>8.0</td>\n",
       "      <td>0.0</td>\n",
       "      <td>1.0</td>\n",
       "      <td>1.0</td>\n",
       "      <td>0.0</td>\n",
       "      <td>0.0</td>\n",
       "      <td>2.0</td>\n",
       "      <td>2000000.0</td>\n",
       "      <td>Other</td>\n",
       "    </tr>\n",
       "  </tbody>\n",
       "</table>\n",
       "</div>"
      ],
      "text/plain": [
       "                                     address  Habitable  Terrain  Total  \\\n",
       "0              Ennasr 1-2 - Ariana - Tunisie      122.0    122.0    NaN   \n",
       "1  Enfida - 4030 - Enfida - Sousse - Tunisie      250.0    100.0  250.0   \n",
       "2          Hammam Ghezèze - Nabeul - Tunisie      790.0    600.0  660.0   \n",
       "\n",
       "   Pièces  Salles de bains  Chambres Garage Jardin Balcon Meublé Piscine  \\\n",
       "0     NaN              NaN       NaN    1.0    0.0    0.0    0.0     0.0   \n",
       "1     2.0              1.0       NaN    0.0    0.0    0.0    0.0     0.0   \n",
       "2     5.0              7.0       8.0    0.0    1.0    1.0    0.0     0.0   \n",
       "\n",
       "   Etages       prix         Type  \n",
       "0     2.0   386000.0  Residential  \n",
       "1     NaN   500000.0        Other  \n",
       "2     2.0  2000000.0        Other  "
      ]
     },
     "execution_count": 72,
     "metadata": {},
     "output_type": "execute_result"
    }
   ],
   "source": [
    "df=pd.concat([df_remax,df_star])\n",
    "print(df.shape)\n",
    "df.head(3)"
   ]
  },
  {
   "cell_type": "code",
   "execution_count": 73,
   "metadata": {},
   "outputs": [
    {
     "name": "stdout",
     "output_type": "stream",
     "text": [
      "<class 'pandas.core.frame.DataFrame'>\n",
      "Index: 1100 entries, 0 to 27\n",
      "Data columns (total 15 columns):\n",
      " #   Column           Non-Null Count  Dtype  \n",
      "---  ------           --------------  -----  \n",
      " 0   address          1091 non-null   object \n",
      " 1   Habitable        952 non-null    float64\n",
      " 2   Terrain          543 non-null    float64\n",
      " 3   Total            697 non-null    float64\n",
      " 4   Pièces           842 non-null    float64\n",
      " 5   Salles de bains  609 non-null    float64\n",
      " 6   Chambres         624 non-null    float64\n",
      " 7   Garage           580 non-null    object \n",
      " 8   Jardin           589 non-null    object \n",
      " 9   Balcon           704 non-null    object \n",
      " 10  Meublé           667 non-null    object \n",
      " 11  Piscine          673 non-null    object \n",
      " 12  Etages           635 non-null    float64\n",
      " 13  prix             1008 non-null   float64\n",
      " 14  Type             1010 non-null   object \n",
      "dtypes: float64(8), object(7)\n",
      "memory usage: 137.5+ KB\n"
     ]
    }
   ],
   "source": [
    "df.info()"
   ]
  },
  {
   "cell_type": "code",
   "execution_count": 74,
   "metadata": {},
   "outputs": [],
   "source": [
    "#this part gets us the latitude and longitude \n",
    "geolocator = Nominatim(user_agent=\"my_unique_app_12345\")\n",
    "\n",
    "def get_coordinates(address):\n",
    "    try:\n",
    "        location = geolocator.geocode(address, timeout=10)  # Increase timeout\n",
    "        if location:\n",
    "            return pd.Series([location.latitude, location.longitude])\n",
    "    except GeocoderTimedOut:\n",
    "        time.sleep(1)  # Wait and retry in case of timeout\n",
    "        return get_coordinates(address)  # Retry\n",
    "    return pd.Series([None, None])\n",
    "\n",
    "df[['Latitude', 'Longitude']] = df['address'].apply(get_coordinates)"
   ]
  },
  {
   "cell_type": "code",
   "execution_count": 75,
   "metadata": {},
   "outputs": [
    {
     "data": {
      "text/html": [
       "<div>\n",
       "<style scoped>\n",
       "    .dataframe tbody tr th:only-of-type {\n",
       "        vertical-align: middle;\n",
       "    }\n",
       "\n",
       "    .dataframe tbody tr th {\n",
       "        vertical-align: top;\n",
       "    }\n",
       "\n",
       "    .dataframe thead th {\n",
       "        text-align: right;\n",
       "    }\n",
       "</style>\n",
       "<table border=\"1\" class=\"dataframe\">\n",
       "  <thead>\n",
       "    <tr style=\"text-align: right;\">\n",
       "      <th></th>\n",
       "      <th>address</th>\n",
       "      <th>Latitude</th>\n",
       "      <th>Longitude</th>\n",
       "    </tr>\n",
       "  </thead>\n",
       "  <tbody>\n",
       "    <tr>\n",
       "      <th>0</th>\n",
       "      <td>Ennasr 1-2 - Ariana - Tunisie</td>\n",
       "      <td>36.862262</td>\n",
       "      <td>10.169746</td>\n",
       "    </tr>\n",
       "    <tr>\n",
       "      <th>1</th>\n",
       "      <td>Enfida - 4030 - Enfida - Sousse - Tunisie</td>\n",
       "      <td>36.078178</td>\n",
       "      <td>10.435924</td>\n",
       "    </tr>\n",
       "    <tr>\n",
       "      <th>2</th>\n",
       "      <td>Hammam Ghezèze - Nabeul - Tunisie</td>\n",
       "      <td>36.933532</td>\n",
       "      <td>11.068121</td>\n",
       "    </tr>\n",
       "    <tr>\n",
       "      <th>3</th>\n",
       "      <td>Cité Jawaher 1 - 8050 - Hammamet - Nabeul - Tu...</td>\n",
       "      <td>NaN</td>\n",
       "      <td>NaN</td>\n",
       "    </tr>\n",
       "    <tr>\n",
       "      <th>4</th>\n",
       "      <td>Akouda - Akouda - Sousse - Tunisie</td>\n",
       "      <td>35.865730</td>\n",
       "      <td>10.567838</td>\n",
       "    </tr>\n",
       "  </tbody>\n",
       "</table>\n",
       "</div>"
      ],
      "text/plain": [
       "                                             address   Latitude  Longitude\n",
       "0                      Ennasr 1-2 - Ariana - Tunisie  36.862262  10.169746\n",
       "1          Enfida - 4030 - Enfida - Sousse - Tunisie  36.078178  10.435924\n",
       "2                  Hammam Ghezèze - Nabeul - Tunisie  36.933532  11.068121\n",
       "3  Cité Jawaher 1 - 8050 - Hammamet - Nabeul - Tu...        NaN        NaN\n",
       "4                 Akouda - Akouda - Sousse - Tunisie  35.865730  10.567838"
      ]
     },
     "execution_count": 75,
     "metadata": {},
     "output_type": "execute_result"
    }
   ],
   "source": [
    "df[['address','Latitude','Longitude']].head()"
   ]
  },
  {
   "cell_type": "code",
   "execution_count": null,
   "metadata": {},
   "outputs": [],
   "source": [
    "\"\"\"\"\n",
    "df_geo=df[['address','Latitude','Longitude']]\n",
    "df_geo=df_geo.drop_duplicates()\n",
    "df_geo=df_geo.dropna()\n",
    "df_geo.to_csv('geocode_cache.csv', index=False)\n",
    "\"\"\""
   ]
  },
  {
   "cell_type": "markdown",
   "metadata": {},
   "source": [
    "### Data cleaning"
   ]
  },
  {
   "cell_type": "code",
   "execution_count": 74,
   "metadata": {},
   "outputs": [
    {
     "name": "stdout",
     "output_type": "stream",
     "text": [
      "<class 'pandas.core.frame.DataFrame'>\n",
      "Index: 1100 entries, 0 to 27\n",
      "Data columns (total 16 columns):\n",
      " #   Column           Non-Null Count  Dtype  \n",
      "---  ------           --------------  -----  \n",
      " 0   Habitable        952 non-null    float64\n",
      " 1   Terrain          543 non-null    float64\n",
      " 2   Total            697 non-null    float64\n",
      " 3   Pièces           842 non-null    float64\n",
      " 4   Salles de bains  609 non-null    float64\n",
      " 5   Chambres         624 non-null    float64\n",
      " 6   Garage           580 non-null    object \n",
      " 7   Jardin           589 non-null    object \n",
      " 8   Balcon           704 non-null    object \n",
      " 9   Meublé           667 non-null    object \n",
      " 10  Piscine          673 non-null    object \n",
      " 11  Etages           635 non-null    float64\n",
      " 12  prix             1008 non-null   float64\n",
      " 13  Type             1010 non-null   object \n",
      " 14  Latitude         963 non-null    float64\n",
      " 15  Longitude        963 non-null    float64\n",
      "dtypes: float64(10), object(6)\n",
      "memory usage: 146.1+ KB\n"
     ]
    }
   ],
   "source": [
    "df_clean=df.drop(columns=['address'])\n",
    "df_clean.info()"
   ]
  },
  {
   "cell_type": "code",
   "execution_count": 75,
   "metadata": {},
   "outputs": [
    {
     "data": {
      "text/plain": [
       "(1008, 16)"
      ]
     },
     "execution_count": 75,
     "metadata": {},
     "output_type": "execute_result"
    }
   ],
   "source": [
    "df_clean=df_clean.dropna(subset=['prix'])\n",
    "df_clean.shape"
   ]
  },
  {
   "cell_type": "code",
   "execution_count": 76,
   "metadata": {},
   "outputs": [
    {
     "name": "stdout",
     "output_type": "stream",
     "text": [
      "<class 'pandas.core.frame.DataFrame'>\n",
      "Index: 1008 entries, 0 to 27\n",
      "Data columns (total 16 columns):\n",
      " #   Column           Non-Null Count  Dtype  \n",
      "---  ------           --------------  -----  \n",
      " 0   Habitable        875 non-null    float64\n",
      " 1   Terrain          480 non-null    float64\n",
      " 2   Total            647 non-null    float64\n",
      " 3   Pièces           776 non-null    float64\n",
      " 4   Salles de bains  542 non-null    float64\n",
      " 5   Chambres         557 non-null    float64\n",
      " 6   Garage           488 non-null    object \n",
      " 7   Jardin           497 non-null    object \n",
      " 8   Balcon           612 non-null    object \n",
      " 9   Meublé           575 non-null    object \n",
      " 10  Piscine          581 non-null    object \n",
      " 11  Etages           575 non-null    float64\n",
      " 12  prix             1008 non-null   float64\n",
      " 13  Type             918 non-null    object \n",
      " 14  Latitude         1008 non-null   float64\n",
      " 15  Longitude        1008 non-null   float64\n",
      "dtypes: float64(10), object(6)\n",
      "memory usage: 133.9+ KB\n"
     ]
    }
   ],
   "source": [
    "from sklearn.impute import KNNImputer\n",
    "# Assuming df is your dataframe\n",
    "imputer = KNNImputer(n_neighbors=5)  # You can adjust n_neighbors\n",
    "df_clean[['Latitude', 'Longitude']] = imputer.fit_transform(df_clean[['Latitude', 'Longitude']])\n",
    "df_clean.info()"
   ]
  },
  {
   "cell_type": "code",
   "execution_count": 77,
   "metadata": {},
   "outputs": [
    {
     "data": {
      "text/plain": [
       "Jardin\n",
       "0.0         279\n",
       "1.0         208\n",
       "Jardin        2\n",
       "10000 m²      1\n",
       "129 m²        1\n",
       "330 m²        1\n",
       "300 m²        1\n",
       "270 m²        1\n",
       "216 m²        1\n",
       "421 m²        1\n",
       "245 m²        1\n",
       "Name: count, dtype: int64"
      ]
     },
     "execution_count": 77,
     "metadata": {},
     "output_type": "execute_result"
    }
   ],
   "source": [
    "df_clean['Jardin'].value_counts()"
   ]
  },
  {
   "cell_type": "code",
   "execution_count": 78,
   "metadata": {},
   "outputs": [
    {
     "name": "stderr",
     "output_type": "stream",
     "text": [
      "C:\\Users\\MSI\\AppData\\Local\\Temp\\ipykernel_9560\\3393552808.py:1: FutureWarning: A value is trying to be set on a copy of a DataFrame or Series through chained assignment using an inplace method.\n",
      "The behavior will change in pandas 3.0. This inplace method will never work because the intermediate object on which we are setting values always behaves as a copy.\n",
      "\n",
      "For example, when doing 'df[col].method(value, inplace=True)', try using 'df.method({col: value}, inplace=True)' or df[col] = df[col].method(value) instead, to perform the operation inplace on the original object.\n",
      "\n",
      "\n",
      "  df_clean['Jardin'].fillna(0,inplace=True)\n"
     ]
    },
    {
     "data": {
      "text/plain": [
       "Jardin\n",
       "0    790\n",
       "1    218\n",
       "Name: count, dtype: int64"
      ]
     },
     "execution_count": 78,
     "metadata": {},
     "output_type": "execute_result"
    }
   ],
   "source": [
    "df_clean['Jardin'].fillna(0,inplace=True)\n",
    "df_clean['Jardin'] = df_clean['Jardin'].apply(lambda x: 1 if x != 0.0 else 0)\n",
    "df_clean['Jardin'].value_counts()"
   ]
  },
  {
   "cell_type": "code",
   "execution_count": 79,
   "metadata": {},
   "outputs": [
    {
     "data": {
      "text/plain": [
       "Balcon\n",
       "0.0       328\n",
       "1.0       159\n",
       "Balcon    125\n",
       "Name: count, dtype: int64"
      ]
     },
     "execution_count": 79,
     "metadata": {},
     "output_type": "execute_result"
    }
   ],
   "source": [
    "df_clean['Balcon'].value_counts()"
   ]
  },
  {
   "cell_type": "code",
   "execution_count": 80,
   "metadata": {},
   "outputs": [
    {
     "name": "stderr",
     "output_type": "stream",
     "text": [
      "C:\\Users\\MSI\\AppData\\Local\\Temp\\ipykernel_9560\\234478673.py:1: FutureWarning: A value is trying to be set on a copy of a DataFrame or Series through chained assignment using an inplace method.\n",
      "The behavior will change in pandas 3.0. This inplace method will never work because the intermediate object on which we are setting values always behaves as a copy.\n",
      "\n",
      "For example, when doing 'df[col].method(value, inplace=True)', try using 'df.method({col: value}, inplace=True)' or df[col] = df[col].method(value) instead, to perform the operation inplace on the original object.\n",
      "\n",
      "\n",
      "  df_clean['Balcon'].fillna(0,inplace=True)\n"
     ]
    },
    {
     "data": {
      "text/plain": [
       "Balcon\n",
       "0    724\n",
       "1    284\n",
       "Name: count, dtype: int64"
      ]
     },
     "execution_count": 80,
     "metadata": {},
     "output_type": "execute_result"
    }
   ],
   "source": [
    "df_clean['Balcon'].fillna(0,inplace=True)\n",
    "df_clean['Balcon'] = df_clean['Balcon'].apply(lambda x: 1 if x != 0.0 else 0)\n",
    "df_clean['Balcon'].value_counts()"
   ]
  },
  {
   "cell_type": "code",
   "execution_count": 81,
   "metadata": {},
   "outputs": [
    {
     "data": {
      "text/plain": [
       "Meublé\n",
       "0.0       431\n",
       "Meublé     88\n",
       "1.0        56\n",
       "Name: count, dtype: int64"
      ]
     },
     "execution_count": 81,
     "metadata": {},
     "output_type": "execute_result"
    }
   ],
   "source": [
    "df_clean['Meublé'].value_counts()"
   ]
  },
  {
   "cell_type": "code",
   "execution_count": 82,
   "metadata": {},
   "outputs": [
    {
     "name": "stderr",
     "output_type": "stream",
     "text": [
      "C:\\Users\\MSI\\AppData\\Local\\Temp\\ipykernel_9560\\1602645294.py:1: FutureWarning: A value is trying to be set on a copy of a DataFrame or Series through chained assignment using an inplace method.\n",
      "The behavior will change in pandas 3.0. This inplace method will never work because the intermediate object on which we are setting values always behaves as a copy.\n",
      "\n",
      "For example, when doing 'df[col].method(value, inplace=True)', try using 'df.method({col: value}, inplace=True)' or df[col] = df[col].method(value) instead, to perform the operation inplace on the original object.\n",
      "\n",
      "\n",
      "  df_clean['Meublé'].fillna(0,inplace=True)\n"
     ]
    },
    {
     "data": {
      "text/plain": [
       "Meublé\n",
       "0    864\n",
       "1    144\n",
       "Name: count, dtype: int64"
      ]
     },
     "execution_count": 82,
     "metadata": {},
     "output_type": "execute_result"
    }
   ],
   "source": [
    "df_clean['Meublé'].fillna(0,inplace=True)\n",
    "df_clean['Meublé'] = df_clean['Meublé'].apply(lambda x: 1 if x != 0.0 else 0)\n",
    "df_clean['Meublé'].value_counts()"
   ]
  },
  {
   "cell_type": "code",
   "execution_count": 83,
   "metadata": {},
   "outputs": [
    {
     "data": {
      "text/plain": [
       "Piscine\n",
       "0.0        405\n",
       "Piscine     94\n",
       "1.0         82\n",
       "Name: count, dtype: int64"
      ]
     },
     "execution_count": 83,
     "metadata": {},
     "output_type": "execute_result"
    }
   ],
   "source": [
    "df_clean['Piscine'].value_counts()"
   ]
  },
  {
   "cell_type": "code",
   "execution_count": 84,
   "metadata": {},
   "outputs": [
    {
     "name": "stderr",
     "output_type": "stream",
     "text": [
      "C:\\Users\\MSI\\AppData\\Local\\Temp\\ipykernel_9560\\2679576601.py:1: FutureWarning: A value is trying to be set on a copy of a DataFrame or Series through chained assignment using an inplace method.\n",
      "The behavior will change in pandas 3.0. This inplace method will never work because the intermediate object on which we are setting values always behaves as a copy.\n",
      "\n",
      "For example, when doing 'df[col].method(value, inplace=True)', try using 'df.method({col: value}, inplace=True)' or df[col] = df[col].method(value) instead, to perform the operation inplace on the original object.\n",
      "\n",
      "\n",
      "  df_clean['Piscine'].fillna(0,inplace=True)\n"
     ]
    },
    {
     "data": {
      "text/plain": [
       "Piscine\n",
       "0    832\n",
       "1    176\n",
       "Name: count, dtype: int64"
      ]
     },
     "execution_count": 84,
     "metadata": {},
     "output_type": "execute_result"
    }
   ],
   "source": [
    "df_clean['Piscine'].fillna(0,inplace=True)\n",
    "df_clean['Piscine'] = df_clean['Piscine'].apply(lambda x: 1 if x != 0.0 else 0)\n",
    "df_clean['Piscine'].value_counts()"
   ]
  },
  {
   "cell_type": "code",
   "execution_count": 85,
   "metadata": {},
   "outputs": [
    {
     "data": {
      "text/plain": [
       "Garage\n",
       "0.0       315\n",
       "1.0       172\n",
       "Garage      1\n",
       "Name: count, dtype: int64"
      ]
     },
     "execution_count": 85,
     "metadata": {},
     "output_type": "execute_result"
    }
   ],
   "source": [
    "df_clean['Garage'].value_counts()"
   ]
  },
  {
   "cell_type": "code",
   "execution_count": 86,
   "metadata": {},
   "outputs": [
    {
     "name": "stderr",
     "output_type": "stream",
     "text": [
      "C:\\Users\\MSI\\AppData\\Local\\Temp\\ipykernel_9560\\51011127.py:1: FutureWarning: A value is trying to be set on a copy of a DataFrame or Series through chained assignment using an inplace method.\n",
      "The behavior will change in pandas 3.0. This inplace method will never work because the intermediate object on which we are setting values always behaves as a copy.\n",
      "\n",
      "For example, when doing 'df[col].method(value, inplace=True)', try using 'df.method({col: value}, inplace=True)' or df[col] = df[col].method(value) instead, to perform the operation inplace on the original object.\n",
      "\n",
      "\n",
      "  df_clean['Garage'].fillna(0,inplace=True)\n"
     ]
    },
    {
     "data": {
      "text/plain": [
       "Garage\n",
       "0    835\n",
       "1    173\n",
       "Name: count, dtype: int64"
      ]
     },
     "execution_count": 86,
     "metadata": {},
     "output_type": "execute_result"
    }
   ],
   "source": [
    "df_clean['Garage'].fillna(0,inplace=True)\n",
    "df_clean['Garage'] = df_clean['Garage'].apply(lambda x: 1 if x != 0.0 else 0)\n",
    "df_clean['Garage'].value_counts()"
   ]
  },
  {
   "cell_type": "code",
   "execution_count": 87,
   "metadata": {},
   "outputs": [
    {
     "name": "stdout",
     "output_type": "stream",
     "text": [
      "<class 'pandas.core.frame.DataFrame'>\n",
      "Index: 1008 entries, 0 to 27\n",
      "Data columns (total 16 columns):\n",
      " #   Column           Non-Null Count  Dtype  \n",
      "---  ------           --------------  -----  \n",
      " 0   Habitable        875 non-null    float64\n",
      " 1   Terrain          480 non-null    float64\n",
      " 2   Total            647 non-null    float64\n",
      " 3   Pièces           776 non-null    float64\n",
      " 4   Salles de bains  542 non-null    float64\n",
      " 5   Chambres         557 non-null    float64\n",
      " 6   Garage           1008 non-null   int64  \n",
      " 7   Jardin           1008 non-null   int64  \n",
      " 8   Balcon           1008 non-null   int64  \n",
      " 9   Meublé           1008 non-null   int64  \n",
      " 10  Piscine          1008 non-null   int64  \n",
      " 11  Etages           575 non-null    float64\n",
      " 12  prix             1008 non-null   float64\n",
      " 13  Type             918 non-null    object \n",
      " 14  Latitude         1008 non-null   float64\n",
      " 15  Longitude        1008 non-null   float64\n",
      "dtypes: float64(10), int64(5), object(1)\n",
      "memory usage: 133.9+ KB\n"
     ]
    }
   ],
   "source": [
    "df_clean.info()"
   ]
  },
  {
   "cell_type": "code",
   "execution_count": 88,
   "metadata": {},
   "outputs": [],
   "source": [
    "def plot_distribution(data,title,xlabel):\n",
    "    plt.figure(figsize=(10, 6))\n",
    "    sns.histplot(data, kde=True)  # kde=True will add a kernel density estimate curve to visualize distribution smoothly\n",
    "    plt.title(title)\n",
    "    plt.xlabel(xlabel)\n",
    "    plt.ylabel('Frequency')\n",
    "    plt.show()"
   ]
  },
  {
   "cell_type": "code",
   "execution_count": 89,
   "metadata": {},
   "outputs": [
    {
     "data": {
      "image/png": "[encoded data removed]",
      "text/plain": [
       "<Figure size 1000x600 with 1 Axes>"
      ]
     },
     "metadata": {},
     "output_type": "display_data"
    }
   ],
   "source": [
    "plot_distribution(df_clean['Habitable'],'Habitable Distribution','Habitable')"
   ]
  },
  {
   "cell_type": "code",
   "execution_count": 90,
   "metadata": {},
   "outputs": [
    {
     "name": "stderr",
     "output_type": "stream",
     "text": [
      "C:\\Users\\MSI\\AppData\\Local\\Temp\\ipykernel_9560\\1680901862.py:2: FutureWarning: A value is trying to be set on a copy of a DataFrame or Series through chained assignment using an inplace method.\n",
      "The behavior will change in pandas 3.0. This inplace method will never work because the intermediate object on which we are setting values always behaves as a copy.\n",
      "\n",
      "For example, when doing 'df[col].method(value, inplace=True)', try using 'df.method({col: value}, inplace=True)' or df[col] = df[col].method(value) instead, to perform the operation inplace on the original object.\n",
      "\n",
      "\n",
      "  df_clean['Habitable'].fillna(df_clean['Habitable'].median(), inplace=True)\n"
     ]
    }
   ],
   "source": [
    "# Replace missing values with median since the distribution is skwed\n",
    "df_clean['Habitable'].fillna(df_clean['Habitable'].median(), inplace=True)"
   ]
  },
  {
   "cell_type": "code",
   "execution_count": 91,
   "metadata": {},
   "outputs": [],
   "source": [
    "#df_clean = df_clean[(np.abs(stats.zscore(df_clean[\"Habitable\"])) < 3)]"
   ]
  },
  {
   "cell_type": "code",
   "execution_count": 92,
   "metadata": {},
   "outputs": [
    {
     "data": {
      "image/png": "[encoded data removed]",
      "text/plain": [
       "<Figure size 1000x600 with 1 Axes>"
      ]
     },
     "metadata": {},
     "output_type": "display_data"
    }
   ],
   "source": [
    "plot_distribution(df_clean['Etages'],'Etages distribution','Etages')"
   ]
  },
  {
   "cell_type": "code",
   "execution_count": 93,
   "metadata": {},
   "outputs": [
    {
     "data": {
      "image/png": "[encoded data removed]",
      "text/plain": [
       "<Figure size 1000x600 with 1 Axes>"
      ]
     },
     "metadata": {},
     "output_type": "display_data"
    }
   ],
   "source": [
    "plot_distribution(df_clean['Total'],'Total distribution','Total')"
   ]
  },
  {
   "cell_type": "code",
   "execution_count": 94,
   "metadata": {},
   "outputs": [
    {
     "name": "stderr",
     "output_type": "stream",
     "text": [
      "C:\\Users\\MSI\\AppData\\Local\\Temp\\ipykernel_9560\\484258427.py:2: FutureWarning: A value is trying to be set on a copy of a DataFrame or Series through chained assignment using an inplace method.\n",
      "The behavior will change in pandas 3.0. This inplace method will never work because the intermediate object on which we are setting values always behaves as a copy.\n",
      "\n",
      "For example, when doing 'df[col].method(value, inplace=True)', try using 'df.method({col: value}, inplace=True)' or df[col] = df[col].method(value) instead, to perform the operation inplace on the original object.\n",
      "\n",
      "\n",
      "  df_clean['Total'].fillna(df_clean['Total'].median(), inplace=True)\n"
     ]
    }
   ],
   "source": [
    "# Replace missing values with median since the distribution is skwed\n",
    "df_clean['Total'].fillna(df_clean['Total'].median(), inplace=True)"
   ]
  },
  {
   "cell_type": "code",
   "execution_count": 95,
   "metadata": {},
   "outputs": [],
   "source": [
    "df_clean['Terrain'] = df_clean['Terrain'].apply(lambda x: str(x).replace(',', '.') if isinstance(x, str) else x)\n",
    "df_clean['Terrain'] = pd.to_numeric(df_clean['Terrain'], errors='coerce')\n"
   ]
  },
  {
   "cell_type": "code",
   "execution_count": 96,
   "metadata": {},
   "outputs": [
    {
     "data": {
      "image/png": "[encoded data removed]",
      "text/plain": [
       "<Figure size 1000x600 with 1 Axes>"
      ]
     },
     "metadata": {},
     "output_type": "display_data"
    }
   ],
   "source": [
    "plot_distribution(df_clean['Terrain'],'Terrain distribution','Terrain')"
   ]
  },
  {
   "cell_type": "code",
   "execution_count": 97,
   "metadata": {},
   "outputs": [
    {
     "name": "stderr",
     "output_type": "stream",
     "text": [
      "C:\\Users\\MSI\\AppData\\Local\\Temp\\ipykernel_9560\\69587176.py:1: FutureWarning: A value is trying to be set on a copy of a DataFrame or Series through chained assignment using an inplace method.\n",
      "The behavior will change in pandas 3.0. This inplace method will never work because the intermediate object on which we are setting values always behaves as a copy.\n",
      "\n",
      "For example, when doing 'df[col].method(value, inplace=True)', try using 'df.method({col: value}, inplace=True)' or df[col] = df[col].method(value) instead, to perform the operation inplace on the original object.\n",
      "\n",
      "\n",
      "  df_clean['Terrain'].fillna(df_clean['Terrain'].median(), inplace=True)\n"
     ]
    }
   ],
   "source": [
    "df_clean['Terrain'].fillna(df_clean['Terrain'].median(), inplace=True)"
   ]
  },
  {
   "cell_type": "code",
   "execution_count": 98,
   "metadata": {},
   "outputs": [],
   "source": [
    "#df_clean = df_clean[(np.abs(stats.zscore(df_clean[\"Total\"])) < 3)]"
   ]
  },
  {
   "cell_type": "code",
   "execution_count": 99,
   "metadata": {},
   "outputs": [
    {
     "data": {
      "image/png": "[encoded data removed]",
      "text/plain": [
       "<Figure size 1000x600 with 1 Axes>"
      ]
     },
     "metadata": {},
     "output_type": "display_data"
    }
   ],
   "source": [
    "plot_distribution(df_clean['Pièces'],'Pièces distribution','Pièces')"
   ]
  },
  {
   "cell_type": "code",
   "execution_count": 100,
   "metadata": {},
   "outputs": [
    {
     "name": "stderr",
     "output_type": "stream",
     "text": [
      "C:\\Users\\MSI\\AppData\\Local\\Temp\\ipykernel_9560\\3906860705.py:2: FutureWarning: A value is trying to be set on a copy of a DataFrame or Series through chained assignment using an inplace method.\n",
      "The behavior will change in pandas 3.0. This inplace method will never work because the intermediate object on which we are setting values always behaves as a copy.\n",
      "\n",
      "For example, when doing 'df[col].method(value, inplace=True)', try using 'df.method({col: value}, inplace=True)' or df[col] = df[col].method(value) instead, to perform the operation inplace on the original object.\n",
      "\n",
      "\n",
      "  df_clean['Pièces'].fillna(df_clean['Pièces'].median(), inplace=True)\n"
     ]
    }
   ],
   "source": [
    "# Replace missing values with median since the distribution is skwed\n",
    "df_clean['Pièces'].fillna(df_clean['Pièces'].median(), inplace=True)"
   ]
  },
  {
   "cell_type": "code",
   "execution_count": 101,
   "metadata": {},
   "outputs": [],
   "source": [
    "#df_clean = df_clean[(np.abs(stats.zscore(df_clean[\"Pièces\"])) < 3)]"
   ]
  },
  {
   "cell_type": "code",
   "execution_count": 102,
   "metadata": {},
   "outputs": [],
   "source": [
    "df_clean = df_clean[df_clean['Pièces']<20]"
   ]
  },
  {
   "cell_type": "code",
   "execution_count": 103,
   "metadata": {},
   "outputs": [
    {
     "data": {
      "image/png": "[encoded data removed]",
      "text/plain": [
       "<Figure size 1000x600 with 1 Axes>"
      ]
     },
     "metadata": {},
     "output_type": "display_data"
    }
   ],
   "source": [
    "plot_distribution(df_clean['Salles de bains'],'Salles de bains distribution','Salles de bains')"
   ]
  },
  {
   "cell_type": "code",
   "execution_count": 104,
   "metadata": {},
   "outputs": [
    {
     "name": "stderr",
     "output_type": "stream",
     "text": [
      "C:\\Users\\MSI\\AppData\\Local\\Temp\\ipykernel_9560\\2135588293.py:2: FutureWarning: A value is trying to be set on a copy of a DataFrame or Series through chained assignment using an inplace method.\n",
      "The behavior will change in pandas 3.0. This inplace method will never work because the intermediate object on which we are setting values always behaves as a copy.\n",
      "\n",
      "For example, when doing 'df[col].method(value, inplace=True)', try using 'df.method({col: value}, inplace=True)' or df[col] = df[col].method(value) instead, to perform the operation inplace on the original object.\n",
      "\n",
      "\n",
      "  df_clean['Salles de bains'].fillna(df_clean['Salles de bains'].mode()[0], inplace=True)\n"
     ]
    }
   ],
   "source": [
    "# Replace missing values with mode since the distribution is categorical\n",
    "df_clean['Salles de bains'].fillna(df_clean['Salles de bains'].mode()[0], inplace=True)"
   ]
  },
  {
   "cell_type": "code",
   "execution_count": 105,
   "metadata": {},
   "outputs": [
    {
     "data": {
      "image/png": "[encoded data removed]",
      "text/plain": [
       "<Figure size 1000x600 with 1 Axes>"
      ]
     },
     "metadata": {},
     "output_type": "display_data"
    }
   ],
   "source": [
    "plot_distribution(df_clean['Chambres'],'Nombre de chambres distribution','Nombre de chambres')"
   ]
  },
  {
   "cell_type": "code",
   "execution_count": 106,
   "metadata": {},
   "outputs": [
    {
     "name": "stderr",
     "output_type": "stream",
     "text": [
      "C:\\Users\\MSI\\AppData\\Local\\Temp\\ipykernel_9560\\3383310863.py:2: FutureWarning: A value is trying to be set on a copy of a DataFrame or Series through chained assignment using an inplace method.\n",
      "The behavior will change in pandas 3.0. This inplace method will never work because the intermediate object on which we are setting values always behaves as a copy.\n",
      "\n",
      "For example, when doing 'df[col].method(value, inplace=True)', try using 'df.method({col: value}, inplace=True)' or df[col] = df[col].method(value) instead, to perform the operation inplace on the original object.\n",
      "\n",
      "\n",
      "  df_clean['Chambres'].fillna(df_clean['Chambres'].mode()[0], inplace=True)\n"
     ]
    }
   ],
   "source": [
    "# Replace missing values with mode since the distribution is categorical\n",
    "df_clean['Chambres'].fillna(df_clean['Chambres'].mode()[0], inplace=True)"
   ]
  },
  {
   "cell_type": "code",
   "execution_count": 107,
   "metadata": {},
   "outputs": [
    {
     "data": {
      "image/png": "[encoded data removed]",
      "text/plain": [
       "<Figure size 1000x600 with 1 Axes>"
      ]
     },
     "metadata": {},
     "output_type": "display_data"
    }
   ],
   "source": [
    "plot_distribution(df_clean['Etages'],'Etages distribution','Nombre d etage')"
   ]
  },
  {
   "cell_type": "code",
   "execution_count": 108,
   "metadata": {},
   "outputs": [
    {
     "name": "stderr",
     "output_type": "stream",
     "text": [
      "C:\\Users\\MSI\\AppData\\Local\\Temp\\ipykernel_9560\\1566603011.py:2: FutureWarning: A value is trying to be set on a copy of a DataFrame or Series through chained assignment using an inplace method.\n",
      "The behavior will change in pandas 3.0. This inplace method will never work because the intermediate object on which we are setting values always behaves as a copy.\n",
      "\n",
      "For example, when doing 'df[col].method(value, inplace=True)', try using 'df.method({col: value}, inplace=True)' or df[col] = df[col].method(value) instead, to perform the operation inplace on the original object.\n",
      "\n",
      "\n",
      "  df_clean['Etages'].fillna(df_clean['Etages'].mode()[0], inplace=True)\n"
     ]
    }
   ],
   "source": [
    "# Replace missing values with mode since the distribution is categorical\n",
    "df_clean['Etages'].fillna(df_clean['Etages'].mode()[0], inplace=True)"
   ]
  },
  {
   "cell_type": "code",
   "execution_count": 109,
   "metadata": {},
   "outputs": [],
   "source": [
    "#df_clean = df_clean[(np.abs(stats.zscore(df_clean[\"prix\"])) < 3)]"
   ]
  },
  {
   "cell_type": "code",
   "execution_count": 110,
   "metadata": {},
   "outputs": [],
   "source": [
    "def remove_outliers_iqr(df, column):\n",
    "    Q1 = df[column].quantile(0.25)\n",
    "    Q3 = df[column].quantile(0.75)\n",
    "    IQR = Q3 - Q1\n",
    "    lower_bound = Q1 - 1.5 * IQR\n",
    "    upper_bound = Q3 + 1.5 * IQR\n",
    "    return df[(df[column] >= lower_bound) & (df[column] <= upper_bound)]\n",
    "\n",
    "# Apply to numerical columns\n",
    "for col in [\"prix\", \"Habitable\", \"Total\",\"Terrain\", \"Pièces\"]:\n",
    "    df_clean = remove_outliers_iqr(df_clean, col)\n"
   ]
  },
  {
   "cell_type": "code",
   "execution_count": 111,
   "metadata": {},
   "outputs": [
    {
     "data": {
      "text/plain": [
       "count    4.740000e+02\n",
       "mean     4.471745e+05\n",
       "std      3.112801e+05\n",
       "min      0.000000e+00\n",
       "25%      2.693362e+05\n",
       "50%      3.860000e+05\n",
       "75%      5.822012e+05\n",
       "max      1.615462e+06\n",
       "Name: prix, dtype: float64"
      ]
     },
     "execution_count": 111,
     "metadata": {},
     "output_type": "execute_result"
    }
   ],
   "source": [
    "df_clean['prix'].describe()"
   ]
  },
  {
   "cell_type": "code",
   "execution_count": 112,
   "metadata": {},
   "outputs": [],
   "source": [
    "df_clean = df_clean[df_clean['prix'] > 0]"
   ]
  },
  {
   "cell_type": "code",
   "execution_count": 113,
   "metadata": {},
   "outputs": [
    {
     "name": "stdout",
     "output_type": "stream",
     "text": [
      "<class 'pandas.core.frame.DataFrame'>\n",
      "Index: 441 entries, 0 to 24\n",
      "Data columns (total 16 columns):\n",
      " #   Column           Non-Null Count  Dtype  \n",
      "---  ------           --------------  -----  \n",
      " 0   Habitable        441 non-null    float64\n",
      " 1   Terrain          441 non-null    float64\n",
      " 2   Total            441 non-null    float64\n",
      " 3   Pièces           441 non-null    float64\n",
      " 4   Salles de bains  441 non-null    float64\n",
      " 5   Chambres         441 non-null    float64\n",
      " 6   Garage           441 non-null    int64  \n",
      " 7   Jardin           441 non-null    int64  \n",
      " 8   Balcon           441 non-null    int64  \n",
      " 9   Meublé           441 non-null    int64  \n",
      " 10  Piscine          441 non-null    int64  \n",
      " 11  Etages           441 non-null    float64\n",
      " 12  prix             441 non-null    float64\n",
      " 13  Type             420 non-null    object \n",
      " 14  Latitude         441 non-null    float64\n",
      " 15  Longitude        441 non-null    float64\n",
      "dtypes: float64(10), int64(5), object(1)\n",
      "memory usage: 58.6+ KB\n"
     ]
    }
   ],
   "source": [
    "df_clean.info()"
   ]
  },
  {
   "cell_type": "markdown",
   "metadata": {},
   "source": [
    "### Columns correlation"
   ]
  },
  {
   "cell_type": "code",
   "execution_count": 114,
   "metadata": {},
   "outputs": [
    {
     "data": {
      "image/png": "[encoded data removed]",
      "text/plain": [
       "<Figure size 1000x800 with 2 Axes>"
      ]
     },
     "metadata": {},
     "output_type": "display_data"
    }
   ],
   "source": [
    "# Filter only numeric columns\n",
    "df_numeric = df_clean.select_dtypes(include=[\"number\"])\n",
    "\n",
    "# Calculate the correlation matrix\n",
    "corr_matrix = df_numeric.corr()\n",
    "\n",
    "# Plot the heatmap\n",
    "plt.figure(figsize=(10, 8))\n",
    "sns.heatmap(corr_matrix, annot=True, fmt=\".2f\", cmap=\"coolwarm\", center=0)\n",
    "\n",
    "# Display the heatmap\n",
    "plt.title(\"Correlation Heatmap\")\n",
    "plt.show()\n"
   ]
  },
  {
   "cell_type": "markdown",
   "metadata": {},
   "source": [
    "### Encoding"
   ]
  },
  {
   "cell_type": "code",
   "execution_count": 115,
   "metadata": {},
   "outputs": [
    {
     "data": {
      "text/html": [
       "<div>\n",
       "<style scoped>\n",
       "    .dataframe tbody tr th:only-of-type {\n",
       "        vertical-align: middle;\n",
       "    }\n",
       "\n",
       "    .dataframe tbody tr th {\n",
       "        vertical-align: top;\n",
       "    }\n",
       "\n",
       "    .dataframe thead th {\n",
       "        text-align: right;\n",
       "    }\n",
       "</style>\n",
       "<table border=\"1\" class=\"dataframe\">\n",
       "  <thead>\n",
       "    <tr style=\"text-align: right;\">\n",
       "      <th></th>\n",
       "      <th>Habitable</th>\n",
       "      <th>Terrain</th>\n",
       "      <th>Total</th>\n",
       "      <th>Pièces</th>\n",
       "      <th>Salles de bains</th>\n",
       "      <th>Chambres</th>\n",
       "      <th>Garage</th>\n",
       "      <th>Jardin</th>\n",
       "      <th>Balcon</th>\n",
       "      <th>Meublé</th>\n",
       "      <th>Piscine</th>\n",
       "      <th>Etages</th>\n",
       "      <th>prix</th>\n",
       "      <th>Type</th>\n",
       "      <th>Latitude</th>\n",
       "      <th>Longitude</th>\n",
       "    </tr>\n",
       "  </thead>\n",
       "  <tbody>\n",
       "    <tr>\n",
       "      <th>0</th>\n",
       "      <td>122.0</td>\n",
       "      <td>122.0</td>\n",
       "      <td>192.0</td>\n",
       "      <td>4.0</td>\n",
       "      <td>1.0</td>\n",
       "      <td>3.0</td>\n",
       "      <td>1</td>\n",
       "      <td>0</td>\n",
       "      <td>0</td>\n",
       "      <td>0</td>\n",
       "      <td>0</td>\n",
       "      <td>2.0</td>\n",
       "      <td>386000.0</td>\n",
       "      <td>Residential</td>\n",
       "      <td>36.862262</td>\n",
       "      <td>10.169746</td>\n",
       "    </tr>\n",
       "  </tbody>\n",
       "</table>\n",
       "</div>"
      ],
      "text/plain": [
       "   Habitable  Terrain  Total  Pièces  Salles de bains  Chambres  Garage  \\\n",
       "0      122.0    122.0  192.0     4.0              1.0       3.0       1   \n",
       "\n",
       "   Jardin  Balcon  Meublé  Piscine  Etages      prix         Type   Latitude  \\\n",
       "0       0       0       0        0     2.0  386000.0  Residential  36.862262   \n",
       "\n",
       "   Longitude  \n",
       "0  10.169746  "
      ]
     },
     "execution_count": 115,
     "metadata": {},
     "output_type": "execute_result"
    }
   ],
   "source": [
    "df_clean.head(1)"
   ]
  },
  {
   "cell_type": "code",
   "execution_count": 116,
   "metadata": {},
   "outputs": [
    {
     "name": "stderr",
     "output_type": "stream",
     "text": [
      "C:\\Users\\MSI\\AppData\\Local\\Temp\\ipykernel_9560\\2319487793.py:4: FutureWarning: A value is trying to be set on a copy of a DataFrame or Series through chained assignment using an inplace method.\n",
      "The behavior will change in pandas 3.0. This inplace method will never work because the intermediate object on which we are setting values always behaves as a copy.\n",
      "\n",
      "For example, when doing 'df[col].method(value, inplace=True)', try using 'df.method({col: value}, inplace=True)' or df[col] = df[col].method(value) instead, to perform the operation inplace on the original object.\n",
      "\n",
      "\n",
      "  df_clean['Type'].fillna(most_frequent, inplace=True)\n"
     ]
    },
    {
     "data": {
      "text/html": [
       "<div>\n",
       "<style scoped>\n",
       "    .dataframe tbody tr th:only-of-type {\n",
       "        vertical-align: middle;\n",
       "    }\n",
       "\n",
       "    .dataframe tbody tr th {\n",
       "        vertical-align: top;\n",
       "    }\n",
       "\n",
       "    .dataframe thead th {\n",
       "        text-align: right;\n",
       "    }\n",
       "</style>\n",
       "<table border=\"1\" class=\"dataframe\">\n",
       "  <thead>\n",
       "    <tr style=\"text-align: right;\">\n",
       "      <th></th>\n",
       "      <th>Habitable</th>\n",
       "      <th>Terrain</th>\n",
       "      <th>Total</th>\n",
       "      <th>Pièces</th>\n",
       "      <th>Salles de bains</th>\n",
       "      <th>Chambres</th>\n",
       "      <th>Garage</th>\n",
       "      <th>Jardin</th>\n",
       "      <th>Balcon</th>\n",
       "      <th>Meublé</th>\n",
       "      <th>Piscine</th>\n",
       "      <th>Etages</th>\n",
       "      <th>prix</th>\n",
       "      <th>Latitude</th>\n",
       "      <th>Longitude</th>\n",
       "      <th>Type_Land</th>\n",
       "      <th>Type_Other</th>\n",
       "      <th>Type_Residential</th>\n",
       "    </tr>\n",
       "  </thead>\n",
       "  <tbody>\n",
       "    <tr>\n",
       "      <th>0</th>\n",
       "      <td>122.00</td>\n",
       "      <td>122.0</td>\n",
       "      <td>192.00</td>\n",
       "      <td>4.0</td>\n",
       "      <td>1.0</td>\n",
       "      <td>3.0</td>\n",
       "      <td>1</td>\n",
       "      <td>0</td>\n",
       "      <td>0</td>\n",
       "      <td>0</td>\n",
       "      <td>0</td>\n",
       "      <td>2.0</td>\n",
       "      <td>386000.0</td>\n",
       "      <td>36.862262</td>\n",
       "      <td>10.169746</td>\n",
       "      <td>False</td>\n",
       "      <td>False</td>\n",
       "      <td>True</td>\n",
       "    </tr>\n",
       "    <tr>\n",
       "      <th>12</th>\n",
       "      <td>13.85</td>\n",
       "      <td>180.0</td>\n",
       "      <td>13.85</td>\n",
       "      <td>4.0</td>\n",
       "      <td>1.0</td>\n",
       "      <td>3.0</td>\n",
       "      <td>0</td>\n",
       "      <td>0</td>\n",
       "      <td>0</td>\n",
       "      <td>0</td>\n",
       "      <td>0</td>\n",
       "      <td>2.0</td>\n",
       "      <td>380000.0</td>\n",
       "      <td>36.301456</td>\n",
       "      <td>10.454091</td>\n",
       "      <td>True</td>\n",
       "      <td>False</td>\n",
       "      <td>False</td>\n",
       "    </tr>\n",
       "    <tr>\n",
       "      <th>13</th>\n",
       "      <td>163.00</td>\n",
       "      <td>180.0</td>\n",
       "      <td>192.00</td>\n",
       "      <td>4.0</td>\n",
       "      <td>1.0</td>\n",
       "      <td>3.0</td>\n",
       "      <td>0</td>\n",
       "      <td>0</td>\n",
       "      <td>0</td>\n",
       "      <td>0</td>\n",
       "      <td>0</td>\n",
       "      <td>2.0</td>\n",
       "      <td>800.0</td>\n",
       "      <td>36.753115</td>\n",
       "      <td>10.068519</td>\n",
       "      <td>False</td>\n",
       "      <td>True</td>\n",
       "      <td>False</td>\n",
       "    </tr>\n",
       "    <tr>\n",
       "      <th>14</th>\n",
       "      <td>163.00</td>\n",
       "      <td>180.0</td>\n",
       "      <td>192.00</td>\n",
       "      <td>4.0</td>\n",
       "      <td>1.0</td>\n",
       "      <td>3.0</td>\n",
       "      <td>0</td>\n",
       "      <td>0</td>\n",
       "      <td>0</td>\n",
       "      <td>0</td>\n",
       "      <td>0</td>\n",
       "      <td>2.0</td>\n",
       "      <td>350.0</td>\n",
       "      <td>36.753115</td>\n",
       "      <td>10.068519</td>\n",
       "      <td>True</td>\n",
       "      <td>False</td>\n",
       "      <td>False</td>\n",
       "    </tr>\n",
       "    <tr>\n",
       "      <th>17</th>\n",
       "      <td>122.00</td>\n",
       "      <td>122.0</td>\n",
       "      <td>192.00</td>\n",
       "      <td>4.0</td>\n",
       "      <td>1.0</td>\n",
       "      <td>3.0</td>\n",
       "      <td>1</td>\n",
       "      <td>0</td>\n",
       "      <td>0</td>\n",
       "      <td>0</td>\n",
       "      <td>0</td>\n",
       "      <td>2.0</td>\n",
       "      <td>386000.0</td>\n",
       "      <td>36.862262</td>\n",
       "      <td>10.169746</td>\n",
       "      <td>False</td>\n",
       "      <td>False</td>\n",
       "      <td>True</td>\n",
       "    </tr>\n",
       "  </tbody>\n",
       "</table>\n",
       "</div>"
      ],
      "text/plain": [
       "    Habitable  Terrain   Total  Pièces  Salles de bains  Chambres  Garage  \\\n",
       "0      122.00    122.0  192.00     4.0              1.0       3.0       1   \n",
       "12      13.85    180.0   13.85     4.0              1.0       3.0       0   \n",
       "13     163.00    180.0  192.00     4.0              1.0       3.0       0   \n",
       "14     163.00    180.0  192.00     4.0              1.0       3.0       0   \n",
       "17     122.00    122.0  192.00     4.0              1.0       3.0       1   \n",
       "\n",
       "    Jardin  Balcon  Meublé  Piscine  Etages      prix   Latitude  Longitude  \\\n",
       "0        0       0       0        0     2.0  386000.0  36.862262  10.169746   \n",
       "12       0       0       0        0     2.0  380000.0  36.301456  10.454091   \n",
       "13       0       0       0        0     2.0     800.0  36.753115  10.068519   \n",
       "14       0       0       0        0     2.0     350.0  36.753115  10.068519   \n",
       "17       0       0       0        0     2.0  386000.0  36.862262  10.169746   \n",
       "\n",
       "    Type_Land  Type_Other  Type_Residential  \n",
       "0       False       False              True  \n",
       "12       True       False             False  \n",
       "13      False        True             False  \n",
       "14       True       False             False  \n",
       "17      False       False              True  "
      ]
     },
     "execution_count": 116,
     "metadata": {},
     "output_type": "execute_result"
    }
   ],
   "source": [
    "# Find the most frequent (mode) value\n",
    "most_frequent = df_clean['Type'].mode()[0]\n",
    "# Fill missing values with the most frequent value\n",
    "df_clean['Type'].fillna(most_frequent, inplace=True)\n",
    "df_encoded = pd.get_dummies(df_clean, columns=['Type'], drop_first=True)\n",
    "df_encoded.head()"
   ]
  },
  {
   "cell_type": "code",
   "execution_count": 117,
   "metadata": {},
   "outputs": [
    {
     "data": {
      "text/html": [
       "<div>\n",
       "<style scoped>\n",
       "    .dataframe tbody tr th:only-of-type {\n",
       "        vertical-align: middle;\n",
       "    }\n",
       "\n",
       "    .dataframe tbody tr th {\n",
       "        vertical-align: top;\n",
       "    }\n",
       "\n",
       "    .dataframe thead th {\n",
       "        text-align: right;\n",
       "    }\n",
       "</style>\n",
       "<table border=\"1\" class=\"dataframe\">\n",
       "  <thead>\n",
       "    <tr style=\"text-align: right;\">\n",
       "      <th></th>\n",
       "      <th>Habitable</th>\n",
       "      <th>Terrain</th>\n",
       "      <th>Total</th>\n",
       "      <th>Pièces</th>\n",
       "      <th>Salles de bains</th>\n",
       "      <th>Chambres</th>\n",
       "      <th>Garage</th>\n",
       "      <th>Jardin</th>\n",
       "      <th>Balcon</th>\n",
       "      <th>Meublé</th>\n",
       "      <th>Piscine</th>\n",
       "      <th>Etages</th>\n",
       "      <th>prix</th>\n",
       "      <th>Latitude</th>\n",
       "      <th>Longitude</th>\n",
       "      <th>Type_Land</th>\n",
       "      <th>Type_Other</th>\n",
       "      <th>Type_Residential</th>\n",
       "    </tr>\n",
       "  </thead>\n",
       "  <tbody>\n",
       "    <tr>\n",
       "      <th>0</th>\n",
       "      <td>122.00</td>\n",
       "      <td>122.0</td>\n",
       "      <td>192.00</td>\n",
       "      <td>4.0</td>\n",
       "      <td>1.0</td>\n",
       "      <td>3.0</td>\n",
       "      <td>1</td>\n",
       "      <td>0</td>\n",
       "      <td>0</td>\n",
       "      <td>0</td>\n",
       "      <td>0</td>\n",
       "      <td>2.0</td>\n",
       "      <td>386000.0</td>\n",
       "      <td>36.862262</td>\n",
       "      <td>10.169746</td>\n",
       "      <td>0</td>\n",
       "      <td>0</td>\n",
       "      <td>1</td>\n",
       "    </tr>\n",
       "    <tr>\n",
       "      <th>12</th>\n",
       "      <td>13.85</td>\n",
       "      <td>180.0</td>\n",
       "      <td>13.85</td>\n",
       "      <td>4.0</td>\n",
       "      <td>1.0</td>\n",
       "      <td>3.0</td>\n",
       "      <td>0</td>\n",
       "      <td>0</td>\n",
       "      <td>0</td>\n",
       "      <td>0</td>\n",
       "      <td>0</td>\n",
       "      <td>2.0</td>\n",
       "      <td>380000.0</td>\n",
       "      <td>36.301456</td>\n",
       "      <td>10.454091</td>\n",
       "      <td>1</td>\n",
       "      <td>0</td>\n",
       "      <td>0</td>\n",
       "    </tr>\n",
       "    <tr>\n",
       "      <th>13</th>\n",
       "      <td>163.00</td>\n",
       "      <td>180.0</td>\n",
       "      <td>192.00</td>\n",
       "      <td>4.0</td>\n",
       "      <td>1.0</td>\n",
       "      <td>3.0</td>\n",
       "      <td>0</td>\n",
       "      <td>0</td>\n",
       "      <td>0</td>\n",
       "      <td>0</td>\n",
       "      <td>0</td>\n",
       "      <td>2.0</td>\n",
       "      <td>800.0</td>\n",
       "      <td>36.753115</td>\n",
       "      <td>10.068519</td>\n",
       "      <td>0</td>\n",
       "      <td>1</td>\n",
       "      <td>0</td>\n",
       "    </tr>\n",
       "    <tr>\n",
       "      <th>14</th>\n",
       "      <td>163.00</td>\n",
       "      <td>180.0</td>\n",
       "      <td>192.00</td>\n",
       "      <td>4.0</td>\n",
       "      <td>1.0</td>\n",
       "      <td>3.0</td>\n",
       "      <td>0</td>\n",
       "      <td>0</td>\n",
       "      <td>0</td>\n",
       "      <td>0</td>\n",
       "      <td>0</td>\n",
       "      <td>2.0</td>\n",
       "      <td>350.0</td>\n",
       "      <td>36.753115</td>\n",
       "      <td>10.068519</td>\n",
       "      <td>1</td>\n",
       "      <td>0</td>\n",
       "      <td>0</td>\n",
       "    </tr>\n",
       "    <tr>\n",
       "      <th>17</th>\n",
       "      <td>122.00</td>\n",
       "      <td>122.0</td>\n",
       "      <td>192.00</td>\n",
       "      <td>4.0</td>\n",
       "      <td>1.0</td>\n",
       "      <td>3.0</td>\n",
       "      <td>1</td>\n",
       "      <td>0</td>\n",
       "      <td>0</td>\n",
       "      <td>0</td>\n",
       "      <td>0</td>\n",
       "      <td>2.0</td>\n",
       "      <td>386000.0</td>\n",
       "      <td>36.862262</td>\n",
       "      <td>10.169746</td>\n",
       "      <td>0</td>\n",
       "      <td>0</td>\n",
       "      <td>1</td>\n",
       "    </tr>\n",
       "  </tbody>\n",
       "</table>\n",
       "</div>"
      ],
      "text/plain": [
       "    Habitable  Terrain   Total  Pièces  Salles de bains  Chambres  Garage  \\\n",
       "0      122.00    122.0  192.00     4.0              1.0       3.0       1   \n",
       "12      13.85    180.0   13.85     4.0              1.0       3.0       0   \n",
       "13     163.00    180.0  192.00     4.0              1.0       3.0       0   \n",
       "14     163.00    180.0  192.00     4.0              1.0       3.0       0   \n",
       "17     122.00    122.0  192.00     4.0              1.0       3.0       1   \n",
       "\n",
       "    Jardin  Balcon  Meublé  Piscine  Etages      prix   Latitude  Longitude  \\\n",
       "0        0       0       0        0     2.0  386000.0  36.862262  10.169746   \n",
       "12       0       0       0        0     2.0  380000.0  36.301456  10.454091   \n",
       "13       0       0       0        0     2.0     800.0  36.753115  10.068519   \n",
       "14       0       0       0        0     2.0     350.0  36.753115  10.068519   \n",
       "17       0       0       0        0     2.0  386000.0  36.862262  10.169746   \n",
       "\n",
       "    Type_Land  Type_Other  Type_Residential  \n",
       "0           0           0                 1  \n",
       "12          1           0                 0  \n",
       "13          0           1                 0  \n",
       "14          1           0                 0  \n",
       "17          0           0                 1  "
      ]
     },
     "execution_count": 117,
     "metadata": {},
     "output_type": "execute_result"
    }
   ],
   "source": [
    "bool_columns = [\"Type_Land\", \"Type_Other\", \"Type_Residential\"]\n",
    "df_encoded[bool_columns] = df_encoded[bool_columns].astype(int)\n",
    "df_encoded.head()"
   ]
  },
  {
   "cell_type": "code",
   "execution_count": 118,
   "metadata": {},
   "outputs": [
    {
     "name": "stdout",
     "output_type": "stream",
     "text": [
      "<class 'pandas.core.frame.DataFrame'>\n",
      "RangeIndex: 5000 entries, 0 to 4999\n",
      "Data columns (total 18 columns):\n",
      " #   Column            Non-Null Count  Dtype  \n",
      "---  ------            --------------  -----  \n",
      " 0   Habitable         5000 non-null   float64\n",
      " 1   Terrain           5000 non-null   float64\n",
      " 2   Total             5000 non-null   float64\n",
      " 3   Pièces            5000 non-null   float64\n",
      " 4   Salles de bains   5000 non-null   float64\n",
      " 5   Chambres          5000 non-null   float64\n",
      " 6   Garage            5000 non-null   int64  \n",
      " 7   Jardin            5000 non-null   int64  \n",
      " 8   Balcon            5000 non-null   int64  \n",
      " 9   Meublé            5000 non-null   int64  \n",
      " 10  Piscine           5000 non-null   int64  \n",
      " 11  Etages            5000 non-null   float64\n",
      " 12  prix              5000 non-null   float64\n",
      " 13  Latitude          5000 non-null   float64\n",
      " 14  Longitude         5000 non-null   float64\n",
      " 15  Type_Land         5000 non-null   int64  \n",
      " 16  Type_Other        5000 non-null   int64  \n",
      " 17  Type_Residential  5000 non-null   int64  \n",
      "dtypes: float64(10), int64(8)\n",
      "memory usage: 703.2 KB\n"
     ]
    }
   ],
   "source": [
    "syn_df=pd.read_csv('synthatic_data_vente.csv')\n",
    "syn_df=syn_df.drop(columns='Unnamed: 0')\n",
    "syn_df.info()"
   ]
  },
  {
   "cell_type": "code",
   "execution_count": 119,
   "metadata": {},
   "outputs": [
    {
     "data": {
      "text/html": [
       "<div>\n",
       "<style scoped>\n",
       "    .dataframe tbody tr th:only-of-type {\n",
       "        vertical-align: middle;\n",
       "    }\n",
       "\n",
       "    .dataframe tbody tr th {\n",
       "        vertical-align: top;\n",
       "    }\n",
       "\n",
       "    .dataframe thead th {\n",
       "        text-align: right;\n",
       "    }\n",
       "</style>\n",
       "<table border=\"1\" class=\"dataframe\">\n",
       "  <thead>\n",
       "    <tr style=\"text-align: right;\">\n",
       "      <th></th>\n",
       "      <th>Habitable</th>\n",
       "      <th>Terrain</th>\n",
       "      <th>Total</th>\n",
       "      <th>Pièces</th>\n",
       "      <th>Salles de bains</th>\n",
       "      <th>Chambres</th>\n",
       "      <th>Garage</th>\n",
       "      <th>Jardin</th>\n",
       "      <th>Balcon</th>\n",
       "      <th>Meublé</th>\n",
       "      <th>Piscine</th>\n",
       "      <th>Etages</th>\n",
       "      <th>prix</th>\n",
       "      <th>Latitude</th>\n",
       "      <th>Longitude</th>\n",
       "      <th>Type_Land</th>\n",
       "      <th>Type_Other</th>\n",
       "      <th>Type_Residential</th>\n",
       "    </tr>\n",
       "  </thead>\n",
       "  <tbody>\n",
       "    <tr>\n",
       "      <th>350</th>\n",
       "      <td>163.0</td>\n",
       "      <td>180.0</td>\n",
       "      <td>192.0</td>\n",
       "      <td>4.0</td>\n",
       "      <td>1.0</td>\n",
       "      <td>3.0</td>\n",
       "      <td>0</td>\n",
       "      <td>0</td>\n",
       "      <td>0</td>\n",
       "      <td>0</td>\n",
       "      <td>0</td>\n",
       "      <td>2.0</td>\n",
       "      <td>280000.0</td>\n",
       "      <td>36.811331</td>\n",
       "      <td>10.094704</td>\n",
       "      <td>1</td>\n",
       "      <td>0</td>\n",
       "      <td>0</td>\n",
       "    </tr>\n",
       "    <tr>\n",
       "      <th>420</th>\n",
       "      <td>107.0</td>\n",
       "      <td>180.0</td>\n",
       "      <td>192.0</td>\n",
       "      <td>4.0</td>\n",
       "      <td>1.0</td>\n",
       "      <td>3.0</td>\n",
       "      <td>0</td>\n",
       "      <td>0</td>\n",
       "      <td>0</td>\n",
       "      <td>0</td>\n",
       "      <td>0</td>\n",
       "      <td>2.0</td>\n",
       "      <td>325963.0</td>\n",
       "      <td>36.401267</td>\n",
       "      <td>10.557283</td>\n",
       "      <td>0</td>\n",
       "      <td>0</td>\n",
       "      <td>1</td>\n",
       "    </tr>\n",
       "  </tbody>\n",
       "</table>\n",
       "</div>"
      ],
      "text/plain": [
       "     Habitable  Terrain  Total  Pièces  Salles de bains  Chambres  Garage  \\\n",
       "350      163.0    180.0  192.0     4.0              1.0       3.0       0   \n",
       "420      107.0    180.0  192.0     4.0              1.0       3.0       0   \n",
       "\n",
       "     Jardin  Balcon  Meublé  Piscine  Etages      prix   Latitude  Longitude  \\\n",
       "350       0       0       0        0     2.0  280000.0  36.811331  10.094704   \n",
       "420       0       0       0        0     2.0  325963.0  36.401267  10.557283   \n",
       "\n",
       "     Type_Land  Type_Other  Type_Residential  \n",
       "350          1           0                 0  \n",
       "420          0           0                 1  "
      ]
     },
     "execution_count": 119,
     "metadata": {},
     "output_type": "execute_result"
    }
   ],
   "source": [
    "df_encoded.sample(2)"
   ]
  },
  {
   "cell_type": "code",
   "execution_count": 120,
   "metadata": {},
   "outputs": [
    {
     "data": {
      "text/plain": [
       "(441, 18)"
      ]
     },
     "execution_count": 120,
     "metadata": {},
     "output_type": "execute_result"
    }
   ],
   "source": [
    "df_encoded.shape"
   ]
  },
  {
   "cell_type": "code",
   "execution_count": 121,
   "metadata": {},
   "outputs": [
    {
     "data": {
      "text/plain": [
       "(5441, 18)"
      ]
     },
     "execution_count": 121,
     "metadata": {},
     "output_type": "execute_result"
    }
   ],
   "source": [
    "final_df=pd.concat([df_encoded,syn_df])\n",
    "final_df.shape"
   ]
  },
  {
   "cell_type": "code",
   "execution_count": null,
   "metadata": {},
   "outputs": [],
   "source": [
    "#final_df.to_csv('final_df_vente.csv') we are gonna use it to generate synthatic data "
   ]
  },
  {
   "cell_type": "markdown",
   "metadata": {},
   "source": [
    "### Building the model"
   ]
  },
  {
   "cell_type": "code",
   "execution_count": 123,
   "metadata": {},
   "outputs": [],
   "source": [
    "X=final_df.drop(columns=['prix'])\n",
    "y=final_df['prix']\n",
    "X_train,X_test,y_train,y_test=train_test_split(X,y,test_size=0.2,random_state=42)"
   ]
  },
  {
   "cell_type": "code",
   "execution_count": 124,
   "metadata": {},
   "outputs": [
    {
     "name": "stdout",
     "output_type": "stream",
     "text": [
      "<class 'pandas.core.frame.DataFrame'>\n",
      "Index: 5441 entries, 0 to 4999\n",
      "Data columns (total 17 columns):\n",
      " #   Column            Non-Null Count  Dtype  \n",
      "---  ------            --------------  -----  \n",
      " 0   Habitable         5441 non-null   float64\n",
      " 1   Terrain           5441 non-null   float64\n",
      " 2   Total             5441 non-null   float64\n",
      " 3   Pièces            5441 non-null   float64\n",
      " 4   Salles de bains   5441 non-null   float64\n",
      " 5   Chambres          5441 non-null   float64\n",
      " 6   Garage            5441 non-null   int64  \n",
      " 7   Jardin            5441 non-null   int64  \n",
      " 8   Balcon            5441 non-null   int64  \n",
      " 9   Meublé            5441 non-null   int64  \n",
      " 10  Piscine           5441 non-null   int64  \n",
      " 11  Etages            5441 non-null   float64\n",
      " 12  Latitude          5441 non-null   float64\n",
      " 13  Longitude         5441 non-null   float64\n",
      " 14  Type_Land         5441 non-null   int64  \n",
      " 15  Type_Other        5441 non-null   int64  \n",
      " 16  Type_Residential  5441 non-null   int64  \n",
      "dtypes: float64(9), int64(8)\n",
      "memory usage: 765.1 KB\n"
     ]
    }
   ],
   "source": [
    "X.info()"
   ]
  },
  {
   "cell_type": "code",
   "execution_count": 125,
   "metadata": {},
   "outputs": [
    {
     "name": "stdout",
     "output_type": "stream",
     "text": [
      "🔹 Real RMSE: 46903.48\n",
      "🔹 Mean Absolute Error: 8076.08\n",
      "🔹 R² Score: 0.9743\n"
     ]
    }
   ],
   "source": [
    "# ✅ Define the model with the best hyperparameters\n",
    "from sklearn.ensemble import GradientBoostingRegressor\n",
    "sgb = GradientBoostingRegressor(\n",
    "    learning_rate=0.05,\n",
    "    max_depth=7,\n",
    "    min_samples_leaf=5,\n",
    "    min_samples_split=10,\n",
    "    n_estimators=700,\n",
    "    subsample=0.7,\n",
    "    random_state=42\n",
    ")\n",
    "\n",
    "# ✅ Train the model\n",
    "sgb.fit(X_train, y_train)\n",
    "\n",
    "# ✅ Predict on test data\n",
    "y_pred = sgb.predict(X_test)\n",
    "\n",
    "# ✅ Compute Evaluation Metrics\n",
    "rmse = np.sqrt(mean_squared_error(y_test, y_pred))\n",
    "mae = mean_absolute_error(y_test, y_pred)\n",
    "r2 = r2_score(y_test, y_pred)\n",
    "\n",
    "# ✅ Print results\n",
    "print(f\"🔹 Real RMSE: {rmse:.2f}\")\n",
    "print(f\"🔹 Mean Absolute Error: {mae:.2f}\")\n",
    "print(f\"🔹 R² Score: {r2:.4f}\")\n"
   ]
  },
  {
   "cell_type": "markdown",
   "metadata": {},
   "source": [
    "### Download the model"
   ]
  },
  {
   "cell_type": "code",
   "execution_count": null,
   "metadata": {},
   "outputs": [],
   "source": [
    "with open('model_vente','wb') as f:\n",
    "    pickle.dump(sgb,f)"
   ]
  }
 ],
 "metadata": {
  "kernelspec": {
   "display_name": "Python 3",
   "language": "python",
   "name": "python3"
  },
  "language_info": {
   "codemirror_mode": {
    "name": "ipython",
    "version": 3
   },
   "file_extension": ".py",
   "mimetype": "text/x-python",
   "name": "python",
   "nbconvert_exporter": "python",
   "pygments_lexer": "ipython3",
   "version": "3.11.0"
  }
 },
 "nbformat": 4,
 "nbformat_minor": 2
}
