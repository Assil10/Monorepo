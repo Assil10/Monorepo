{
 "cells": [
  {
   "cell_type": "markdown",
   "metadata": {},
   "source": [
    "### Import necessary libraries"
   ]
  },
  {
   "cell_type": "code",
   "execution_count": 435,
   "metadata": {},
   "outputs": [],
   "source": [
    "import pandas as pd\n",
    "import seaborn as sns\n",
    "import matplotlib.pyplot as plt\n",
    "from geopy.geocoders import Nominatim\n",
    "from geopy.exc import GeocoderTimedOut\n",
    "from sklearn.model_selection import train_test_split\n",
    "from sklearn.linear_model import LinearRegression\n",
    "from sklearn.metrics import mean_squared_error,mean_absolute_error,r2_score\n",
    "import numpy as np\n",
    "from scipy import stats\n",
    "from sklearn.preprocessing import StandardScaler\n",
    "import pickle"
   ]
  },
  {
   "cell_type": "markdown",
   "metadata": {},
   "source": [
    "### loading the dataset"
   ]
  },
  {
   "cell_type": "code",
   "execution_count": 436,
   "metadata": {},
   "outputs": [],
   "source": [
    "df_remax=pd.read_csv('remax_location.csv')"
   ]
  },
  {
   "cell_type": "code",
   "execution_count": 437,
   "metadata": {},
   "outputs": [],
   "source": [
    "df_star_location=pd.read_csv('properstar_location.csv')\n",
    "df_star_location_commercial=pd.read_csv('properstar_commercial_location.csv')\n",
    "df_star=pd.concat([df_star_location,df_star_location_commercial])"
   ]
  },
  {
   "cell_type": "markdown",
   "metadata": {},
   "source": [
    "## Data exploration"
   ]
  },
  {
   "cell_type": "markdown",
   "metadata": {},
   "source": [
    "### Properstar data"
   ]
  },
  {
   "cell_type": "code",
   "execution_count": 438,
   "metadata": {},
   "outputs": [
    {
     "data": {
      "text/html": [
       "<div>\n",
       "<style scoped>\n",
       "    .dataframe tbody tr th:only-of-type {\n",
       "        vertical-align: middle;\n",
       "    }\n",
       "\n",
       "    .dataframe tbody tr th {\n",
       "        vertical-align: top;\n",
       "    }\n",
       "\n",
       "    .dataframe thead th {\n",
       "        text-align: right;\n",
       "    }\n",
       "</style>\n",
       "<table border=\"1\" class=\"dataframe\">\n",
       "  <thead>\n",
       "    <tr style=\"text-align: right;\">\n",
       "      <th></th>\n",
       "      <th>statut</th>\n",
       "      <th>link</th>\n",
       "      <th>title</th>\n",
       "      <th>address</th>\n",
       "      <th>prix</th>\n",
       "      <th>Pièces</th>\n",
       "      <th>Etages</th>\n",
       "      <th>Habitable</th>\n",
       "      <th>Climatisation</th>\n",
       "      <th>1</th>\n",
       "      <th>...</th>\n",
       "      <th>Recharge de véhicules électriques</th>\n",
       "      <th>Vue sur les collines</th>\n",
       "      <th>Jardin: vue dégagée</th>\n",
       "      <th>Vue sur la campagne</th>\n",
       "      <th>Vue sur la verdure</th>\n",
       "      <th>Vue du port</th>\n",
       "      <th>Station de ski</th>\n",
       "      <th>Sauna</th>\n",
       "      <th>Orientation Ouest</th>\n",
       "      <th>Orientation Sud</th>\n",
       "    </tr>\n",
       "  </thead>\n",
       "  <tbody>\n",
       "    <tr>\n",
       "      <th>0</th>\n",
       "      <td>Location</td>\n",
       "      <td>https://www.properstar.fr/annonce/102564498</td>\n",
       "      <td>location scolaire S+1 à résidence Tilel</td>\n",
       "      <td>Chott Meriam</td>\n",
       "      <td>196 €</td>\n",
       "      <td>2.0</td>\n",
       "      <td>2.0</td>\n",
       "      <td>60 m²</td>\n",
       "      <td>Climatisation</td>\n",
       "      <td>1.0</td>\n",
       "      <td>...</td>\n",
       "      <td>NaN</td>\n",
       "      <td>NaN</td>\n",
       "      <td>NaN</td>\n",
       "      <td>NaN</td>\n",
       "      <td>NaN</td>\n",
       "      <td>NaN</td>\n",
       "      <td>NaN</td>\n",
       "      <td>NaN</td>\n",
       "      <td>NaN</td>\n",
       "      <td>NaN</td>\n",
       "    </tr>\n",
       "    <tr>\n",
       "      <th>1</th>\n",
       "      <td>Location</td>\n",
       "      <td>https://www.properstar.fr/annonce/102450826</td>\n",
       "      <td>Villa à Louer à Kantaoui - Location Annuelle</td>\n",
       "      <td>Akouda</td>\n",
       "      <td>482 €</td>\n",
       "      <td>3.0</td>\n",
       "      <td>1.0</td>\n",
       "      <td>130 m²</td>\n",
       "      <td>NaN</td>\n",
       "      <td>1.0</td>\n",
       "      <td>...</td>\n",
       "      <td>NaN</td>\n",
       "      <td>NaN</td>\n",
       "      <td>NaN</td>\n",
       "      <td>NaN</td>\n",
       "      <td>NaN</td>\n",
       "      <td>NaN</td>\n",
       "      <td>NaN</td>\n",
       "      <td>NaN</td>\n",
       "      <td>NaN</td>\n",
       "      <td>NaN</td>\n",
       "    </tr>\n",
       "    <tr>\n",
       "      <th>2</th>\n",
       "      <td>Location</td>\n",
       "      <td>https://www.properstar.fr/annonce/101457353</td>\n",
       "      <td>location annuelle s+3 à hammam Sousse</td>\n",
       "      <td>Hammam Sousse</td>\n",
       "      <td>451 €</td>\n",
       "      <td>4.0</td>\n",
       "      <td>4.0</td>\n",
       "      <td>100 m²</td>\n",
       "      <td>Climatisation</td>\n",
       "      <td>1.0</td>\n",
       "      <td>...</td>\n",
       "      <td>NaN</td>\n",
       "      <td>NaN</td>\n",
       "      <td>NaN</td>\n",
       "      <td>NaN</td>\n",
       "      <td>NaN</td>\n",
       "      <td>NaN</td>\n",
       "      <td>NaN</td>\n",
       "      <td>NaN</td>\n",
       "      <td>NaN</td>\n",
       "      <td>NaN</td>\n",
       "    </tr>\n",
       "  </tbody>\n",
       "</table>\n",
       "<p>3 rows × 102 columns</p>\n",
       "</div>"
      ],
      "text/plain": [
       "     statut                                         link  \\\n",
       "0  Location  https://www.properstar.fr/annonce/102564498   \n",
       "1  Location  https://www.properstar.fr/annonce/102450826   \n",
       "2  Location  https://www.properstar.fr/annonce/101457353   \n",
       "\n",
       "                                          title        address   prix  Pièces  \\\n",
       "0       location scolaire S+1 à résidence Tilel   Chott Meriam  196 €     2.0   \n",
       "1  Villa à Louer à Kantaoui - Location Annuelle         Akouda  482 €     3.0   \n",
       "2         location annuelle s+3 à hammam Sousse  Hammam Sousse  451 €     4.0   \n",
       "\n",
       "   Etages Habitable  Climatisation    1  ...  \\\n",
       "0     2.0     60 m²  Climatisation  1.0  ...   \n",
       "1     1.0    130 m²            NaN  1.0  ...   \n",
       "2     4.0    100 m²  Climatisation  1.0  ...   \n",
       "\n",
       "  Recharge de véhicules électriques Vue sur les collines Jardin: vue dégagée  \\\n",
       "0                               NaN                  NaN                 NaN   \n",
       "1                               NaN                  NaN                 NaN   \n",
       "2                               NaN                  NaN                 NaN   \n",
       "\n",
       "  Vue sur la campagne Vue sur la verdure Vue du port Station de ski Sauna  \\\n",
       "0                 NaN                NaN         NaN            NaN   NaN   \n",
       "1                 NaN                NaN         NaN            NaN   NaN   \n",
       "2                 NaN                NaN         NaN            NaN   NaN   \n",
       "\n",
       "  Orientation Ouest Orientation Sud  \n",
       "0               NaN             NaN  \n",
       "1               NaN             NaN  \n",
       "2               NaN             NaN  \n",
       "\n",
       "[3 rows x 102 columns]"
      ]
     },
     "execution_count": 438,
     "metadata": {},
     "output_type": "execute_result"
    }
   ],
   "source": [
    "df_star.head(3)"
   ]
  },
  {
   "cell_type": "code",
   "execution_count": 439,
   "metadata": {},
   "outputs": [
    {
     "data": {
      "text/plain": [
       "(391, 102)"
      ]
     },
     "execution_count": 439,
     "metadata": {},
     "output_type": "execute_result"
    }
   ],
   "source": [
    "df_star.shape"
   ]
  },
  {
   "cell_type": "code",
   "execution_count": 440,
   "metadata": {},
   "outputs": [
    {
     "data": {
      "text/plain": [
       "Index(['statut', 'link', 'title', 'address', 'prix', 'Pièces', 'Etages',\n",
       "       'Habitable', 'Climatisation', '1',\n",
       "       ...\n",
       "       'Recharge de véhicules électriques', 'Vue sur les collines',\n",
       "       'Jardin: vue dégagée', 'Vue sur la campagne', 'Vue sur la verdure',\n",
       "       'Vue du port', 'Station de ski', 'Sauna', 'Orientation Ouest',\n",
       "       'Orientation Sud'],\n",
       "      dtype='object', length=102)"
      ]
     },
     "execution_count": 440,
     "metadata": {},
     "output_type": "execute_result"
    }
   ],
   "source": [
    "df_star.columns"
   ]
  },
  {
   "cell_type": "code",
   "execution_count": 441,
   "metadata": {},
   "outputs": [
    {
     "data": {
      "text/plain": [
       "statut                     0\n",
       "link                       0\n",
       "prix                       0\n",
       "title                      2\n",
       "address                    2\n",
       "1                         52\n",
       "Pièces                    55\n",
       "Type                      80\n",
       "Habitable                 86\n",
       "Total                    157\n",
       "Etages                   180\n",
       "Meublé                   206\n",
       "Climatisation            219\n",
       "Chambres                 223\n",
       "Salles de bains          225\n",
       "Chauffage                227\n",
       "Condition                235\n",
       "Toilettes                239\n",
       "Année de construction    239\n",
       "Alarme                   248\n",
       "Eau chaude               254\n",
       "Taxi                     266\n",
       "Ascenseur                266\n",
       "Magasins                 268\n",
       "Centre-ville             274\n",
       "dtype: int64"
      ]
     },
     "execution_count": 441,
     "metadata": {},
     "output_type": "execute_result"
    }
   ],
   "source": [
    "df_star.isna().sum().sort_values(ascending=True).head(25)"
   ]
  },
  {
   "cell_type": "markdown",
   "metadata": {},
   "source": [
    "### Remax"
   ]
  },
  {
   "cell_type": "code",
   "execution_count": 442,
   "metadata": {},
   "outputs": [
    {
     "data": {
      "text/html": [
       "<div>\n",
       "<style scoped>\n",
       "    .dataframe tbody tr th:only-of-type {\n",
       "        vertical-align: middle;\n",
       "    }\n",
       "\n",
       "    .dataframe tbody tr th {\n",
       "        vertical-align: top;\n",
       "    }\n",
       "\n",
       "    .dataframe thead th {\n",
       "        text-align: right;\n",
       "    }\n",
       "</style>\n",
       "<table border=\"1\" class=\"dataframe\">\n",
       "  <thead>\n",
       "    <tr style=\"text-align: right;\">\n",
       "      <th></th>\n",
       "      <th>statut</th>\n",
       "      <th>link</th>\n",
       "      <th>title</th>\n",
       "      <th>prix</th>\n",
       "      <th>address</th>\n",
       "      <th>statut_marche</th>\n",
       "      <th>Nombre de pièces</th>\n",
       "      <th>Nombre de chambres</th>\n",
       "      <th>Nombre salles de bain</th>\n",
       "      <th>m²</th>\n",
       "      <th>...</th>\n",
       "      <th>Energie solaire</th>\n",
       "      <th>Sud</th>\n",
       "      <th>Sud-ouest</th>\n",
       "      <th>Ouest</th>\n",
       "      <th>Vue sur lac</th>\n",
       "      <th>A la campagne</th>\n",
       "      <th>Nord-ouest</th>\n",
       "      <th>Nord-est</th>\n",
       "      <th>Montagnes</th>\n",
       "      <th>Parcelle d'angle</th>\n",
       "    </tr>\n",
       "  </thead>\n",
       "  <tbody>\n",
       "    <tr>\n",
       "      <th>0</th>\n",
       "      <td>Location</td>\n",
       "      <td>https://www.remax.com.tn/fr-tn/biens/maison-in...</td>\n",
       "      <td>Maison individuelle - Location - Djerba - Mido...</td>\n",
       "      <td>2,000 TND</td>\n",
       "      <td>4116 - Djerba - Midoun - Médenine - Tunisie</td>\n",
       "      <td>Excellente valeur</td>\n",
       "      <td>3.0</td>\n",
       "      <td>2.0</td>\n",
       "      <td>2.0</td>\n",
       "      <td>400</td>\n",
       "      <td>...</td>\n",
       "      <td>NaN</td>\n",
       "      <td>NaN</td>\n",
       "      <td>NaN</td>\n",
       "      <td>NaN</td>\n",
       "      <td>NaN</td>\n",
       "      <td>NaN</td>\n",
       "      <td>NaN</td>\n",
       "      <td>NaN</td>\n",
       "      <td>NaN</td>\n",
       "      <td>NaN</td>\n",
       "    </tr>\n",
       "    <tr>\n",
       "      <th>1</th>\n",
       "      <td>Location</td>\n",
       "      <td>https://www.remax.com.tn/fr-tn/biens/apparteme...</td>\n",
       "      <td>Appartement - Location - L'Aouina Tunis Tunisie</td>\n",
       "      <td>1,100 TND</td>\n",
       "      <td>L'Aouina - Tunis - Tunisie</td>\n",
       "      <td>Nouveau sur le marché</td>\n",
       "      <td>3.0</td>\n",
       "      <td>2.0</td>\n",
       "      <td>1.0</td>\n",
       "      <td>100</td>\n",
       "      <td>...</td>\n",
       "      <td>NaN</td>\n",
       "      <td>NaN</td>\n",
       "      <td>NaN</td>\n",
       "      <td>NaN</td>\n",
       "      <td>NaN</td>\n",
       "      <td>NaN</td>\n",
       "      <td>NaN</td>\n",
       "      <td>NaN</td>\n",
       "      <td>NaN</td>\n",
       "      <td>NaN</td>\n",
       "    </tr>\n",
       "    <tr>\n",
       "      <th>2</th>\n",
       "      <td>Location</td>\n",
       "      <td>https://www.remax.com.tn/fr-tn/biens/apparteme...</td>\n",
       "      <td>Appartement - Location - La Soukra Ariana Tunisie</td>\n",
       "      <td>1,250 TND</td>\n",
       "      <td>La Soukra - Ariana - Tunisie</td>\n",
       "      <td>Remis à neuf</td>\n",
       "      <td>4.0</td>\n",
       "      <td>3.0</td>\n",
       "      <td>1.0</td>\n",
       "      <td>125</td>\n",
       "      <td>...</td>\n",
       "      <td>NaN</td>\n",
       "      <td>NaN</td>\n",
       "      <td>NaN</td>\n",
       "      <td>NaN</td>\n",
       "      <td>NaN</td>\n",
       "      <td>NaN</td>\n",
       "      <td>NaN</td>\n",
       "      <td>NaN</td>\n",
       "      <td>NaN</td>\n",
       "      <td>NaN</td>\n",
       "    </tr>\n",
       "  </tbody>\n",
       "</table>\n",
       "<p>3 rows × 126 columns</p>\n",
       "</div>"
      ],
      "text/plain": [
       "     statut                                               link  \\\n",
       "0  Location  https://www.remax.com.tn/fr-tn/biens/maison-in...   \n",
       "1  Location  https://www.remax.com.tn/fr-tn/biens/apparteme...   \n",
       "2  Location  https://www.remax.com.tn/fr-tn/biens/apparteme...   \n",
       "\n",
       "                                               title       prix  \\\n",
       "0  Maison individuelle - Location - Djerba - Mido...  2,000 TND   \n",
       "1    Appartement - Location - L'Aouina Tunis Tunisie  1,100 TND   \n",
       "2  Appartement - Location - La Soukra Ariana Tunisie  1,250 TND   \n",
       "\n",
       "                                       address          statut_marche  \\\n",
       "0  4116 - Djerba - Midoun - Médenine - Tunisie      Excellente valeur   \n",
       "1                   L'Aouina - Tunis - Tunisie  Nouveau sur le marché   \n",
       "2                 La Soukra - Ariana - Tunisie           Remis à neuf   \n",
       "\n",
       "   Nombre de pièces  Nombre de chambres  Nombre salles de bain   m²  ...  \\\n",
       "0               3.0                 2.0                    2.0  400  ...   \n",
       "1               3.0                 2.0                    1.0  100  ...   \n",
       "2               4.0                 3.0                    1.0  125  ...   \n",
       "\n",
       "   Energie solaire  Sud Sud-ouest  Ouest  Vue sur lac  A la campagne  \\\n",
       "0              NaN  NaN       NaN    NaN          NaN            NaN   \n",
       "1              NaN  NaN       NaN    NaN          NaN            NaN   \n",
       "2              NaN  NaN       NaN    NaN          NaN            NaN   \n",
       "\n",
       "   Nord-ouest  Nord-est  Montagnes  Parcelle d'angle  \n",
       "0         NaN       NaN        NaN               NaN  \n",
       "1         NaN       NaN        NaN               NaN  \n",
       "2         NaN       NaN        NaN               NaN  \n",
       "\n",
       "[3 rows x 126 columns]"
      ]
     },
     "execution_count": 442,
     "metadata": {},
     "output_type": "execute_result"
    }
   ],
   "source": [
    "df_remax.head(3)"
   ]
  },
  {
   "cell_type": "code",
   "execution_count": 443,
   "metadata": {},
   "outputs": [
    {
     "data": {
      "text/plain": [
       "(218, 126)"
      ]
     },
     "execution_count": 443,
     "metadata": {},
     "output_type": "execute_result"
    }
   ],
   "source": [
    "df_remax.shape"
   ]
  },
  {
   "cell_type": "code",
   "execution_count": 444,
   "metadata": {},
   "outputs": [
    {
     "data": {
      "text/plain": [
       "Index(['statut', 'link', 'title', 'prix', 'address', 'statut_marche',\n",
       "       'Nombre de pièces', 'Nombre de chambres', 'Nombre salles de bain', 'm²',\n",
       "       ...\n",
       "       'Energie solaire', 'Sud', 'Sud-ouest', 'Ouest', 'Vue sur lac',\n",
       "       'A la campagne', 'Nord-ouest', 'Nord-est', 'Montagnes',\n",
       "       'Parcelle d'angle'],\n",
       "      dtype='object', length=126)"
      ]
     },
     "execution_count": 444,
     "metadata": {},
     "output_type": "execute_result"
    }
   ],
   "source": [
    "df_remax.columns"
   ]
  },
  {
   "cell_type": "code",
   "execution_count": 445,
   "metadata": {},
   "outputs": [
    {
     "data": {
      "text/plain": [
       "statut                         0\n",
       "link                           0\n",
       "title                          0\n",
       "prix                           0\n",
       "address                        0\n",
       "Nombre salles de bain         14\n",
       "Nombre de pièces              17\n",
       "Nombre de chambres            17\n",
       "Surface constructible (m²)    23\n",
       "m²                            27\n",
       "Année/Mois de Construction    33\n",
       "Cuisine équipée               44\n",
       "statut_marche                 58\n",
       "Nombre d'étages               61\n",
       "Nombre de WC                  80\n",
       "dtype: int64"
      ]
     },
     "execution_count": 445,
     "metadata": {},
     "output_type": "execute_result"
    }
   ],
   "source": [
    "df_remax.isna().sum().sort_values(ascending=True).head(15)"
   ]
  },
  {
   "cell_type": "markdown",
   "metadata": {},
   "source": [
    "## Data Preprocessing"
   ]
  },
  {
   "cell_type": "markdown",
   "metadata": {},
   "source": [
    "### Column selection"
   ]
  },
  {
   "cell_type": "code",
   "execution_count": 446,
   "metadata": {},
   "outputs": [
    {
     "data": {
      "text/html": [
       "<div>\n",
       "<style scoped>\n",
       "    .dataframe tbody tr th:only-of-type {\n",
       "        vertical-align: middle;\n",
       "    }\n",
       "\n",
       "    .dataframe tbody tr th {\n",
       "        vertical-align: top;\n",
       "    }\n",
       "\n",
       "    .dataframe thead th {\n",
       "        text-align: right;\n",
       "    }\n",
       "</style>\n",
       "<table border=\"1\" class=\"dataframe\">\n",
       "  <thead>\n",
       "    <tr style=\"text-align: right;\">\n",
       "      <th></th>\n",
       "      <th>address</th>\n",
       "      <th>Type</th>\n",
       "      <th>Habitable</th>\n",
       "      <th>Pièces</th>\n",
       "      <th>Salles de bains</th>\n",
       "      <th>Chambres</th>\n",
       "      <th>Garage</th>\n",
       "      <th>Jardin</th>\n",
       "      <th>Balcon</th>\n",
       "      <th>Meublé</th>\n",
       "      <th>Piscine</th>\n",
       "      <th>Etages</th>\n",
       "      <th>prix</th>\n",
       "    </tr>\n",
       "  </thead>\n",
       "  <tbody>\n",
       "    <tr>\n",
       "      <th>0</th>\n",
       "      <td>Chott Meriam</td>\n",
       "      <td>Appartement</td>\n",
       "      <td>60 m²</td>\n",
       "      <td>2.0</td>\n",
       "      <td>NaN</td>\n",
       "      <td>NaN</td>\n",
       "      <td>NaN</td>\n",
       "      <td>NaN</td>\n",
       "      <td>NaN</td>\n",
       "      <td>Meublé</td>\n",
       "      <td>Piscine</td>\n",
       "      <td>2.0</td>\n",
       "      <td>196 €</td>\n",
       "    </tr>\n",
       "    <tr>\n",
       "      <th>1</th>\n",
       "      <td>Akouda</td>\n",
       "      <td>Maison</td>\n",
       "      <td>130 m²</td>\n",
       "      <td>3.0</td>\n",
       "      <td>NaN</td>\n",
       "      <td>NaN</td>\n",
       "      <td>NaN</td>\n",
       "      <td>NaN</td>\n",
       "      <td>NaN</td>\n",
       "      <td>NaN</td>\n",
       "      <td>NaN</td>\n",
       "      <td>1.0</td>\n",
       "      <td>482 €</td>\n",
       "    </tr>\n",
       "    <tr>\n",
       "      <th>2</th>\n",
       "      <td>Hammam Sousse</td>\n",
       "      <td>Appartement</td>\n",
       "      <td>100 m²</td>\n",
       "      <td>4.0</td>\n",
       "      <td>NaN</td>\n",
       "      <td>NaN</td>\n",
       "      <td>NaN</td>\n",
       "      <td>NaN</td>\n",
       "      <td>NaN</td>\n",
       "      <td>Meublé</td>\n",
       "      <td>NaN</td>\n",
       "      <td>4.0</td>\n",
       "      <td>451 €</td>\n",
       "    </tr>\n",
       "    <tr>\n",
       "      <th>3</th>\n",
       "      <td>El Kram</td>\n",
       "      <td>Appartement</td>\n",
       "      <td>140 m²</td>\n",
       "      <td>5.0</td>\n",
       "      <td>2.0</td>\n",
       "      <td>4.0</td>\n",
       "      <td>NaN</td>\n",
       "      <td>NaN</td>\n",
       "      <td>NaN</td>\n",
       "      <td>NaN</td>\n",
       "      <td>NaN</td>\n",
       "      <td>1.0</td>\n",
       "      <td>587 €</td>\n",
       "    </tr>\n",
       "    <tr>\n",
       "      <th>4</th>\n",
       "      <td>Sousse</td>\n",
       "      <td>Appartement</td>\n",
       "      <td>70 m²</td>\n",
       "      <td>2.0</td>\n",
       "      <td>NaN</td>\n",
       "      <td>NaN</td>\n",
       "      <td>NaN</td>\n",
       "      <td>NaN</td>\n",
       "      <td>NaN</td>\n",
       "      <td>NaN</td>\n",
       "      <td>NaN</td>\n",
       "      <td>6.0</td>\n",
       "      <td>211 €</td>\n",
       "    </tr>\n",
       "  </tbody>\n",
       "</table>\n",
       "</div>"
      ],
      "text/plain": [
       "         address         Type Habitable  Pièces  Salles de bains  Chambres  \\\n",
       "0   Chott Meriam  Appartement     60 m²     2.0              NaN       NaN   \n",
       "1         Akouda       Maison    130 m²     3.0              NaN       NaN   \n",
       "2  Hammam Sousse  Appartement    100 m²     4.0              NaN       NaN   \n",
       "3        El Kram  Appartement    140 m²     5.0              2.0       4.0   \n",
       "4         Sousse  Appartement     70 m²     2.0              NaN       NaN   \n",
       "\n",
       "  Garage Jardin Balcon  Meublé  Piscine  Etages   prix  \n",
       "0    NaN    NaN    NaN  Meublé  Piscine     2.0  196 €  \n",
       "1    NaN    NaN    NaN     NaN      NaN     1.0  482 €  \n",
       "2    NaN    NaN    NaN  Meublé      NaN     4.0  451 €  \n",
       "3    NaN    NaN    NaN     NaN      NaN     1.0  587 €  \n",
       "4    NaN    NaN    NaN     NaN      NaN     6.0  211 €  "
      ]
     },
     "execution_count": 446,
     "metadata": {},
     "output_type": "execute_result"
    }
   ],
   "source": [
    "columns_to_keep=['address','Type', 'Habitable',\n",
    "       'Pièces', 'Salles de bains', 'Chambres','Garage','Jardin','Balcon','Meublé','Piscine','Etages', 'prix']\n",
    "df_star=df_star[columns_to_keep]\n",
    "df_star.head()"
   ]
  },
  {
   "cell_type": "code",
   "execution_count": 447,
   "metadata": {},
   "outputs": [
    {
     "name": "stdout",
     "output_type": "stream",
     "text": [
      "<class 'pandas.core.frame.DataFrame'>\n",
      "Index: 391 entries, 0 to 76\n",
      "Data columns (total 13 columns):\n",
      " #   Column           Non-Null Count  Dtype  \n",
      "---  ------           --------------  -----  \n",
      " 0   address          389 non-null    object \n",
      " 1   Type             311 non-null    object \n",
      " 2   Habitable        305 non-null    object \n",
      " 3   Pièces           336 non-null    float64\n",
      " 4   Salles de bains  166 non-null    float64\n",
      " 5   Chambres         168 non-null    float64\n",
      " 6   Garage           5 non-null      object \n",
      " 7   Jardin           13 non-null     object \n",
      " 8   Balcon           76 non-null     object \n",
      " 9   Meublé           185 non-null    object \n",
      " 10  Piscine          78 non-null     object \n",
      " 11  Etages           211 non-null    float64\n",
      " 12  prix             391 non-null    object \n",
      "dtypes: float64(4), object(9)\n",
      "memory usage: 42.8+ KB\n"
     ]
    }
   ],
   "source": [
    "df_star.info()"
   ]
  },
  {
   "cell_type": "code",
   "execution_count": 448,
   "metadata": {},
   "outputs": [
    {
     "data": {
      "text/plain": [
       "Garage             386\n",
       "Jardin             378\n",
       "Balcon             315\n",
       "Piscine            313\n",
       "Salles de bains    225\n",
       "Chambres           223\n",
       "Meublé             206\n",
       "Etages             180\n",
       "Habitable           86\n",
       "Type                80\n",
       "Pièces              55\n",
       "address              2\n",
       "prix                 0\n",
       "dtype: int64"
      ]
     },
     "execution_count": 448,
     "metadata": {},
     "output_type": "execute_result"
    }
   ],
   "source": [
    "df_star.isna().sum().sort_values(ascending=False)"
   ]
  },
  {
   "cell_type": "code",
   "execution_count": 449,
   "metadata": {},
   "outputs": [
    {
     "data": {
      "text/html": [
       "<div>\n",
       "<style scoped>\n",
       "    .dataframe tbody tr th:only-of-type {\n",
       "        vertical-align: middle;\n",
       "    }\n",
       "\n",
       "    .dataframe tbody tr th {\n",
       "        vertical-align: top;\n",
       "    }\n",
       "\n",
       "    .dataframe thead th {\n",
       "        text-align: right;\n",
       "    }\n",
       "</style>\n",
       "<table border=\"1\" class=\"dataframe\">\n",
       "  <thead>\n",
       "    <tr style=\"text-align: right;\">\n",
       "      <th></th>\n",
       "      <th>title</th>\n",
       "      <th>address</th>\n",
       "      <th>m²</th>\n",
       "      <th>Nombre de pièces</th>\n",
       "      <th>Nombre salles de bain</th>\n",
       "      <th>Nombre de chambres</th>\n",
       "      <th>Garage</th>\n",
       "      <th>Jardin</th>\n",
       "      <th>Balcon</th>\n",
       "      <th>Meublé</th>\n",
       "      <th>Piscine</th>\n",
       "      <th>Piscine extérieure</th>\n",
       "      <th>Nombre d'étages</th>\n",
       "      <th>prix</th>\n",
       "    </tr>\n",
       "  </thead>\n",
       "  <tbody>\n",
       "    <tr>\n",
       "      <th>0</th>\n",
       "      <td>Maison individuelle - Location - Djerba - Mido...</td>\n",
       "      <td>4116 - Djerba - Midoun - Médenine - Tunisie</td>\n",
       "      <td>400</td>\n",
       "      <td>3.0</td>\n",
       "      <td>2.0</td>\n",
       "      <td>2.0</td>\n",
       "      <td>NaN</td>\n",
       "      <td>1.0</td>\n",
       "      <td>NaN</td>\n",
       "      <td>1.0</td>\n",
       "      <td>1.0</td>\n",
       "      <td>1.0</td>\n",
       "      <td>NaN</td>\n",
       "      <td>2,000 TND</td>\n",
       "    </tr>\n",
       "    <tr>\n",
       "      <th>1</th>\n",
       "      <td>Appartement - Location - L'Aouina Tunis Tunisie</td>\n",
       "      <td>L'Aouina - Tunis - Tunisie</td>\n",
       "      <td>100</td>\n",
       "      <td>3.0</td>\n",
       "      <td>1.0</td>\n",
       "      <td>2.0</td>\n",
       "      <td>NaN</td>\n",
       "      <td>NaN</td>\n",
       "      <td>1.0</td>\n",
       "      <td>NaN</td>\n",
       "      <td>NaN</td>\n",
       "      <td>NaN</td>\n",
       "      <td>3.0</td>\n",
       "      <td>1,100 TND</td>\n",
       "    </tr>\n",
       "    <tr>\n",
       "      <th>2</th>\n",
       "      <td>Appartement - Location - La Soukra Ariana Tunisie</td>\n",
       "      <td>La Soukra - Ariana - Tunisie</td>\n",
       "      <td>125</td>\n",
       "      <td>4.0</td>\n",
       "      <td>1.0</td>\n",
       "      <td>3.0</td>\n",
       "      <td>NaN</td>\n",
       "      <td>NaN</td>\n",
       "      <td>1.0</td>\n",
       "      <td>NaN</td>\n",
       "      <td>NaN</td>\n",
       "      <td>NaN</td>\n",
       "      <td>1.0</td>\n",
       "      <td>1,250 TND</td>\n",
       "    </tr>\n",
       "  </tbody>\n",
       "</table>\n",
       "</div>"
      ],
      "text/plain": [
       "                                               title  \\\n",
       "0  Maison individuelle - Location - Djerba - Mido...   \n",
       "1    Appartement - Location - L'Aouina Tunis Tunisie   \n",
       "2  Appartement - Location - La Soukra Ariana Tunisie   \n",
       "\n",
       "                                       address   m²  Nombre de pièces  \\\n",
       "0  4116 - Djerba - Midoun - Médenine - Tunisie  400               3.0   \n",
       "1                   L'Aouina - Tunis - Tunisie  100               3.0   \n",
       "2                 La Soukra - Ariana - Tunisie  125               4.0   \n",
       "\n",
       "   Nombre salles de bain  Nombre de chambres  Garage  Jardin  Balcon  Meublé  \\\n",
       "0                    2.0                 2.0     NaN     1.0     NaN     1.0   \n",
       "1                    1.0                 2.0     NaN     NaN     1.0     NaN   \n",
       "2                    1.0                 3.0     NaN     NaN     1.0     NaN   \n",
       "\n",
       "   Piscine  Piscine extérieure  Nombre d'étages       prix  \n",
       "0      1.0                 1.0              NaN  2,000 TND  \n",
       "1      NaN                 NaN              3.0  1,100 TND  \n",
       "2      NaN                 NaN              1.0  1,250 TND  "
      ]
     },
     "execution_count": 449,
     "metadata": {},
     "output_type": "execute_result"
    }
   ],
   "source": [
    "columns_to_keep=['title','address', 'm²',\n",
    "       'Nombre de pièces', 'Nombre salles de bain', 'Nombre de chambres',\n",
    "       'Garage','Jardin','Balcon','Meublé','Piscine','Piscine extérieure',\"Nombre d'étages\", 'prix']\n",
    "df_remax=df_remax[columns_to_keep]\n",
    "df_remax.head(3)\n"
   ]
  },
  {
   "cell_type": "code",
   "execution_count": 450,
   "metadata": {},
   "outputs": [
    {
     "data": {
      "text/html": [
       "<div>\n",
       "<style scoped>\n",
       "    .dataframe tbody tr th:only-of-type {\n",
       "        vertical-align: middle;\n",
       "    }\n",
       "\n",
       "    .dataframe tbody tr th {\n",
       "        vertical-align: top;\n",
       "    }\n",
       "\n",
       "    .dataframe thead th {\n",
       "        text-align: right;\n",
       "    }\n",
       "</style>\n",
       "<table border=\"1\" class=\"dataframe\">\n",
       "  <thead>\n",
       "    <tr style=\"text-align: right;\">\n",
       "      <th></th>\n",
       "      <th>title</th>\n",
       "      <th>address</th>\n",
       "      <th>Habitable</th>\n",
       "      <th>Pièces</th>\n",
       "      <th>Salles de bains</th>\n",
       "      <th>Chambres</th>\n",
       "      <th>Garage</th>\n",
       "      <th>Jardin</th>\n",
       "      <th>Balcon</th>\n",
       "      <th>Meublé</th>\n",
       "      <th>Piscine</th>\n",
       "      <th>Piscine extérieure</th>\n",
       "      <th>Etages</th>\n",
       "      <th>prix</th>\n",
       "    </tr>\n",
       "  </thead>\n",
       "  <tbody>\n",
       "    <tr>\n",
       "      <th>0</th>\n",
       "      <td>Maison individuelle - Location - Djerba - Mido...</td>\n",
       "      <td>4116 - Djerba - Midoun - Médenine - Tunisie</td>\n",
       "      <td>400</td>\n",
       "      <td>3.0</td>\n",
       "      <td>2.0</td>\n",
       "      <td>2.0</td>\n",
       "      <td>NaN</td>\n",
       "      <td>1.0</td>\n",
       "      <td>NaN</td>\n",
       "      <td>1.0</td>\n",
       "      <td>1.0</td>\n",
       "      <td>1.0</td>\n",
       "      <td>NaN</td>\n",
       "      <td>2,000 TND</td>\n",
       "    </tr>\n",
       "  </tbody>\n",
       "</table>\n",
       "</div>"
      ],
      "text/plain": [
       "                                               title  \\\n",
       "0  Maison individuelle - Location - Djerba - Mido...   \n",
       "\n",
       "                                       address Habitable  Pièces  \\\n",
       "0  4116 - Djerba - Midoun - Médenine - Tunisie       400     3.0   \n",
       "\n",
       "   Salles de bains  Chambres  Garage  Jardin  Balcon  Meublé  Piscine  \\\n",
       "0              2.0       2.0     NaN     1.0     NaN     1.0      1.0   \n",
       "\n",
       "   Piscine extérieure  Etages       prix  \n",
       "0                 1.0     NaN  2,000 TND  "
      ]
     },
     "execution_count": 450,
     "metadata": {},
     "output_type": "execute_result"
    }
   ],
   "source": [
    "df_remax.rename(columns={\n",
    "    'm²': 'Habitable',\n",
    "    'Nombre de chambres':'Chambres',\n",
    "    'Nombre de pièces':'Pièces',\n",
    "    'Nombre salles de bain':'Salles de bains',\n",
    "    \"Nombre d'étages\":'Etages'\n",
    "}, inplace=True)\n",
    "df_remax.head(1)"
   ]
  },
  {
   "cell_type": "code",
   "execution_count": 451,
   "metadata": {},
   "outputs": [
    {
     "name": "stdout",
     "output_type": "stream",
     "text": [
      "<class 'pandas.core.frame.DataFrame'>\n",
      "RangeIndex: 218 entries, 0 to 217\n",
      "Data columns (total 14 columns):\n",
      " #   Column              Non-Null Count  Dtype  \n",
      "---  ------              --------------  -----  \n",
      " 0   title               218 non-null    object \n",
      " 1   address             218 non-null    object \n",
      " 2   Habitable           191 non-null    object \n",
      " 3   Pièces              201 non-null    float64\n",
      " 4   Salles de bains     204 non-null    float64\n",
      " 5   Chambres            201 non-null    float64\n",
      " 6   Garage              55 non-null     float64\n",
      " 7   Jardin              76 non-null     float64\n",
      " 8   Balcon              93 non-null     float64\n",
      " 9   Meublé              114 non-null    float64\n",
      " 10  Piscine             51 non-null     float64\n",
      " 11  Piscine extérieure  17 non-null     float64\n",
      " 12  Etages              157 non-null    float64\n",
      " 13  prix                218 non-null    object \n",
      "dtypes: float64(10), object(4)\n",
      "memory usage: 24.0+ KB\n"
     ]
    }
   ],
   "source": [
    "df_remax.info()"
   ]
  },
  {
   "cell_type": "markdown",
   "metadata": {},
   "source": [
    "### Transforming column types and reshaping data"
   ]
  },
  {
   "cell_type": "markdown",
   "metadata": {},
   "source": [
    "#### properstar dataset"
   ]
  },
  {
   "cell_type": "code",
   "execution_count": 452,
   "metadata": {},
   "outputs": [
    {
     "data": {
      "text/plain": [
       "141    5,000 TND\n",
       "48     2,500 TND\n",
       "43     1,100 TND\n",
       "Name: prix, dtype: object"
      ]
     },
     "execution_count": 452,
     "metadata": {},
     "output_type": "execute_result"
    }
   ],
   "source": [
    "df_remax['prix'].sample(3)"
   ]
  },
  {
   "cell_type": "code",
   "execution_count": 453,
   "metadata": {},
   "outputs": [
    {
     "data": {
      "text/plain": [
       "266    376 €\n",
       "278    376 €\n",
       "225    482 €\n",
       "Name: prix, dtype: object"
      ]
     },
     "execution_count": 453,
     "metadata": {},
     "output_type": "execute_result"
    }
   ],
   "source": [
    "df_star['prix'].sample(3)"
   ]
  },
  {
   "cell_type": "markdown",
   "metadata": {},
   "source": [
    "#### Prix column"
   ]
  },
  {
   "cell_type": "code",
   "execution_count": 454,
   "metadata": {},
   "outputs": [],
   "source": [
    "#update the price column\n",
    "df_star['prix'] = df_star['prix'].apply(lambda x: str(x).replace('€','') if isinstance(x, str) else x)\n",
    "df_star['prix'] = df_star['prix'].apply(lambda x: str(x).replace('\\u202f', '') if isinstance(x, str) else x)\n",
    "df_star['prix'] = df_star['prix'].apply(lambda x: str(x).replace(' ','') if isinstance(x, str) else x)\n",
    "df_star['prix'] = df_star['prix'].apply(lambda x: x.strip() if isinstance(x, str) else x)\n",
    "df_star['prix'] = pd.to_numeric(df_star['prix'], errors='coerce')"
   ]
  },
  {
   "cell_type": "markdown",
   "metadata": {},
   "source": [
    "#### Habitable,Total and Terrain"
   ]
  },
  {
   "cell_type": "code",
   "execution_count": 455,
   "metadata": {},
   "outputs": [
    {
     "data": {
      "text/html": [
       "<div>\n",
       "<style scoped>\n",
       "    .dataframe tbody tr th:only-of-type {\n",
       "        vertical-align: middle;\n",
       "    }\n",
       "\n",
       "    .dataframe tbody tr th {\n",
       "        vertical-align: top;\n",
       "    }\n",
       "\n",
       "    .dataframe thead th {\n",
       "        text-align: right;\n",
       "    }\n",
       "</style>\n",
       "<table border=\"1\" class=\"dataframe\">\n",
       "  <thead>\n",
       "    <tr style=\"text-align: right;\">\n",
       "      <th></th>\n",
       "      <th>address</th>\n",
       "      <th>Type</th>\n",
       "      <th>Habitable</th>\n",
       "      <th>Pièces</th>\n",
       "      <th>Salles de bains</th>\n",
       "      <th>Chambres</th>\n",
       "      <th>Garage</th>\n",
       "      <th>Jardin</th>\n",
       "      <th>Balcon</th>\n",
       "      <th>Meublé</th>\n",
       "      <th>Piscine</th>\n",
       "      <th>Etages</th>\n",
       "      <th>prix</th>\n",
       "    </tr>\n",
       "  </thead>\n",
       "  <tbody>\n",
       "    <tr>\n",
       "      <th>83</th>\n",
       "      <td>Chott Meriam</td>\n",
       "      <td>Appartement</td>\n",
       "      <td>100 m²</td>\n",
       "      <td>4.0</td>\n",
       "      <td>NaN</td>\n",
       "      <td>NaN</td>\n",
       "      <td>NaN</td>\n",
       "      <td>NaN</td>\n",
       "      <td>NaN</td>\n",
       "      <td>Meublé</td>\n",
       "      <td>Piscine</td>\n",
       "      <td>3.0</td>\n",
       "      <td>175</td>\n",
       "    </tr>\n",
       "  </tbody>\n",
       "</table>\n",
       "</div>"
      ],
      "text/plain": [
       "         address         Type Habitable  Pièces  Salles de bains  Chambres  \\\n",
       "83  Chott Meriam  Appartement    100 m²     4.0              NaN       NaN   \n",
       "\n",
       "   Garage Jardin Balcon  Meublé  Piscine  Etages  prix  \n",
       "83    NaN    NaN    NaN  Meublé  Piscine     3.0   175  "
      ]
     },
     "execution_count": 455,
     "metadata": {},
     "output_type": "execute_result"
    }
   ],
   "source": [
    "df_star.sample(1)"
   ]
  },
  {
   "cell_type": "code",
   "execution_count": 456,
   "metadata": {},
   "outputs": [
    {
     "data": {
      "text/html": [
       "<div>\n",
       "<style scoped>\n",
       "    .dataframe tbody tr th:only-of-type {\n",
       "        vertical-align: middle;\n",
       "    }\n",
       "\n",
       "    .dataframe tbody tr th {\n",
       "        vertical-align: top;\n",
       "    }\n",
       "\n",
       "    .dataframe thead th {\n",
       "        text-align: right;\n",
       "    }\n",
       "</style>\n",
       "<table border=\"1\" class=\"dataframe\">\n",
       "  <thead>\n",
       "    <tr style=\"text-align: right;\">\n",
       "      <th></th>\n",
       "      <th>Habitable</th>\n",
       "    </tr>\n",
       "  </thead>\n",
       "  <tbody>\n",
       "    <tr>\n",
       "      <th>0</th>\n",
       "      <td>60.0</td>\n",
       "    </tr>\n",
       "    <tr>\n",
       "      <th>1</th>\n",
       "      <td>130.0</td>\n",
       "    </tr>\n",
       "    <tr>\n",
       "      <th>2</th>\n",
       "      <td>100.0</td>\n",
       "    </tr>\n",
       "    <tr>\n",
       "      <th>3</th>\n",
       "      <td>140.0</td>\n",
       "    </tr>\n",
       "    <tr>\n",
       "      <th>4</th>\n",
       "      <td>70.0</td>\n",
       "    </tr>\n",
       "  </tbody>\n",
       "</table>\n",
       "</div>"
      ],
      "text/plain": [
       "   Habitable\n",
       "0       60.0\n",
       "1      130.0\n",
       "2      100.0\n",
       "3      140.0\n",
       "4       70.0"
      ]
     },
     "execution_count": 456,
     "metadata": {},
     "output_type": "execute_result"
    }
   ],
   "source": [
    "def clean_size_column(df, col):\n",
    "    \"\"\"\n",
    "    Cleans a size-related column by:\n",
    "    1. Removing 'm²' and any non-breaking spaces.\n",
    "    2. Stripping leading/trailing spaces.\n",
    "    3. Converting cleaned values to numeric (float).\n",
    "    4. Handling missing or invalid values gracefully.\n",
    "    \"\"\"\n",
    "    df[col] = df[col].astype(str)  # Convert all to string to prevent errors\n",
    "    df[col] = df[col].str.replace('m²', '', regex=False)  # Remove 'm²'\n",
    "    df[col] = df[col].str.replace('\\u202f', '', regex=False)  # Remove non-breaking spaces\n",
    "    df[col] = df[col].str.replace(' ', '', regex=False)  # Remove normal spaces\n",
    "    df[col] = df[col].str.strip()  # Strip leading/trailing spaces\n",
    "    df[col] = pd.to_numeric(df[col], errors='coerce')  # Convert to float, setting errors to NaN\n",
    "\n",
    "# Example usage\n",
    "columns_to_clean = ['Habitable']  # List of size-related columns\n",
    "for col in columns_to_clean:\n",
    "    clean_size_column(df_star, col)\n",
    "\n",
    "# Check the cleaned columns\n",
    "df_star[columns_to_clean].head()\n"
   ]
  },
  {
   "cell_type": "markdown",
   "metadata": {},
   "source": [
    "#### Type column"
   ]
  },
  {
   "cell_type": "code",
   "execution_count": 457,
   "metadata": {},
   "outputs": [
    {
     "data": {
      "text/plain": [
       "Type\n",
       "Residential    289\n",
       "Commercial      22\n",
       "Name: count, dtype: int64"
      ]
     },
     "execution_count": 457,
     "metadata": {},
     "output_type": "execute_result"
    }
   ],
   "source": [
    "df_star['Type'] = df_star['Type'].replace({'Appartement': 'Residential','Maison':'Residential'})\n",
    "df_star['Type'].value_counts()"
   ]
  },
  {
   "cell_type": "markdown",
   "metadata": {},
   "source": [
    "#### remax dataset"
   ]
  },
  {
   "cell_type": "markdown",
   "metadata": {},
   "source": [
    "#### title column"
   ]
  },
  {
   "cell_type": "code",
   "execution_count": 458,
   "metadata": {},
   "outputs": [
    {
     "data": {
      "text/plain": [
       "Type\n",
       "Residential    177\n",
       "Other           41\n",
       "Name: count, dtype: int64"
      ]
     },
     "execution_count": 458,
     "metadata": {},
     "output_type": "execute_result"
    }
   ],
   "source": [
    "df_remax['title'] = df_remax['title'].str.split('-').str[0]\n",
    "# Remove trailing/leading spaces\n",
    "df_remax['Type'] = df_remax['title'].str.strip()\n",
    "\n",
    "# Handle specific cases for \"1\" and \"6 and More\"\n",
    "df_remax = df_remax[ (df_remax['Type']!='6 and More') & (df_remax['Type']!='1') ]\n",
    "\n",
    "# Optional: categorize property types\n",
    "def categorize_property(property_type):\n",
    "    if property_type in [\"Appartement\", \"Villa\", \"Maison\", \"Duplex\", \"Penthouse\", \"Studio\", \"Résidence\"]:\n",
    "        return \"Residential\"\n",
    "    elif property_type in [\"Commercial\", \"Showroom\", \"Bureau\", \"Office\", \"Local Commercial\", \"Building\"]:\n",
    "        return \"Commercial\"\n",
    "    elif property_type in [\"Terrain\", \"Lot\", \"Land\", \"Agricole\"]:\n",
    "        return \"Land\"\n",
    "    elif property_type in [\"Hôtel\", \"Warehouse\", \"Usine\", \"Entrepôt\", \"Industrie\"]:\n",
    "        return \"Industrial\"\n",
    "    else:\n",
    "        return \"Other\"\n",
    "df_remax['Type'] = df_remax['Type'].apply(categorize_property)\n",
    "df_remax=df_remax.drop(columns=['title'])\n",
    "df_remax['Type'].value_counts()"
   ]
  },
  {
   "cell_type": "markdown",
   "metadata": {},
   "source": [
    "#### other columns"
   ]
  },
  {
   "cell_type": "code",
   "execution_count": 459,
   "metadata": {},
   "outputs": [
    {
     "data": {
      "text/html": [
       "<div>\n",
       "<style scoped>\n",
       "    .dataframe tbody tr th:only-of-type {\n",
       "        vertical-align: middle;\n",
       "    }\n",
       "\n",
       "    .dataframe tbody tr th {\n",
       "        vertical-align: top;\n",
       "    }\n",
       "\n",
       "    .dataframe thead th {\n",
       "        text-align: right;\n",
       "    }\n",
       "</style>\n",
       "<table border=\"1\" class=\"dataframe\">\n",
       "  <thead>\n",
       "    <tr style=\"text-align: right;\">\n",
       "      <th></th>\n",
       "      <th>address</th>\n",
       "      <th>Habitable</th>\n",
       "      <th>Pièces</th>\n",
       "      <th>Salles de bains</th>\n",
       "      <th>Chambres</th>\n",
       "      <th>Garage</th>\n",
       "      <th>Jardin</th>\n",
       "      <th>Balcon</th>\n",
       "      <th>Meublé</th>\n",
       "      <th>Piscine</th>\n",
       "      <th>Piscine extérieure</th>\n",
       "      <th>Etages</th>\n",
       "      <th>prix</th>\n",
       "      <th>Type</th>\n",
       "    </tr>\n",
       "  </thead>\n",
       "  <tbody>\n",
       "    <tr>\n",
       "      <th>0</th>\n",
       "      <td>4116 - Djerba - Midoun - Médenine - Tunisie</td>\n",
       "      <td>400</td>\n",
       "      <td>3.0</td>\n",
       "      <td>2.0</td>\n",
       "      <td>2.0</td>\n",
       "      <td>NaN</td>\n",
       "      <td>1.0</td>\n",
       "      <td>NaN</td>\n",
       "      <td>1.0</td>\n",
       "      <td>1.0</td>\n",
       "      <td>1.0</td>\n",
       "      <td>NaN</td>\n",
       "      <td>2,000 TND</td>\n",
       "      <td>Other</td>\n",
       "    </tr>\n",
       "  </tbody>\n",
       "</table>\n",
       "</div>"
      ],
      "text/plain": [
       "                                       address Habitable  Pièces  \\\n",
       "0  4116 - Djerba - Midoun - Médenine - Tunisie       400     3.0   \n",
       "\n",
       "   Salles de bains  Chambres  Garage  Jardin  Balcon  Meublé  Piscine  \\\n",
       "0              2.0       2.0     NaN     1.0     NaN     1.0      1.0   \n",
       "\n",
       "   Piscine extérieure  Etages       prix   Type  \n",
       "0                 1.0     NaN  2,000 TND  Other  "
      ]
     },
     "execution_count": 459,
     "metadata": {},
     "output_type": "execute_result"
    }
   ],
   "source": [
    "df_remax.head(1)"
   ]
  },
  {
   "cell_type": "code",
   "execution_count": 460,
   "metadata": {},
   "outputs": [
    {
     "name": "stdout",
     "output_type": "stream",
     "text": [
      "<class 'pandas.core.frame.DataFrame'>\n",
      "RangeIndex: 218 entries, 0 to 217\n",
      "Data columns (total 14 columns):\n",
      " #   Column              Non-Null Count  Dtype  \n",
      "---  ------              --------------  -----  \n",
      " 0   address             218 non-null    object \n",
      " 1   Habitable           191 non-null    float64\n",
      " 2   Pièces              201 non-null    float64\n",
      " 3   Salles de bains     204 non-null    float64\n",
      " 4   Chambres            201 non-null    float64\n",
      " 5   Garage              218 non-null    float64\n",
      " 6   Jardin              218 non-null    float64\n",
      " 7   Balcon              218 non-null    float64\n",
      " 8   Meublé              218 non-null    float64\n",
      " 9   Piscine             218 non-null    float64\n",
      " 10  Piscine extérieure  218 non-null    float64\n",
      " 11  Etages              157 non-null    float64\n",
      " 12  prix                195 non-null    float64\n",
      " 13  Type                218 non-null    object \n",
      "dtypes: float64(12), object(2)\n",
      "memory usage: 24.0+ KB\n"
     ]
    }
   ],
   "source": [
    "#change column types\n",
    "df_remax['Habitable'] = df_remax['Habitable'].apply(lambda x: str(x).replace(',', '.') if isinstance(x, str) else x)\n",
    "df_remax['Habitable'] = pd.to_numeric(df_remax['Habitable'], errors='coerce')\n",
    "\n",
    "df_remax['prix'] = df_remax['prix'].apply(lambda x: str(x).replace('TND','') if isinstance(x, str) else x)\n",
    "df_remax['prix'] = df_remax['prix'].apply(lambda x: str(x).replace(',','') if isinstance(x, str) else x)\n",
    "df_remax['prix'] = df_remax['prix'].apply(lambda x: x.strip() if isinstance(x, str) else x)\n",
    "df_remax['prix'] = pd.to_numeric(df_remax['prix'], errors='coerce')\n",
    "\n",
    "columns_with_zero=['Garage','Jardin','Balcon','Meublé','Piscine','Piscine extérieure']\n",
    "for col in columns_with_zero:\n",
    "    df_remax[col]=df_remax[col].fillna(0)\n",
    "df_remax.info()"
   ]
  },
  {
   "cell_type": "code",
   "execution_count": 461,
   "metadata": {},
   "outputs": [],
   "source": [
    "df_remax['Piscine'] = df_remax[['Piscine', 'Piscine extérieure']].max(axis=1)"
   ]
  },
  {
   "cell_type": "code",
   "execution_count": 462,
   "metadata": {},
   "outputs": [
    {
     "data": {
      "text/html": [
       "<div>\n",
       "<style scoped>\n",
       "    .dataframe tbody tr th:only-of-type {\n",
       "        vertical-align: middle;\n",
       "    }\n",
       "\n",
       "    .dataframe tbody tr th {\n",
       "        vertical-align: top;\n",
       "    }\n",
       "\n",
       "    .dataframe thead th {\n",
       "        text-align: right;\n",
       "    }\n",
       "</style>\n",
       "<table border=\"1\" class=\"dataframe\">\n",
       "  <thead>\n",
       "    <tr style=\"text-align: right;\">\n",
       "      <th></th>\n",
       "      <th>address</th>\n",
       "      <th>Habitable</th>\n",
       "      <th>Pièces</th>\n",
       "      <th>Salles de bains</th>\n",
       "      <th>Chambres</th>\n",
       "      <th>Garage</th>\n",
       "      <th>Jardin</th>\n",
       "      <th>Balcon</th>\n",
       "      <th>Meublé</th>\n",
       "      <th>Piscine</th>\n",
       "      <th>Etages</th>\n",
       "      <th>prix</th>\n",
       "      <th>Type</th>\n",
       "    </tr>\n",
       "  </thead>\n",
       "  <tbody>\n",
       "    <tr>\n",
       "      <th>0</th>\n",
       "      <td>4116 - Djerba - Midoun - Médenine - Tunisie</td>\n",
       "      <td>400.0</td>\n",
       "      <td>3.0</td>\n",
       "      <td>2.0</td>\n",
       "      <td>2.0</td>\n",
       "      <td>0.0</td>\n",
       "      <td>1.0</td>\n",
       "      <td>0.0</td>\n",
       "      <td>1.0</td>\n",
       "      <td>1.0</td>\n",
       "      <td>NaN</td>\n",
       "      <td>2000.0</td>\n",
       "      <td>Other</td>\n",
       "    </tr>\n",
       "  </tbody>\n",
       "</table>\n",
       "</div>"
      ],
      "text/plain": [
       "                                       address  Habitable  Pièces  \\\n",
       "0  4116 - Djerba - Midoun - Médenine - Tunisie      400.0     3.0   \n",
       "\n",
       "   Salles de bains  Chambres  Garage  Jardin  Balcon  Meublé  Piscine  Etages  \\\n",
       "0              2.0       2.0     0.0     1.0     0.0     1.0      1.0     NaN   \n",
       "\n",
       "     prix   Type  \n",
       "0  2000.0  Other  "
      ]
     },
     "execution_count": 462,
     "metadata": {},
     "output_type": "execute_result"
    }
   ],
   "source": [
    "df_remax=df_remax.drop('Piscine extérieure',axis=1)\n",
    "df_remax.head(1)"
   ]
  },
  {
   "cell_type": "markdown",
   "metadata": {},
   "source": [
    "#### combine the two dataframes into one"
   ]
  },
  {
   "cell_type": "code",
   "execution_count": 463,
   "metadata": {},
   "outputs": [
    {
     "name": "stdout",
     "output_type": "stream",
     "text": [
      "(609, 13)\n"
     ]
    },
    {
     "data": {
      "text/html": [
       "<div>\n",
       "<style scoped>\n",
       "    .dataframe tbody tr th:only-of-type {\n",
       "        vertical-align: middle;\n",
       "    }\n",
       "\n",
       "    .dataframe tbody tr th {\n",
       "        vertical-align: top;\n",
       "    }\n",
       "\n",
       "    .dataframe thead th {\n",
       "        text-align: right;\n",
       "    }\n",
       "</style>\n",
       "<table border=\"1\" class=\"dataframe\">\n",
       "  <thead>\n",
       "    <tr style=\"text-align: right;\">\n",
       "      <th></th>\n",
       "      <th>address</th>\n",
       "      <th>Habitable</th>\n",
       "      <th>Pièces</th>\n",
       "      <th>Salles de bains</th>\n",
       "      <th>Chambres</th>\n",
       "      <th>Garage</th>\n",
       "      <th>Jardin</th>\n",
       "      <th>Balcon</th>\n",
       "      <th>Meublé</th>\n",
       "      <th>Piscine</th>\n",
       "      <th>Etages</th>\n",
       "      <th>prix</th>\n",
       "      <th>Type</th>\n",
       "    </tr>\n",
       "  </thead>\n",
       "  <tbody>\n",
       "    <tr>\n",
       "      <th>0</th>\n",
       "      <td>4116 - Djerba - Midoun - Médenine - Tunisie</td>\n",
       "      <td>400.0</td>\n",
       "      <td>3.0</td>\n",
       "      <td>2.0</td>\n",
       "      <td>2.0</td>\n",
       "      <td>0.0</td>\n",
       "      <td>1.0</td>\n",
       "      <td>0.0</td>\n",
       "      <td>1.0</td>\n",
       "      <td>1.0</td>\n",
       "      <td>NaN</td>\n",
       "      <td>2000.0</td>\n",
       "      <td>Other</td>\n",
       "    </tr>\n",
       "    <tr>\n",
       "      <th>1</th>\n",
       "      <td>L'Aouina - Tunis - Tunisie</td>\n",
       "      <td>100.0</td>\n",
       "      <td>3.0</td>\n",
       "      <td>1.0</td>\n",
       "      <td>2.0</td>\n",
       "      <td>0.0</td>\n",
       "      <td>0.0</td>\n",
       "      <td>1.0</td>\n",
       "      <td>0.0</td>\n",
       "      <td>0.0</td>\n",
       "      <td>3.0</td>\n",
       "      <td>1100.0</td>\n",
       "      <td>Residential</td>\n",
       "    </tr>\n",
       "    <tr>\n",
       "      <th>2</th>\n",
       "      <td>La Soukra - Ariana - Tunisie</td>\n",
       "      <td>125.0</td>\n",
       "      <td>4.0</td>\n",
       "      <td>1.0</td>\n",
       "      <td>3.0</td>\n",
       "      <td>0.0</td>\n",
       "      <td>0.0</td>\n",
       "      <td>1.0</td>\n",
       "      <td>0.0</td>\n",
       "      <td>0.0</td>\n",
       "      <td>1.0</td>\n",
       "      <td>1250.0</td>\n",
       "      <td>Residential</td>\n",
       "    </tr>\n",
       "    <tr>\n",
       "      <th>3</th>\n",
       "      <td>Ennasr II, Ariana - 2001 - Ennasr 1-2 - Ariana...</td>\n",
       "      <td>196.0</td>\n",
       "      <td>4.0</td>\n",
       "      <td>1.0</td>\n",
       "      <td>3.0</td>\n",
       "      <td>0.0</td>\n",
       "      <td>0.0</td>\n",
       "      <td>0.0</td>\n",
       "      <td>1.0</td>\n",
       "      <td>0.0</td>\n",
       "      <td>3.0</td>\n",
       "      <td>3000.0</td>\n",
       "      <td>Residential</td>\n",
       "    </tr>\n",
       "    <tr>\n",
       "      <th>4</th>\n",
       "      <td>La Marsa - La Marsa - Tunis - Tunisie</td>\n",
       "      <td>60.0</td>\n",
       "      <td>2.0</td>\n",
       "      <td>1.0</td>\n",
       "      <td>1.0</td>\n",
       "      <td>0.0</td>\n",
       "      <td>0.0</td>\n",
       "      <td>1.0</td>\n",
       "      <td>1.0</td>\n",
       "      <td>0.0</td>\n",
       "      <td>1.0</td>\n",
       "      <td>2200.0</td>\n",
       "      <td>Residential</td>\n",
       "    </tr>\n",
       "  </tbody>\n",
       "</table>\n",
       "</div>"
      ],
      "text/plain": [
       "                                             address  Habitable  Pièces  \\\n",
       "0        4116 - Djerba - Midoun - Médenine - Tunisie      400.0     3.0   \n",
       "1                         L'Aouina - Tunis - Tunisie      100.0     3.0   \n",
       "2                       La Soukra - Ariana - Tunisie      125.0     4.0   \n",
       "3  Ennasr II, Ariana - 2001 - Ennasr 1-2 - Ariana...      196.0     4.0   \n",
       "4              La Marsa - La Marsa - Tunis - Tunisie       60.0     2.0   \n",
       "\n",
       "   Salles de bains  Chambres Garage Jardin Balcon Meublé Piscine  Etages  \\\n",
       "0              2.0       2.0    0.0    1.0    0.0    1.0     1.0     NaN   \n",
       "1              1.0       2.0    0.0    0.0    1.0    0.0     0.0     3.0   \n",
       "2              1.0       3.0    0.0    0.0    1.0    0.0     0.0     1.0   \n",
       "3              1.0       3.0    0.0    0.0    0.0    1.0     0.0     3.0   \n",
       "4              1.0       1.0    0.0    0.0    1.0    1.0     0.0     1.0   \n",
       "\n",
       "     prix         Type  \n",
       "0  2000.0        Other  \n",
       "1  1100.0  Residential  \n",
       "2  1250.0  Residential  \n",
       "3  3000.0  Residential  \n",
       "4  2200.0  Residential  "
      ]
     },
     "execution_count": 463,
     "metadata": {},
     "output_type": "execute_result"
    }
   ],
   "source": [
    "df=pd.concat([df_remax,df_star])\n",
    "print(df.shape)\n",
    "df.head()"
   ]
  },
  {
   "cell_type": "code",
   "execution_count": 464,
   "metadata": {},
   "outputs": [
    {
     "name": "stdout",
     "output_type": "stream",
     "text": [
      "<class 'pandas.core.frame.DataFrame'>\n",
      "Index: 609 entries, 0 to 76\n",
      "Data columns (total 13 columns):\n",
      " #   Column           Non-Null Count  Dtype  \n",
      "---  ------           --------------  -----  \n",
      " 0   address          607 non-null    object \n",
      " 1   Habitable        496 non-null    float64\n",
      " 2   Pièces           537 non-null    float64\n",
      " 3   Salles de bains  370 non-null    float64\n",
      " 4   Chambres         369 non-null    float64\n",
      " 5   Garage           223 non-null    object \n",
      " 6   Jardin           231 non-null    object \n",
      " 7   Balcon           294 non-null    object \n",
      " 8   Meublé           403 non-null    object \n",
      " 9   Piscine          296 non-null    object \n",
      " 10  Etages           368 non-null    float64\n",
      " 11  prix             586 non-null    float64\n",
      " 12  Type             529 non-null    object \n",
      "dtypes: float64(6), object(7)\n",
      "memory usage: 66.6+ KB\n"
     ]
    }
   ],
   "source": [
    "df.info()"
   ]
  },
  {
   "cell_type": "markdown",
   "metadata": {},
   "source": [
    "### Handling missing values"
   ]
  },
  {
   "cell_type": "code",
   "execution_count": 465,
   "metadata": {},
   "outputs": [
    {
     "data": {
      "text/plain": [
       "(586, 13)"
      ]
     },
     "execution_count": 465,
     "metadata": {},
     "output_type": "execute_result"
    }
   ],
   "source": [
    "df_clean=df.dropna(subset=['prix'])\n",
    "df_clean.shape"
   ]
  },
  {
   "cell_type": "code",
   "execution_count": 466,
   "metadata": {},
   "outputs": [
    {
     "data": {
      "text/plain": [
       "Jardin\n",
       "0.0        128\n",
       "1.0         67\n",
       "Jardin       5\n",
       "300 m²       3\n",
       "350 m²       2\n",
       "486 m²       1\n",
       "240 m²       1\n",
       "1000 m²      1\n",
       "Name: count, dtype: int64"
      ]
     },
     "execution_count": 466,
     "metadata": {},
     "output_type": "execute_result"
    }
   ],
   "source": [
    "df_clean['Jardin'].value_counts()"
   ]
  },
  {
   "cell_type": "code",
   "execution_count": 467,
   "metadata": {},
   "outputs": [
    {
     "name": "stderr",
     "output_type": "stream",
     "text": [
      "C:\\Users\\MSI\\AppData\\Local\\Temp\\ipykernel_19068\\3393552808.py:1: FutureWarning: A value is trying to be set on a copy of a DataFrame or Series through chained assignment using an inplace method.\n",
      "The behavior will change in pandas 3.0. This inplace method will never work because the intermediate object on which we are setting values always behaves as a copy.\n",
      "\n",
      "For example, when doing 'df[col].method(value, inplace=True)', try using 'df.method({col: value}, inplace=True)' or df[col] = df[col].method(value) instead, to perform the operation inplace on the original object.\n",
      "\n",
      "\n",
      "  df_clean['Jardin'].fillna(0,inplace=True)\n",
      "C:\\Users\\MSI\\AppData\\Local\\Temp\\ipykernel_19068\\3393552808.py:1: SettingWithCopyWarning: \n",
      "A value is trying to be set on a copy of a slice from a DataFrame\n",
      "\n",
      "See the caveats in the documentation: https://pandas.pydata.org/pandas-docs/stable/user_guide/indexing.html#returning-a-view-versus-a-copy\n",
      "  df_clean['Jardin'].fillna(0,inplace=True)\n",
      "C:\\Users\\MSI\\AppData\\Local\\Temp\\ipykernel_19068\\3393552808.py:2: SettingWithCopyWarning: \n",
      "A value is trying to be set on a copy of a slice from a DataFrame.\n",
      "Try using .loc[row_indexer,col_indexer] = value instead\n",
      "\n",
      "See the caveats in the documentation: https://pandas.pydata.org/pandas-docs/stable/user_guide/indexing.html#returning-a-view-versus-a-copy\n",
      "  df_clean['Jardin'] = df_clean['Jardin'].apply(lambda x: 1 if x != 0.0 else 0)\n"
     ]
    },
    {
     "data": {
      "text/plain": [
       "Jardin\n",
       "0    506\n",
       "1     80\n",
       "Name: count, dtype: int64"
      ]
     },
     "execution_count": 467,
     "metadata": {},
     "output_type": "execute_result"
    }
   ],
   "source": [
    "df_clean['Jardin'].fillna(0,inplace=True)\n",
    "df_clean['Jardin'] = df_clean['Jardin'].apply(lambda x: 1 if x != 0.0 else 0)\n",
    "df_clean['Jardin'].value_counts()"
   ]
  },
  {
   "cell_type": "code",
   "execution_count": 468,
   "metadata": {},
   "outputs": [
    {
     "data": {
      "text/plain": [
       "Balcon\n",
       "0.0       112\n",
       "1.0        83\n",
       "Balcon     76\n",
       "Name: count, dtype: int64"
      ]
     },
     "execution_count": 468,
     "metadata": {},
     "output_type": "execute_result"
    }
   ],
   "source": [
    "df_clean['Balcon'].value_counts()"
   ]
  },
  {
   "cell_type": "code",
   "execution_count": 469,
   "metadata": {},
   "outputs": [
    {
     "name": "stderr",
     "output_type": "stream",
     "text": [
      "C:\\Users\\MSI\\AppData\\Local\\Temp\\ipykernel_19068\\234478673.py:1: FutureWarning: A value is trying to be set on a copy of a DataFrame or Series through chained assignment using an inplace method.\n",
      "The behavior will change in pandas 3.0. This inplace method will never work because the intermediate object on which we are setting values always behaves as a copy.\n",
      "\n",
      "For example, when doing 'df[col].method(value, inplace=True)', try using 'df.method({col: value}, inplace=True)' or df[col] = df[col].method(value) instead, to perform the operation inplace on the original object.\n",
      "\n",
      "\n",
      "  df_clean['Balcon'].fillna(0,inplace=True)\n",
      "C:\\Users\\MSI\\AppData\\Local\\Temp\\ipykernel_19068\\234478673.py:1: SettingWithCopyWarning: \n",
      "A value is trying to be set on a copy of a slice from a DataFrame\n",
      "\n",
      "See the caveats in the documentation: https://pandas.pydata.org/pandas-docs/stable/user_guide/indexing.html#returning-a-view-versus-a-copy\n",
      "  df_clean['Balcon'].fillna(0,inplace=True)\n",
      "C:\\Users\\MSI\\AppData\\Local\\Temp\\ipykernel_19068\\234478673.py:2: SettingWithCopyWarning: \n",
      "A value is trying to be set on a copy of a slice from a DataFrame.\n",
      "Try using .loc[row_indexer,col_indexer] = value instead\n",
      "\n",
      "See the caveats in the documentation: https://pandas.pydata.org/pandas-docs/stable/user_guide/indexing.html#returning-a-view-versus-a-copy\n",
      "  df_clean['Balcon'] = df_clean['Balcon'].apply(lambda x: 1 if x != 0.0 else 0)\n"
     ]
    },
    {
     "data": {
      "text/plain": [
       "Balcon\n",
       "0    427\n",
       "1    159\n",
       "Name: count, dtype: int64"
      ]
     },
     "execution_count": 469,
     "metadata": {},
     "output_type": "execute_result"
    }
   ],
   "source": [
    "df_clean['Balcon'].fillna(0,inplace=True)\n",
    "df_clean['Balcon'] = df_clean['Balcon'].apply(lambda x: 1 if x != 0.0 else 0)\n",
    "df_clean['Balcon'].value_counts()"
   ]
  },
  {
   "cell_type": "code",
   "execution_count": 470,
   "metadata": {},
   "outputs": [
    {
     "data": {
      "text/plain": [
       "Meublé\n",
       "Meublé    185\n",
       "1.0       106\n",
       "0.0        89\n",
       "Name: count, dtype: int64"
      ]
     },
     "execution_count": 470,
     "metadata": {},
     "output_type": "execute_result"
    }
   ],
   "source": [
    "df_clean['Meublé'].value_counts()"
   ]
  },
  {
   "cell_type": "code",
   "execution_count": 471,
   "metadata": {},
   "outputs": [
    {
     "name": "stderr",
     "output_type": "stream",
     "text": [
      "C:\\Users\\MSI\\AppData\\Local\\Temp\\ipykernel_19068\\1602645294.py:1: FutureWarning: A value is trying to be set on a copy of a DataFrame or Series through chained assignment using an inplace method.\n",
      "The behavior will change in pandas 3.0. This inplace method will never work because the intermediate object on which we are setting values always behaves as a copy.\n",
      "\n",
      "For example, when doing 'df[col].method(value, inplace=True)', try using 'df.method({col: value}, inplace=True)' or df[col] = df[col].method(value) instead, to perform the operation inplace on the original object.\n",
      "\n",
      "\n",
      "  df_clean['Meublé'].fillna(0,inplace=True)\n",
      "C:\\Users\\MSI\\AppData\\Local\\Temp\\ipykernel_19068\\1602645294.py:1: SettingWithCopyWarning: \n",
      "A value is trying to be set on a copy of a slice from a DataFrame\n",
      "\n",
      "See the caveats in the documentation: https://pandas.pydata.org/pandas-docs/stable/user_guide/indexing.html#returning-a-view-versus-a-copy\n",
      "  df_clean['Meublé'].fillna(0,inplace=True)\n",
      "C:\\Users\\MSI\\AppData\\Local\\Temp\\ipykernel_19068\\1602645294.py:2: SettingWithCopyWarning: \n",
      "A value is trying to be set on a copy of a slice from a DataFrame.\n",
      "Try using .loc[row_indexer,col_indexer] = value instead\n",
      "\n",
      "See the caveats in the documentation: https://pandas.pydata.org/pandas-docs/stable/user_guide/indexing.html#returning-a-view-versus-a-copy\n",
      "  df_clean['Meublé'] = df_clean['Meublé'].apply(lambda x: 1 if x != 0.0 else 0)\n"
     ]
    },
    {
     "data": {
      "text/plain": [
       "Meublé\n",
       "0    295\n",
       "1    291\n",
       "Name: count, dtype: int64"
      ]
     },
     "execution_count": 471,
     "metadata": {},
     "output_type": "execute_result"
    }
   ],
   "source": [
    "df_clean['Meublé'].fillna(0,inplace=True)\n",
    "df_clean['Meublé'] = df_clean['Meublé'].apply(lambda x: 1 if x != 0.0 else 0)\n",
    "df_clean['Meublé'].value_counts()"
   ]
  },
  {
   "cell_type": "code",
   "execution_count": 472,
   "metadata": {},
   "outputs": [
    {
     "data": {
      "text/plain": [
       "Piscine\n",
       "0.0        148\n",
       "Piscine     78\n",
       "1.0         47\n",
       "Name: count, dtype: int64"
      ]
     },
     "execution_count": 472,
     "metadata": {},
     "output_type": "execute_result"
    }
   ],
   "source": [
    "df_clean['Piscine'].value_counts()"
   ]
  },
  {
   "cell_type": "code",
   "execution_count": 473,
   "metadata": {},
   "outputs": [
    {
     "name": "stderr",
     "output_type": "stream",
     "text": [
      "C:\\Users\\MSI\\AppData\\Local\\Temp\\ipykernel_19068\\2679576601.py:1: FutureWarning: A value is trying to be set on a copy of a DataFrame or Series through chained assignment using an inplace method.\n",
      "The behavior will change in pandas 3.0. This inplace method will never work because the intermediate object on which we are setting values always behaves as a copy.\n",
      "\n",
      "For example, when doing 'df[col].method(value, inplace=True)', try using 'df.method({col: value}, inplace=True)' or df[col] = df[col].method(value) instead, to perform the operation inplace on the original object.\n",
      "\n",
      "\n",
      "  df_clean['Piscine'].fillna(0,inplace=True)\n",
      "C:\\Users\\MSI\\AppData\\Local\\Temp\\ipykernel_19068\\2679576601.py:1: SettingWithCopyWarning: \n",
      "A value is trying to be set on a copy of a slice from a DataFrame\n",
      "\n",
      "See the caveats in the documentation: https://pandas.pydata.org/pandas-docs/stable/user_guide/indexing.html#returning-a-view-versus-a-copy\n",
      "  df_clean['Piscine'].fillna(0,inplace=True)\n",
      "C:\\Users\\MSI\\AppData\\Local\\Temp\\ipykernel_19068\\2679576601.py:2: SettingWithCopyWarning: \n",
      "A value is trying to be set on a copy of a slice from a DataFrame.\n",
      "Try using .loc[row_indexer,col_indexer] = value instead\n",
      "\n",
      "See the caveats in the documentation: https://pandas.pydata.org/pandas-docs/stable/user_guide/indexing.html#returning-a-view-versus-a-copy\n",
      "  df_clean['Piscine'] = df_clean['Piscine'].apply(lambda x: 1 if x != 0.0 else 0)\n"
     ]
    },
    {
     "data": {
      "text/plain": [
       "Piscine\n",
       "0    461\n",
       "1    125\n",
       "Name: count, dtype: int64"
      ]
     },
     "execution_count": 473,
     "metadata": {},
     "output_type": "execute_result"
    }
   ],
   "source": [
    "df_clean['Piscine'].fillna(0,inplace=True)\n",
    "df_clean['Piscine'] = df_clean['Piscine'].apply(lambda x: 1 if x != 0.0 else 0)\n",
    "df_clean['Piscine'].value_counts()"
   ]
  },
  {
   "cell_type": "code",
   "execution_count": 474,
   "metadata": {},
   "outputs": [
    {
     "data": {
      "text/plain": [
       "Garage\n",
       "0.0       146\n",
       "1.0        49\n",
       "Garage      5\n",
       "Name: count, dtype: int64"
      ]
     },
     "execution_count": 474,
     "metadata": {},
     "output_type": "execute_result"
    }
   ],
   "source": [
    "df_clean['Garage'].value_counts()"
   ]
  },
  {
   "cell_type": "code",
   "execution_count": 475,
   "metadata": {},
   "outputs": [
    {
     "name": "stderr",
     "output_type": "stream",
     "text": [
      "C:\\Users\\MSI\\AppData\\Local\\Temp\\ipykernel_19068\\51011127.py:1: FutureWarning: A value is trying to be set on a copy of a DataFrame or Series through chained assignment using an inplace method.\n",
      "The behavior will change in pandas 3.0. This inplace method will never work because the intermediate object on which we are setting values always behaves as a copy.\n",
      "\n",
      "For example, when doing 'df[col].method(value, inplace=True)', try using 'df.method({col: value}, inplace=True)' or df[col] = df[col].method(value) instead, to perform the operation inplace on the original object.\n",
      "\n",
      "\n",
      "  df_clean['Garage'].fillna(0,inplace=True)\n",
      "C:\\Users\\MSI\\AppData\\Local\\Temp\\ipykernel_19068\\51011127.py:1: SettingWithCopyWarning: \n",
      "A value is trying to be set on a copy of a slice from a DataFrame\n",
      "\n",
      "See the caveats in the documentation: https://pandas.pydata.org/pandas-docs/stable/user_guide/indexing.html#returning-a-view-versus-a-copy\n",
      "  df_clean['Garage'].fillna(0,inplace=True)\n",
      "C:\\Users\\MSI\\AppData\\Local\\Temp\\ipykernel_19068\\51011127.py:2: SettingWithCopyWarning: \n",
      "A value is trying to be set on a copy of a slice from a DataFrame.\n",
      "Try using .loc[row_indexer,col_indexer] = value instead\n",
      "\n",
      "See the caveats in the documentation: https://pandas.pydata.org/pandas-docs/stable/user_guide/indexing.html#returning-a-view-versus-a-copy\n",
      "  df_clean['Garage'] = df_clean['Garage'].apply(lambda x: 1 if x != 0.0 else 0)\n"
     ]
    },
    {
     "data": {
      "text/plain": [
       "Garage\n",
       "0    532\n",
       "1     54\n",
       "Name: count, dtype: int64"
      ]
     },
     "execution_count": 475,
     "metadata": {},
     "output_type": "execute_result"
    }
   ],
   "source": [
    "df_clean['Garage'].fillna(0,inplace=True)\n",
    "df_clean['Garage'] = df_clean['Garage'].apply(lambda x: 1 if x != 0.0 else 0)\n",
    "df_clean['Garage'].value_counts()"
   ]
  },
  {
   "cell_type": "code",
   "execution_count": 476,
   "metadata": {},
   "outputs": [
    {
     "name": "stdout",
     "output_type": "stream",
     "text": [
      "<class 'pandas.core.frame.DataFrame'>\n",
      "Index: 586 entries, 0 to 76\n",
      "Data columns (total 13 columns):\n",
      " #   Column           Non-Null Count  Dtype  \n",
      "---  ------           --------------  -----  \n",
      " 0   address          584 non-null    object \n",
      " 1   Habitable        473 non-null    float64\n",
      " 2   Pièces           514 non-null    float64\n",
      " 3   Salles de bains  349 non-null    float64\n",
      " 4   Chambres         348 non-null    float64\n",
      " 5   Garage           586 non-null    int64  \n",
      " 6   Jardin           586 non-null    int64  \n",
      " 7   Balcon           586 non-null    int64  \n",
      " 8   Meublé           586 non-null    int64  \n",
      " 9   Piscine          586 non-null    int64  \n",
      " 10  Etages           352 non-null    float64\n",
      " 11  prix             586 non-null    float64\n",
      " 12  Type             506 non-null    object \n",
      "dtypes: float64(6), int64(5), object(2)\n",
      "memory usage: 64.1+ KB\n"
     ]
    }
   ],
   "source": [
    "df_clean.info()"
   ]
  },
  {
   "cell_type": "code",
   "execution_count": 477,
   "metadata": {},
   "outputs": [],
   "source": [
    "def plot_distribution(data,title,xlabel):\n",
    "    plt.figure(figsize=(10, 6))\n",
    "    sns.histplot(data, kde=True)  # kde=True will add a kernel density estimate curve to visualize distribution smoothly\n",
    "    plt.title(title)\n",
    "    plt.xlabel(xlabel)\n",
    "    plt.ylabel('Frequency')\n",
    "    plt.show()"
   ]
  },
  {
   "cell_type": "code",
   "execution_count": 478,
   "metadata": {},
   "outputs": [
    {
     "data": {
      "image/png": "[encoded data removed]",
      "text/plain": [
       "<Figure size 1000x600 with 1 Axes>"
      ]
     },
     "metadata": {},
     "output_type": "display_data"
    }
   ],
   "source": [
    "plot_distribution(df_clean['Habitable'],'Habitable Distribution','Habitable')"
   ]
  },
  {
   "cell_type": "code",
   "execution_count": 479,
   "metadata": {},
   "outputs": [
    {
     "name": "stderr",
     "output_type": "stream",
     "text": [
      "C:\\Users\\MSI\\AppData\\Local\\Temp\\ipykernel_19068\\1680901862.py:2: FutureWarning: A value is trying to be set on a copy of a DataFrame or Series through chained assignment using an inplace method.\n",
      "The behavior will change in pandas 3.0. This inplace method will never work because the intermediate object on which we are setting values always behaves as a copy.\n",
      "\n",
      "For example, when doing 'df[col].method(value, inplace=True)', try using 'df.method({col: value}, inplace=True)' or df[col] = df[col].method(value) instead, to perform the operation inplace on the original object.\n",
      "\n",
      "\n",
      "  df_clean['Habitable'].fillna(df_clean['Habitable'].median(), inplace=True)\n",
      "C:\\Users\\MSI\\AppData\\Local\\Temp\\ipykernel_19068\\1680901862.py:2: SettingWithCopyWarning: \n",
      "A value is trying to be set on a copy of a slice from a DataFrame\n",
      "\n",
      "See the caveats in the documentation: https://pandas.pydata.org/pandas-docs/stable/user_guide/indexing.html#returning-a-view-versus-a-copy\n",
      "  df_clean['Habitable'].fillna(df_clean['Habitable'].median(), inplace=True)\n"
     ]
    }
   ],
   "source": [
    "# Replace missing values with median since the distribution is skwed\n",
    "df_clean['Habitable'].fillna(df_clean['Habitable'].median(), inplace=True)"
   ]
  },
  {
   "cell_type": "code",
   "execution_count": 480,
   "metadata": {},
   "outputs": [
    {
     "data": {
      "image/png": "[encoded data removed]",
      "text/plain": [
       "<Figure size 1000x600 with 1 Axes>"
      ]
     },
     "metadata": {},
     "output_type": "display_data"
    }
   ],
   "source": [
    "plot_distribution(df_clean['Etages'],'Etages distribution','Etages')"
   ]
  },
  {
   "cell_type": "code",
   "execution_count": 481,
   "metadata": {},
   "outputs": [
    {
     "data": {
      "image/png": "[encoded data removed]",
      "text/plain": [
       "<Figure size 1000x600 with 1 Axes>"
      ]
     },
     "metadata": {},
     "output_type": "display_data"
    }
   ],
   "source": [
    "plot_distribution(df_clean['Pièces'],'Pièces distribution','Pièces')"
   ]
  },
  {
   "cell_type": "code",
   "execution_count": 482,
   "metadata": {},
   "outputs": [
    {
     "name": "stderr",
     "output_type": "stream",
     "text": [
      "C:\\Users\\MSI\\AppData\\Local\\Temp\\ipykernel_19068\\3906860705.py:2: FutureWarning: A value is trying to be set on a copy of a DataFrame or Series through chained assignment using an inplace method.\n",
      "The behavior will change in pandas 3.0. This inplace method will never work because the intermediate object on which we are setting values always behaves as a copy.\n",
      "\n",
      "For example, when doing 'df[col].method(value, inplace=True)', try using 'df.method({col: value}, inplace=True)' or df[col] = df[col].method(value) instead, to perform the operation inplace on the original object.\n",
      "\n",
      "\n",
      "  df_clean['Pièces'].fillna(df_clean['Pièces'].median(), inplace=True)\n",
      "C:\\Users\\MSI\\AppData\\Local\\Temp\\ipykernel_19068\\3906860705.py:2: SettingWithCopyWarning: \n",
      "A value is trying to be set on a copy of a slice from a DataFrame\n",
      "\n",
      "See the caveats in the documentation: https://pandas.pydata.org/pandas-docs/stable/user_guide/indexing.html#returning-a-view-versus-a-copy\n",
      "  df_clean['Pièces'].fillna(df_clean['Pièces'].median(), inplace=True)\n"
     ]
    }
   ],
   "source": [
    "# Replace missing values with median since the distribution is skwed\n",
    "df_clean['Pièces'].fillna(df_clean['Pièces'].median(), inplace=True)"
   ]
  },
  {
   "cell_type": "code",
   "execution_count": 483,
   "metadata": {},
   "outputs": [],
   "source": [
    "df_clean = df_clean[df_clean['Pièces']<20]"
   ]
  },
  {
   "cell_type": "code",
   "execution_count": 484,
   "metadata": {},
   "outputs": [
    {
     "data": {
      "image/png": "[encoded data removed]",
      "text/plain": [
       "<Figure size 1000x600 with 1 Axes>"
      ]
     },
     "metadata": {},
     "output_type": "display_data"
    }
   ],
   "source": [
    "plot_distribution(df_clean['Salles de bains'],'Salles de bains distribution','Salles de bains')"
   ]
  },
  {
   "cell_type": "code",
   "execution_count": 485,
   "metadata": {},
   "outputs": [
    {
     "name": "stderr",
     "output_type": "stream",
     "text": [
      "C:\\Users\\MSI\\AppData\\Local\\Temp\\ipykernel_19068\\2135588293.py:2: FutureWarning: A value is trying to be set on a copy of a DataFrame or Series through chained assignment using an inplace method.\n",
      "The behavior will change in pandas 3.0. This inplace method will never work because the intermediate object on which we are setting values always behaves as a copy.\n",
      "\n",
      "For example, when doing 'df[col].method(value, inplace=True)', try using 'df.method({col: value}, inplace=True)' or df[col] = df[col].method(value) instead, to perform the operation inplace on the original object.\n",
      "\n",
      "\n",
      "  df_clean['Salles de bains'].fillna(df_clean['Salles de bains'].mode()[0], inplace=True)\n"
     ]
    }
   ],
   "source": [
    "# Replace missing values with mode since the distribution is categorical\n",
    "df_clean['Salles de bains'].fillna(df_clean['Salles de bains'].mode()[0], inplace=True)"
   ]
  },
  {
   "cell_type": "code",
   "execution_count": 486,
   "metadata": {},
   "outputs": [
    {
     "data": {
      "image/png": "[encoded data removed]",
      "text/plain": [
       "<Figure size 1000x600 with 1 Axes>"
      ]
     },
     "metadata": {},
     "output_type": "display_data"
    }
   ],
   "source": [
    "plot_distribution(df_clean['Chambres'],'Nombre de chambres distribution','Nombre de chambres')"
   ]
  },
  {
   "cell_type": "code",
   "execution_count": 487,
   "metadata": {},
   "outputs": [
    {
     "name": "stderr",
     "output_type": "stream",
     "text": [
      "C:\\Users\\MSI\\AppData\\Local\\Temp\\ipykernel_19068\\3383310863.py:2: FutureWarning: A value is trying to be set on a copy of a DataFrame or Series through chained assignment using an inplace method.\n",
      "The behavior will change in pandas 3.0. This inplace method will never work because the intermediate object on which we are setting values always behaves as a copy.\n",
      "\n",
      "For example, when doing 'df[col].method(value, inplace=True)', try using 'df.method({col: value}, inplace=True)' or df[col] = df[col].method(value) instead, to perform the operation inplace on the original object.\n",
      "\n",
      "\n",
      "  df_clean['Chambres'].fillna(df_clean['Chambres'].mode()[0], inplace=True)\n"
     ]
    }
   ],
   "source": [
    "# Replace missing values with mode since the distribution is categorical\n",
    "df_clean['Chambres'].fillna(df_clean['Chambres'].mode()[0], inplace=True)"
   ]
  },
  {
   "cell_type": "code",
   "execution_count": 488,
   "metadata": {},
   "outputs": [
    {
     "data": {
      "image/png": "[encoded data removed]",
      "text/plain": [
       "<Figure size 1000x600 with 1 Axes>"
      ]
     },
     "metadata": {},
     "output_type": "display_data"
    }
   ],
   "source": [
    "plot_distribution(df_clean['Etages'],'Etages distribution','Nombre d etage')"
   ]
  },
  {
   "cell_type": "code",
   "execution_count": 489,
   "metadata": {},
   "outputs": [
    {
     "name": "stderr",
     "output_type": "stream",
     "text": [
      "C:\\Users\\MSI\\AppData\\Local\\Temp\\ipykernel_19068\\1566603011.py:2: FutureWarning: A value is trying to be set on a copy of a DataFrame or Series through chained assignment using an inplace method.\n",
      "The behavior will change in pandas 3.0. This inplace method will never work because the intermediate object on which we are setting values always behaves as a copy.\n",
      "\n",
      "For example, when doing 'df[col].method(value, inplace=True)', try using 'df.method({col: value}, inplace=True)' or df[col] = df[col].method(value) instead, to perform the operation inplace on the original object.\n",
      "\n",
      "\n",
      "  df_clean['Etages'].fillna(df_clean['Etages'].mode()[0], inplace=True)\n"
     ]
    }
   ],
   "source": [
    "# Replace missing values with mode since the distribution is categorical\n",
    "df_clean['Etages'].fillna(df_clean['Etages'].mode()[0], inplace=True)"
   ]
  },
  {
   "cell_type": "code",
   "execution_count": 490,
   "metadata": {},
   "outputs": [
    {
     "data": {
      "image/png": "[encoded data removed]",
      "text/plain": [
       "<Figure size 1000x600 with 1 Axes>"
      ]
     },
     "metadata": {},
     "output_type": "display_data"
    }
   ],
   "source": [
    "plot_distribution(df_clean['prix'],'prix distribution','prix')"
   ]
  },
  {
   "cell_type": "code",
   "execution_count": 491,
   "metadata": {},
   "outputs": [],
   "source": [
    "def remove_outliers_iqr(df, column):\n",
    "    Q1 = df[column].quantile(0.25)\n",
    "    Q3 = df[column].quantile(0.75)\n",
    "    IQR = Q3 - Q1\n",
    "    lower_bound = Q1 - 1.5 * IQR\n",
    "    upper_bound = Q3 + 1.5 * IQR\n",
    "    return df[(df[column] >= lower_bound) & (df[column] <= upper_bound)]\n",
    "\n",
    "# Apply to numerical columns\n",
    "for col in [\"prix\", \"Habitable\", \"Pièces\"]:\n",
    "    df_clean = remove_outliers_iqr(df_clean, col)\n"
   ]
  },
  {
   "cell_type": "code",
   "execution_count": 492,
   "metadata": {},
   "outputs": [
    {
     "data": {
      "text/plain": [
       "count     441.000000\n",
       "mean      909.603175\n",
       "std       855.294598\n",
       "min         0.000000\n",
       "25%       301.000000\n",
       "50%       542.000000\n",
       "75%      1400.000000\n",
       "max      3800.000000\n",
       "Name: prix, dtype: float64"
      ]
     },
     "execution_count": 492,
     "metadata": {},
     "output_type": "execute_result"
    }
   ],
   "source": [
    "df_clean['prix'].describe()"
   ]
  },
  {
   "cell_type": "code",
   "execution_count": 493,
   "metadata": {},
   "outputs": [],
   "source": [
    "df_clean = df_clean[df_clean['prix'] > 0]"
   ]
  },
  {
   "cell_type": "code",
   "execution_count": 494,
   "metadata": {},
   "outputs": [
    {
     "name": "stdout",
     "output_type": "stream",
     "text": [
      "<class 'pandas.core.frame.DataFrame'>\n",
      "Index: 411 entries, 1 to 75\n",
      "Data columns (total 13 columns):\n",
      " #   Column           Non-Null Count  Dtype  \n",
      "---  ------           --------------  -----  \n",
      " 0   address          411 non-null    object \n",
      " 1   Habitable        411 non-null    float64\n",
      " 2   Pièces           411 non-null    float64\n",
      " 3   Salles de bains  411 non-null    float64\n",
      " 4   Chambres         411 non-null    float64\n",
      " 5   Garage           411 non-null    int64  \n",
      " 6   Jardin           411 non-null    int64  \n",
      " 7   Balcon           411 non-null    int64  \n",
      " 8   Meublé           411 non-null    int64  \n",
      " 9   Piscine          411 non-null    int64  \n",
      " 10  Etages           411 non-null    float64\n",
      " 11  prix             411 non-null    float64\n",
      " 12  Type             371 non-null    object \n",
      "dtypes: float64(6), int64(5), object(2)\n",
      "memory usage: 45.0+ KB\n"
     ]
    }
   ],
   "source": [
    "df_clean.info()"
   ]
  },
  {
   "cell_type": "markdown",
   "metadata": {},
   "source": [
    "## Feature Engineering"
   ]
  },
  {
   "cell_type": "markdown",
   "metadata": {},
   "source": [
    "### Address column"
   ]
  },
  {
   "cell_type": "code",
   "execution_count": 495,
   "metadata": {},
   "outputs": [],
   "source": [
    "#this part gets us the latitude and longitude \n",
    "geolocator = Nominatim(user_agent=\"my_unique_app_12345\")\n",
    "\n",
    "def get_coordinates(address):\n",
    "    try:\n",
    "        location = geolocator.geocode(address, timeout=10)  # Increase timeout\n",
    "        if location:\n",
    "            return pd.Series([location.latitude, location.longitude])\n",
    "    except GeocoderTimedOut:\n",
    "        time.sleep(1)  # Wait and retry in case of timeout\n",
    "        return get_coordinates(address)  # Retry\n",
    "    return pd.Series([None, None])\n",
    "\n",
    "df_clean[['Latitude', 'Longitude']] = df_clean['address'].apply(get_coordinates)"
   ]
  },
  {
   "cell_type": "code",
   "execution_count": 496,
   "metadata": {},
   "outputs": [
    {
     "data": {
      "text/html": [
       "<div>\n",
       "<style scoped>\n",
       "    .dataframe tbody tr th:only-of-type {\n",
       "        vertical-align: middle;\n",
       "    }\n",
       "\n",
       "    .dataframe tbody tr th {\n",
       "        vertical-align: top;\n",
       "    }\n",
       "\n",
       "    .dataframe thead th {\n",
       "        text-align: right;\n",
       "    }\n",
       "</style>\n",
       "<table border=\"1\" class=\"dataframe\">\n",
       "  <thead>\n",
       "    <tr style=\"text-align: right;\">\n",
       "      <th></th>\n",
       "      <th>Habitable</th>\n",
       "      <th>Pièces</th>\n",
       "      <th>Salles de bains</th>\n",
       "      <th>Chambres</th>\n",
       "      <th>Garage</th>\n",
       "      <th>Jardin</th>\n",
       "      <th>Balcon</th>\n",
       "      <th>Meublé</th>\n",
       "      <th>Piscine</th>\n",
       "      <th>Etages</th>\n",
       "      <th>prix</th>\n",
       "      <th>Type</th>\n",
       "      <th>Latitude</th>\n",
       "      <th>Longitude</th>\n",
       "    </tr>\n",
       "  </thead>\n",
       "  <tbody>\n",
       "    <tr>\n",
       "      <th>1</th>\n",
       "      <td>100.0</td>\n",
       "      <td>3.0</td>\n",
       "      <td>1.0</td>\n",
       "      <td>2.0</td>\n",
       "      <td>0</td>\n",
       "      <td>0</td>\n",
       "      <td>1</td>\n",
       "      <td>0</td>\n",
       "      <td>0</td>\n",
       "      <td>3.0</td>\n",
       "      <td>1100.0</td>\n",
       "      <td>Residential</td>\n",
       "      <td>36.849148</td>\n",
       "      <td>10.263936</td>\n",
       "    </tr>\n",
       "    <tr>\n",
       "      <th>2</th>\n",
       "      <td>125.0</td>\n",
       "      <td>4.0</td>\n",
       "      <td>1.0</td>\n",
       "      <td>3.0</td>\n",
       "      <td>0</td>\n",
       "      <td>0</td>\n",
       "      <td>1</td>\n",
       "      <td>0</td>\n",
       "      <td>0</td>\n",
       "      <td>1.0</td>\n",
       "      <td>1250.0</td>\n",
       "      <td>Residential</td>\n",
       "      <td>36.874975</td>\n",
       "      <td>10.245427</td>\n",
       "    </tr>\n",
       "    <tr>\n",
       "      <th>3</th>\n",
       "      <td>196.0</td>\n",
       "      <td>4.0</td>\n",
       "      <td>1.0</td>\n",
       "      <td>3.0</td>\n",
       "      <td>0</td>\n",
       "      <td>0</td>\n",
       "      <td>0</td>\n",
       "      <td>1</td>\n",
       "      <td>0</td>\n",
       "      <td>3.0</td>\n",
       "      <td>3000.0</td>\n",
       "      <td>Residential</td>\n",
       "      <td>NaN</td>\n",
       "      <td>NaN</td>\n",
       "    </tr>\n",
       "    <tr>\n",
       "      <th>4</th>\n",
       "      <td>60.0</td>\n",
       "      <td>2.0</td>\n",
       "      <td>1.0</td>\n",
       "      <td>1.0</td>\n",
       "      <td>0</td>\n",
       "      <td>0</td>\n",
       "      <td>1</td>\n",
       "      <td>1</td>\n",
       "      <td>0</td>\n",
       "      <td>1.0</td>\n",
       "      <td>2200.0</td>\n",
       "      <td>Residential</td>\n",
       "      <td>36.887333</td>\n",
       "      <td>10.315343</td>\n",
       "    </tr>\n",
       "    <tr>\n",
       "      <th>5</th>\n",
       "      <td>159.0</td>\n",
       "      <td>3.0</td>\n",
       "      <td>1.0</td>\n",
       "      <td>3.0</td>\n",
       "      <td>0</td>\n",
       "      <td>0</td>\n",
       "      <td>0</td>\n",
       "      <td>1</td>\n",
       "      <td>0</td>\n",
       "      <td>1.0</td>\n",
       "      <td>3500.0</td>\n",
       "      <td>Other</td>\n",
       "      <td>36.847856</td>\n",
       "      <td>10.265324</td>\n",
       "    </tr>\n",
       "  </tbody>\n",
       "</table>\n",
       "</div>"
      ],
      "text/plain": [
       "   Habitable  Pièces  Salles de bains  Chambres  Garage  Jardin  Balcon  \\\n",
       "1      100.0     3.0              1.0       2.0       0       0       1   \n",
       "2      125.0     4.0              1.0       3.0       0       0       1   \n",
       "3      196.0     4.0              1.0       3.0       0       0       0   \n",
       "4       60.0     2.0              1.0       1.0       0       0       1   \n",
       "5      159.0     3.0              1.0       3.0       0       0       0   \n",
       "\n",
       "   Meublé  Piscine  Etages    prix         Type   Latitude  Longitude  \n",
       "1       0        0     3.0  1100.0  Residential  36.849148  10.263936  \n",
       "2       0        0     1.0  1250.0  Residential  36.874975  10.245427  \n",
       "3       1        0     3.0  3000.0  Residential        NaN        NaN  \n",
       "4       1        0     1.0  2200.0  Residential  36.887333  10.315343  \n",
       "5       1        0     1.0  3500.0        Other  36.847856  10.265324  "
      ]
     },
     "execution_count": 496,
     "metadata": {},
     "output_type": "execute_result"
    }
   ],
   "source": [
    "df_clean=df_clean.drop(columns=['address'])\n",
    "df_clean.head()"
   ]
  },
  {
   "cell_type": "code",
   "execution_count": 497,
   "metadata": {},
   "outputs": [
    {
     "name": "stdout",
     "output_type": "stream",
     "text": [
      "<class 'pandas.core.frame.DataFrame'>\n",
      "Index: 411 entries, 1 to 75\n",
      "Data columns (total 14 columns):\n",
      " #   Column           Non-Null Count  Dtype  \n",
      "---  ------           --------------  -----  \n",
      " 0   Habitable        411 non-null    float64\n",
      " 1   Pièces           411 non-null    float64\n",
      " 2   Salles de bains  411 non-null    float64\n",
      " 3   Chambres         411 non-null    float64\n",
      " 4   Garage           411 non-null    int64  \n",
      " 5   Jardin           411 non-null    int64  \n",
      " 6   Balcon           411 non-null    int64  \n",
      " 7   Meublé           411 non-null    int64  \n",
      " 8   Piscine          411 non-null    int64  \n",
      " 9   Etages           411 non-null    float64\n",
      " 10  prix             411 non-null    float64\n",
      " 11  Type             371 non-null    object \n",
      " 12  Latitude         411 non-null    float64\n",
      " 13  Longitude        411 non-null    float64\n",
      "dtypes: float64(8), int64(5), object(1)\n",
      "memory usage: 48.2+ KB\n"
     ]
    }
   ],
   "source": [
    "from sklearn.impute import KNNImputer\n",
    "# Assuming df is your dataframe\n",
    "imputer = KNNImputer(n_neighbors=5)  # You can adjust n_neighbors\n",
    "df_clean[['Latitude', 'Longitude']] = imputer.fit_transform(df_clean[['Latitude', 'Longitude']])\n",
    "df_clean.info()"
   ]
  },
  {
   "cell_type": "markdown",
   "metadata": {},
   "source": [
    "### Columns correlation"
   ]
  },
  {
   "cell_type": "code",
   "execution_count": 498,
   "metadata": {},
   "outputs": [
    {
     "data": {
      "image/png": "[encoded data removed]",
      "text/plain": [
       "<Figure size 1000x800 with 2 Axes>"
      ]
     },
     "metadata": {},
     "output_type": "display_data"
    }
   ],
   "source": [
    "# Filter only numeric columns\n",
    "df_numeric = df_clean.select_dtypes(include=[\"number\"])\n",
    "\n",
    "# Calculate the correlation matrix\n",
    "corr_matrix = df_numeric.corr()\n",
    "\n",
    "# Plot the heatmap\n",
    "plt.figure(figsize=(10, 8))\n",
    "sns.heatmap(corr_matrix, annot=True, fmt=\".2f\", cmap=\"coolwarm\", center=0)\n",
    "\n",
    "# Display the heatmap\n",
    "plt.title(\"Correlation Heatmap\")\n",
    "plt.show()\n"
   ]
  },
  {
   "cell_type": "markdown",
   "metadata": {},
   "source": [
    "### Encoding"
   ]
  },
  {
   "cell_type": "code",
   "execution_count": 499,
   "metadata": {},
   "outputs": [
    {
     "data": {
      "text/html": [
       "<div>\n",
       "<style scoped>\n",
       "    .dataframe tbody tr th:only-of-type {\n",
       "        vertical-align: middle;\n",
       "    }\n",
       "\n",
       "    .dataframe tbody tr th {\n",
       "        vertical-align: top;\n",
       "    }\n",
       "\n",
       "    .dataframe thead th {\n",
       "        text-align: right;\n",
       "    }\n",
       "</style>\n",
       "<table border=\"1\" class=\"dataframe\">\n",
       "  <thead>\n",
       "    <tr style=\"text-align: right;\">\n",
       "      <th></th>\n",
       "      <th>Habitable</th>\n",
       "      <th>Pièces</th>\n",
       "      <th>Salles de bains</th>\n",
       "      <th>Chambres</th>\n",
       "      <th>Garage</th>\n",
       "      <th>Jardin</th>\n",
       "      <th>Balcon</th>\n",
       "      <th>Meublé</th>\n",
       "      <th>Piscine</th>\n",
       "      <th>Etages</th>\n",
       "      <th>prix</th>\n",
       "      <th>Type</th>\n",
       "      <th>Latitude</th>\n",
       "      <th>Longitude</th>\n",
       "    </tr>\n",
       "  </thead>\n",
       "  <tbody>\n",
       "    <tr>\n",
       "      <th>1</th>\n",
       "      <td>100.0</td>\n",
       "      <td>3.0</td>\n",
       "      <td>1.0</td>\n",
       "      <td>2.0</td>\n",
       "      <td>0</td>\n",
       "      <td>0</td>\n",
       "      <td>1</td>\n",
       "      <td>0</td>\n",
       "      <td>0</td>\n",
       "      <td>3.0</td>\n",
       "      <td>1100.0</td>\n",
       "      <td>Residential</td>\n",
       "      <td>36.849148</td>\n",
       "      <td>10.263936</td>\n",
       "    </tr>\n",
       "  </tbody>\n",
       "</table>\n",
       "</div>"
      ],
      "text/plain": [
       "   Habitable  Pièces  Salles de bains  Chambres  Garage  Jardin  Balcon  \\\n",
       "1      100.0     3.0              1.0       2.0       0       0       1   \n",
       "\n",
       "   Meublé  Piscine  Etages    prix         Type   Latitude  Longitude  \n",
       "1       0        0     3.0  1100.0  Residential  36.849148  10.263936  "
      ]
     },
     "execution_count": 499,
     "metadata": {},
     "output_type": "execute_result"
    }
   ],
   "source": [
    "df_clean.head(1)"
   ]
  },
  {
   "cell_type": "code",
   "execution_count": 500,
   "metadata": {},
   "outputs": [
    {
     "name": "stderr",
     "output_type": "stream",
     "text": [
      "C:\\Users\\MSI\\AppData\\Local\\Temp\\ipykernel_19068\\2319487793.py:4: FutureWarning: A value is trying to be set on a copy of a DataFrame or Series through chained assignment using an inplace method.\n",
      "The behavior will change in pandas 3.0. This inplace method will never work because the intermediate object on which we are setting values always behaves as a copy.\n",
      "\n",
      "For example, when doing 'df[col].method(value, inplace=True)', try using 'df.method({col: value}, inplace=True)' or df[col] = df[col].method(value) instead, to perform the operation inplace on the original object.\n",
      "\n",
      "\n",
      "  df_clean['Type'].fillna(most_frequent, inplace=True)\n"
     ]
    },
    {
     "data": {
      "text/html": [
       "<div>\n",
       "<style scoped>\n",
       "    .dataframe tbody tr th:only-of-type {\n",
       "        vertical-align: middle;\n",
       "    }\n",
       "\n",
       "    .dataframe tbody tr th {\n",
       "        vertical-align: top;\n",
       "    }\n",
       "\n",
       "    .dataframe thead th {\n",
       "        text-align: right;\n",
       "    }\n",
       "</style>\n",
       "<table border=\"1\" class=\"dataframe\">\n",
       "  <thead>\n",
       "    <tr style=\"text-align: right;\">\n",
       "      <th></th>\n",
       "      <th>Habitable</th>\n",
       "      <th>Pièces</th>\n",
       "      <th>Salles de bains</th>\n",
       "      <th>Chambres</th>\n",
       "      <th>Garage</th>\n",
       "      <th>Jardin</th>\n",
       "      <th>Balcon</th>\n",
       "      <th>Meublé</th>\n",
       "      <th>Piscine</th>\n",
       "      <th>Etages</th>\n",
       "      <th>prix</th>\n",
       "      <th>Latitude</th>\n",
       "      <th>Longitude</th>\n",
       "      <th>Type_Other</th>\n",
       "      <th>Type_Residential</th>\n",
       "    </tr>\n",
       "  </thead>\n",
       "  <tbody>\n",
       "    <tr>\n",
       "      <th>1</th>\n",
       "      <td>100.0</td>\n",
       "      <td>3.0</td>\n",
       "      <td>1.0</td>\n",
       "      <td>2.0</td>\n",
       "      <td>0</td>\n",
       "      <td>0</td>\n",
       "      <td>1</td>\n",
       "      <td>0</td>\n",
       "      <td>0</td>\n",
       "      <td>3.0</td>\n",
       "      <td>1100.0</td>\n",
       "      <td>36.849148</td>\n",
       "      <td>10.263936</td>\n",
       "      <td>False</td>\n",
       "      <td>True</td>\n",
       "    </tr>\n",
       "    <tr>\n",
       "      <th>2</th>\n",
       "      <td>125.0</td>\n",
       "      <td>4.0</td>\n",
       "      <td>1.0</td>\n",
       "      <td>3.0</td>\n",
       "      <td>0</td>\n",
       "      <td>0</td>\n",
       "      <td>1</td>\n",
       "      <td>0</td>\n",
       "      <td>0</td>\n",
       "      <td>1.0</td>\n",
       "      <td>1250.0</td>\n",
       "      <td>36.874975</td>\n",
       "      <td>10.245427</td>\n",
       "      <td>False</td>\n",
       "      <td>True</td>\n",
       "    </tr>\n",
       "    <tr>\n",
       "      <th>3</th>\n",
       "      <td>196.0</td>\n",
       "      <td>4.0</td>\n",
       "      <td>1.0</td>\n",
       "      <td>3.0</td>\n",
       "      <td>0</td>\n",
       "      <td>0</td>\n",
       "      <td>0</td>\n",
       "      <td>1</td>\n",
       "      <td>0</td>\n",
       "      <td>3.0</td>\n",
       "      <td>3000.0</td>\n",
       "      <td>36.585017</td>\n",
       "      <td>10.050682</td>\n",
       "      <td>False</td>\n",
       "      <td>True</td>\n",
       "    </tr>\n",
       "    <tr>\n",
       "      <th>4</th>\n",
       "      <td>60.0</td>\n",
       "      <td>2.0</td>\n",
       "      <td>1.0</td>\n",
       "      <td>1.0</td>\n",
       "      <td>0</td>\n",
       "      <td>0</td>\n",
       "      <td>1</td>\n",
       "      <td>1</td>\n",
       "      <td>0</td>\n",
       "      <td>1.0</td>\n",
       "      <td>2200.0</td>\n",
       "      <td>36.887333</td>\n",
       "      <td>10.315343</td>\n",
       "      <td>False</td>\n",
       "      <td>True</td>\n",
       "    </tr>\n",
       "    <tr>\n",
       "      <th>5</th>\n",
       "      <td>159.0</td>\n",
       "      <td>3.0</td>\n",
       "      <td>1.0</td>\n",
       "      <td>3.0</td>\n",
       "      <td>0</td>\n",
       "      <td>0</td>\n",
       "      <td>0</td>\n",
       "      <td>1</td>\n",
       "      <td>0</td>\n",
       "      <td>1.0</td>\n",
       "      <td>3500.0</td>\n",
       "      <td>36.847856</td>\n",
       "      <td>10.265324</td>\n",
       "      <td>True</td>\n",
       "      <td>False</td>\n",
       "    </tr>\n",
       "  </tbody>\n",
       "</table>\n",
       "</div>"
      ],
      "text/plain": [
       "   Habitable  Pièces  Salles de bains  Chambres  Garage  Jardin  Balcon  \\\n",
       "1      100.0     3.0              1.0       2.0       0       0       1   \n",
       "2      125.0     4.0              1.0       3.0       0       0       1   \n",
       "3      196.0     4.0              1.0       3.0       0       0       0   \n",
       "4       60.0     2.0              1.0       1.0       0       0       1   \n",
       "5      159.0     3.0              1.0       3.0       0       0       0   \n",
       "\n",
       "   Meublé  Piscine  Etages    prix   Latitude  Longitude  Type_Other  \\\n",
       "1       0        0     3.0  1100.0  36.849148  10.263936       False   \n",
       "2       0        0     1.0  1250.0  36.874975  10.245427       False   \n",
       "3       1        0     3.0  3000.0  36.585017  10.050682       False   \n",
       "4       1        0     1.0  2200.0  36.887333  10.315343       False   \n",
       "5       1        0     1.0  3500.0  36.847856  10.265324        True   \n",
       "\n",
       "   Type_Residential  \n",
       "1              True  \n",
       "2              True  \n",
       "3              True  \n",
       "4              True  \n",
       "5             False  "
      ]
     },
     "execution_count": 500,
     "metadata": {},
     "output_type": "execute_result"
    }
   ],
   "source": [
    "# Find the most frequent (mode) value\n",
    "most_frequent = df_clean['Type'].mode()[0]\n",
    "# Fill missing values with the most frequent value\n",
    "df_clean['Type'].fillna(most_frequent, inplace=True)\n",
    "df_encoded = pd.get_dummies(df_clean, columns=['Type'], drop_first=True)\n",
    "df_encoded.head()"
   ]
  },
  {
   "cell_type": "code",
   "execution_count": 501,
   "metadata": {},
   "outputs": [],
   "source": [
    "# Convert boolean columns to integer\n",
    "bool_columns = [\"Type_Other\", \"Type_Residential\"]\n",
    "df_encoded[bool_columns] = df_encoded[bool_columns].astype(int)"
   ]
  },
  {
   "cell_type": "markdown",
   "metadata": {},
   "source": [
    "### Building the model"
   ]
  },
  {
   "cell_type": "code",
   "execution_count": 502,
   "metadata": {},
   "outputs": [
    {
     "name": "stdout",
     "output_type": "stream",
     "text": [
      "<class 'pandas.core.frame.DataFrame'>\n",
      "RangeIndex: 5000 entries, 0 to 4999\n",
      "Data columns (total 15 columns):\n",
      " #   Column            Non-Null Count  Dtype  \n",
      "---  ------            --------------  -----  \n",
      " 0   Habitable         5000 non-null   float64\n",
      " 1   Pièces            5000 non-null   float64\n",
      " 2   Salles de bains   5000 non-null   float64\n",
      " 3   Chambres          5000 non-null   float64\n",
      " 4   Garage            5000 non-null   int64  \n",
      " 5   Jardin            5000 non-null   int64  \n",
      " 6   Balcon            5000 non-null   int64  \n",
      " 7   Meublé            5000 non-null   int64  \n",
      " 8   Piscine           5000 non-null   int64  \n",
      " 9   Etages            5000 non-null   float64\n",
      " 10  prix              5000 non-null   float64\n",
      " 11  Latitude          5000 non-null   float64\n",
      " 12  Longitude         5000 non-null   float64\n",
      " 13  Type_Other        5000 non-null   int64  \n",
      " 14  Type_Residential  5000 non-null   int64  \n",
      "dtypes: float64(8), int64(7)\n",
      "memory usage: 586.1 KB\n"
     ]
    }
   ],
   "source": [
    "syn_df=pd.read_csv('synthatic_location.csv')\n",
    "syn_df=syn_df.drop(columns=['Unnamed: 0','Total'])\n",
    "syn_df.info()"
   ]
  },
  {
   "cell_type": "code",
   "execution_count": 503,
   "metadata": {},
   "outputs": [],
   "source": [
    "final_df=pd.concat([df_encoded,syn_df])\n",
    "X=final_df.drop(columns=['prix'])\n",
    "y=final_df['prix']\n",
    "X_train,X_test,y_train,y_test=train_test_split(X,y,test_size=0.2,random_state=42)\n"
   ]
  },
  {
   "cell_type": "code",
   "execution_count": 504,
   "metadata": {},
   "outputs": [],
   "source": [
    "#final_df.to_csv('fnal_df_location.csv') we are gonna use it to generate synthatic data"
   ]
  },
  {
   "cell_type": "markdown",
   "metadata": {},
   "source": [
    "this code is to find the best hyperparameters"
   ]
  },
  {
   "cell_type": "code",
   "execution_count": 505,
   "metadata": {},
   "outputs": [
    {
     "data": {
      "text/plain": [
       "'\\nfrom sklearn.model_selection import GridSearchCV\\n# Define parameter grid\\nparam_grid = {\\n    \"n_estimators\": [500, 700, 900],\\n    \"learning_rate\": [0.01, 0.05, 0.1],\\n    \"max_depth\": [5, 7, 9],\\n    \"min_samples_split\": [5, 10, 15],\\n    \"min_samples_leaf\": [3, 5, 7],\\n    \"subsample\": [0.7, 0.9]\\n}\\n\\n# Initialize model\\ngb_regressor = GradientBoostingRegressor(random_state=41)\\n\\n# Perform Grid Search\\ngrid_search = GridSearchCV(\\n    gb_regressor, param_grid=param_grid,\\n    cv=5, scoring=\"neg_root_mean_squared_error\",\\n    n_jobs=-1, verbose=1\\n)\\n\\n# Fit the search\\ngrid_search.fit(X_train, y_train)\\n\\n# Print best parameters\\nprint(\"Best Hyperparameters:\", grid_search.best_params_)\\n'"
      ]
     },
     "execution_count": 505,
     "metadata": {},
     "output_type": "execute_result"
    }
   ],
   "source": [
    "\"\"\"\n",
    "from sklearn.model_selection import GridSearchCV\n",
    "# Define parameter grid\n",
    "param_grid = {\n",
    "    \"n_estimators\": [500, 700, 900],\n",
    "    \"learning_rate\": [0.01, 0.05, 0.1],\n",
    "    \"max_depth\": [5, 7, 9],\n",
    "    \"min_samples_split\": [5, 10, 15],\n",
    "    \"min_samples_leaf\": [3, 5, 7],\n",
    "    \"subsample\": [0.7, 0.9]\n",
    "}\n",
    "\n",
    "# Initialize model\n",
    "gb_regressor = GradientBoostingRegressor(random_state=41)\n",
    "\n",
    "# Perform Grid Search\n",
    "grid_search = GridSearchCV(\n",
    "    gb_regressor, param_grid=param_grid,\n",
    "    cv=5, scoring=\"neg_root_mean_squared_error\",\n",
    "    n_jobs=-1, verbose=1\n",
    ")\n",
    "\n",
    "# Fit the search\n",
    "grid_search.fit(X_train, y_train)\n",
    "\n",
    "# Print best parameters\n",
    "print(\"Best Hyperparameters:\", grid_search.best_params_)\n",
    "\"\"\""
   ]
  },
  {
   "cell_type": "code",
   "execution_count": 506,
   "metadata": {},
   "outputs": [
    {
     "name": "stdout",
     "output_type": "stream",
     "text": [
      "🔹 Real RMSE: 133.71\n",
      "🔹 Mean Absolute Error: 32.19\n",
      "🔹 R² Score: 0.9740\n"
     ]
    }
   ],
   "source": [
    "# ✅ Define the model with the best hyperparameters\n",
    "from sklearn.ensemble import GradientBoostingRegressor\n",
    "sgb = GradientBoostingRegressor(\n",
    "    learning_rate=0.05,\n",
    "    max_depth=7,\n",
    "    min_samples_leaf=3,\n",
    "    min_samples_split=10,\n",
    "    n_estimators=700,\n",
    "    subsample=0.9,\n",
    "    random_state=42\n",
    ")\n",
    "\n",
    "# ✅ Train the model\n",
    "sgb.fit(X_train, y_train)\n",
    "\n",
    "# ✅ Predict on test data\n",
    "y_pred = sgb.predict(X_test)\n",
    "\n",
    "# ✅ Compute Evaluation Metrics\n",
    "rmse = np.sqrt(mean_squared_error(y_test, y_pred))\n",
    "mae = mean_absolute_error(y_test, y_pred)\n",
    "r2 = r2_score(y_test, y_pred)\n",
    "\n",
    "# ✅ Print results\n",
    "print(f\"🔹 Real RMSE: {rmse:.2f}\")\n",
    "print(f\"🔹 Mean Absolute Error: {mae:.2f}\")\n",
    "print(f\"🔹 R² Score: {r2:.4f}\")\n"
   ]
  },
  {
   "cell_type": "markdown",
   "metadata": {},
   "source": [
    "### Download the model"
   ]
  },
  {
   "cell_type": "code",
   "execution_count": 507,
   "metadata": {},
   "outputs": [],
   "source": [
    "with open('model_location','wb') as f:\n",
    "    pickle.dump(sgb,f)"
   ]
  }
 ],
 "metadata": {
  "kernelspec": {
   "display_name": "Python 3",
   "language": "python",
   "name": "python3"
  },
  "language_info": {
   "codemirror_mode": {
    "name": "ipython",
    "version": 3
   },
   "file_extension": ".py",
   "mimetype": "text/x-python",
   "name": "python",
   "nbconvert_exporter": "python",
   "pygments_lexer": "ipython3",
   "version": "3.11.0"
  }
 },
 "nbformat": 4,
 "nbformat_minor": 2
}
