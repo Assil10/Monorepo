{
 "cells": [
  {
   "cell_type": "code",
   "execution_count": 1,
   "metadata": {},
   "outputs": [],
   "source": [
    "import json\n",
    "import pandas as pd"
   ]
  },
  {
   "cell_type": "markdown",
   "metadata": {},
   "source": [
    "## Combine the data into three files"
   ]
  },
  {
   "cell_type": "code",
   "execution_count": null,
   "metadata": {},
   "outputs": [],
   "source": [
    "def concat_json_files(file1, file2, file3, output_file):\n",
    "    data = []\n",
    "    \n",
    "    for file in [file1, file2, file3]:\n",
    "        with open(file, 'r', encoding='utf-8') as f:\n",
    "            data.extend(json.load(f))  # Assuming JSON files contain lists\n",
    "    \n",
    "    with open(output_file, 'w', encoding='utf-8') as f:\n",
    "        json.dump(data, f, indent=4, ensure_ascii=False)\n",
    "\n",
    "# Example usage\n",
    "concat_json_files('real_state_en.json', 'registration_en.json', 'laws_en.json', 'data_en.json')\n",
    "concat_json_files('real_state_fr.json', 'registration_fr.json', 'laws_fr.json', 'data_fr.json')\n",
    "concat_json_files('real_state_ar.json', 'registration_ar.json', 'laws_ar.json', 'data_ar.json')\n"
   ]
  },
  {
   "cell_type": "markdown",
   "metadata": {},
   "source": [
    "## Data Validation"
   ]
  },
  {
   "cell_type": "code",
   "execution_count": 2,
   "metadata": {},
   "outputs": [],
   "source": [
    "def json_to_dataframe(file):\n",
    "    with open(file, 'r', encoding='utf-8') as file:\n",
    "        data = json.load(file)\n",
    "    # Convert to DataFrame\n",
    "    df = pd.DataFrame(data)\n",
    "    return df"
   ]
  },
  {
   "cell_type": "markdown",
   "metadata": {},
   "source": [
    "### English data"
   ]
  },
  {
   "cell_type": "code",
   "execution_count": 3,
   "metadata": {},
   "outputs": [
    {
     "data": {
      "text/html": [
       "<div>\n",
       "<style scoped>\n",
       "    .dataframe tbody tr th:only-of-type {\n",
       "        vertical-align: middle;\n",
       "    }\n",
       "\n",
       "    .dataframe tbody tr th {\n",
       "        vertical-align: top;\n",
       "    }\n",
       "\n",
       "    .dataframe thead th {\n",
       "        text-align: right;\n",
       "    }\n",
       "</style>\n",
       "<table border=\"1\" class=\"dataframe\">\n",
       "  <thead>\n",
       "    <tr style=\"text-align: right;\">\n",
       "      <th></th>\n",
       "      <th>section</th>\n",
       "      <th>question</th>\n",
       "      <th>answer</th>\n",
       "    </tr>\n",
       "  </thead>\n",
       "  <tbody>\n",
       "    <tr>\n",
       "      <th>0</th>\n",
       "      <td>Real Estate</td>\n",
       "      <td>Why Investing In Real Estate In Tunisia? A Pro...</td>\n",
       "      <td>intrdocution:\\n- Investing in homes for person...</td>\n",
       "    </tr>\n",
       "    <tr>\n",
       "      <th>1</th>\n",
       "      <td>Real Estate</td>\n",
       "      <td>How Do Regulations Impact The Design Of Commer...</td>\n",
       "      <td>intrdocution:\\n- Regulations play a crucial ro...</td>\n",
       "    </tr>\n",
       "    <tr>\n",
       "      <th>2</th>\n",
       "      <td>Real Estate</td>\n",
       "      <td>How Can Investors Identify Profitable Real Est...</td>\n",
       "      <td>intrdocution:\\n- Identifying profitable real e...</td>\n",
       "    </tr>\n",
       "    <tr>\n",
       "      <th>3</th>\n",
       "      <td>Real Estate</td>\n",
       "      <td>What Are The Most Sought-After Types Of Real E...</td>\n",
       "      <td>intrdocution:\\n- The types of real estate most...</td>\n",
       "    </tr>\n",
       "    <tr>\n",
       "      <th>4</th>\n",
       "      <td>Real Estate</td>\n",
       "      <td>How Does Inflation Impact Property Values?</td>\n",
       "      <td>intrdocution:\\n- As inflation rises, the cost ...</td>\n",
       "    </tr>\n",
       "  </tbody>\n",
       "</table>\n",
       "</div>"
      ],
      "text/plain": [
       "       section                                           question  \\\n",
       "0  Real Estate  Why Investing In Real Estate In Tunisia? A Pro...   \n",
       "1  Real Estate  How Do Regulations Impact The Design Of Commer...   \n",
       "2  Real Estate  How Can Investors Identify Profitable Real Est...   \n",
       "3  Real Estate  What Are The Most Sought-After Types Of Real E...   \n",
       "4  Real Estate         How Does Inflation Impact Property Values?   \n",
       "\n",
       "                                              answer  \n",
       "0  intrdocution:\\n- Investing in homes for person...  \n",
       "1  intrdocution:\\n- Regulations play a crucial ro...  \n",
       "2  intrdocution:\\n- Identifying profitable real e...  \n",
       "3  intrdocution:\\n- The types of real estate most...  \n",
       "4  intrdocution:\\n- As inflation rises, the cost ...  "
      ]
     },
     "execution_count": 3,
     "metadata": {},
     "output_type": "execute_result"
    }
   ],
   "source": [
    "df_en=json_to_dataframe('data_en.json')\n",
    "df_en.head()"
   ]
  },
  {
   "cell_type": "markdown",
   "metadata": {},
   "source": [
    "df_en[\"question\"]=df_en[\"question\"].apply(lambda x: x.lower())\n",
    "df_en.head()"
   ]
  },
  {
   "cell_type": "code",
   "execution_count": 10,
   "metadata": {},
   "outputs": [
    {
     "name": "stdout",
     "output_type": "stream",
     "text": [
      "<class 'pandas.core.frame.DataFrame'>\n",
      "RangeIndex: 251 entries, 0 to 250\n",
      "Data columns (total 3 columns):\n",
      " #   Column    Non-Null Count  Dtype \n",
      "---  ------    --------------  ----- \n",
      " 0   section   251 non-null    object\n",
      " 1   question  251 non-null    object\n",
      " 2   answer    251 non-null    object\n",
      "dtypes: object(3)\n",
      "memory usage: 6.0+ KB\n"
     ]
    }
   ],
   "source": [
    "df_en.info()"
   ]
  },
  {
   "cell_type": "code",
   "execution_count": 11,
   "metadata": {},
   "outputs": [
    {
     "data": {
      "text/plain": [
       "0"
      ]
     },
     "execution_count": 11,
     "metadata": {},
     "output_type": "execute_result"
    }
   ],
   "source": [
    "df_en.duplicated().isna().sum()"
   ]
  },
  {
   "cell_type": "markdown",
   "metadata": {},
   "source": [
    "### Frensh data"
   ]
  },
  {
   "cell_type": "code",
   "execution_count": 12,
   "metadata": {},
   "outputs": [
    {
     "data": {
      "text/html": [
       "<div>\n",
       "<style scoped>\n",
       "    .dataframe tbody tr th:only-of-type {\n",
       "        vertical-align: middle;\n",
       "    }\n",
       "\n",
       "    .dataframe tbody tr th {\n",
       "        vertical-align: top;\n",
       "    }\n",
       "\n",
       "    .dataframe thead th {\n",
       "        text-align: right;\n",
       "    }\n",
       "</style>\n",
       "<table border=\"1\" class=\"dataframe\">\n",
       "  <thead>\n",
       "    <tr style=\"text-align: right;\">\n",
       "      <th></th>\n",
       "      <th>section</th>\n",
       "      <th>question</th>\n",
       "      <th>answer</th>\n",
       "    </tr>\n",
       "  </thead>\n",
       "  <tbody>\n",
       "    <tr>\n",
       "      <th>0</th>\n",
       "      <td>Real Estate</td>\n",
       "      <td>Pourquoi Investir Dans L’Immobilier En Tunisie...</td>\n",
       "      <td>intrdocution:\\n- Investir dans des maisons à u...</td>\n",
       "    </tr>\n",
       "    <tr>\n",
       "      <th>1</th>\n",
       "      <td>Real Estate</td>\n",
       "      <td>Comment La RÉGlementation Impacte-T-Elle La Co...</td>\n",
       "      <td>intrdocution:\\n- La réglementation joue un rôl...</td>\n",
       "    </tr>\n",
       "    <tr>\n",
       "      <th>2</th>\n",
       "      <td>Real Estate</td>\n",
       "      <td>Comment Les Investisseurs Peuvent-Ils Identifi...</td>\n",
       "      <td>intrdocution:\\n- Identifier des opportunités i...</td>\n",
       "    </tr>\n",
       "    <tr>\n",
       "      <th>3</th>\n",
       "      <td>Real Estate</td>\n",
       "      <td>Quels Sont Les Types De Biens Immobiliers Les ...</td>\n",
       "      <td>intrdocution:\\n- Les types de biens immobilier...</td>\n",
       "    </tr>\n",
       "    <tr>\n",
       "      <th>4</th>\n",
       "      <td>Real Estate</td>\n",
       "      <td>Quel Est L’Impact De L’Inflation Sur La Valeur...</td>\n",
       "      <td>intrdocution:\\n- À mesure que l'inflation augm...</td>\n",
       "    </tr>\n",
       "  </tbody>\n",
       "</table>\n",
       "</div>"
      ],
      "text/plain": [
       "       section                                           question  \\\n",
       "0  Real Estate  Pourquoi Investir Dans L’Immobilier En Tunisie...   \n",
       "1  Real Estate  Comment La RÉGlementation Impacte-T-Elle La Co...   \n",
       "2  Real Estate  Comment Les Investisseurs Peuvent-Ils Identifi...   \n",
       "3  Real Estate  Quels Sont Les Types De Biens Immobiliers Les ...   \n",
       "4  Real Estate  Quel Est L’Impact De L’Inflation Sur La Valeur...   \n",
       "\n",
       "                                              answer  \n",
       "0  intrdocution:\\n- Investir dans des maisons à u...  \n",
       "1  intrdocution:\\n- La réglementation joue un rôl...  \n",
       "2  intrdocution:\\n- Identifier des opportunités i...  \n",
       "3  intrdocution:\\n- Les types de biens immobilier...  \n",
       "4  intrdocution:\\n- À mesure que l'inflation augm...  "
      ]
     },
     "execution_count": 12,
     "metadata": {},
     "output_type": "execute_result"
    }
   ],
   "source": [
    "df_fr=json_to_dataframe('data_fr.json')\n",
    "df_fr.head()"
   ]
  },
  {
   "cell_type": "code",
   "execution_count": 13,
   "metadata": {},
   "outputs": [
    {
     "name": "stdout",
     "output_type": "stream",
     "text": [
      "<class 'pandas.core.frame.DataFrame'>\n",
      "RangeIndex: 251 entries, 0 to 250\n",
      "Data columns (total 3 columns):\n",
      " #   Column    Non-Null Count  Dtype \n",
      "---  ------    --------------  ----- \n",
      " 0   section   251 non-null    object\n",
      " 1   question  251 non-null    object\n",
      " 2   answer    251 non-null    object\n",
      "dtypes: object(3)\n",
      "memory usage: 6.0+ KB\n"
     ]
    }
   ],
   "source": [
    "df_fr.info()"
   ]
  },
  {
   "cell_type": "code",
   "execution_count": 14,
   "metadata": {},
   "outputs": [
    {
     "data": {
      "text/plain": [
       "0"
      ]
     },
     "execution_count": 14,
     "metadata": {},
     "output_type": "execute_result"
    }
   ],
   "source": [
    "df_fr.duplicated().isna().sum()"
   ]
  },
  {
   "cell_type": "markdown",
   "metadata": {},
   "source": [
    "### Arabic data"
   ]
  },
  {
   "cell_type": "code",
   "execution_count": 15,
   "metadata": {},
   "outputs": [
    {
     "data": {
      "text/html": [
       "<div>\n",
       "<style scoped>\n",
       "    .dataframe tbody tr th:only-of-type {\n",
       "        vertical-align: middle;\n",
       "    }\n",
       "\n",
       "    .dataframe tbody tr th {\n",
       "        vertical-align: top;\n",
       "    }\n",
       "\n",
       "    .dataframe thead th {\n",
       "        text-align: right;\n",
       "    }\n",
       "</style>\n",
       "<table border=\"1\" class=\"dataframe\">\n",
       "  <thead>\n",
       "    <tr style=\"text-align: right;\">\n",
       "      <th></th>\n",
       "      <th>section</th>\n",
       "      <th>question</th>\n",
       "      <th>answer</th>\n",
       "    </tr>\n",
       "  </thead>\n",
       "  <tbody>\n",
       "    <tr>\n",
       "      <th>0</th>\n",
       "      <td>Real Estate</td>\n",
       "      <td>لماذا الاستثمار في العقارات في تونس؟ فرصة واعدة</td>\n",
       "      <td>intrdocution:\\n- يعد الاستثمار في المنازل للاس...</td>\n",
       "    </tr>\n",
       "    <tr>\n",
       "      <th>1</th>\n",
       "      <td>Real Estate</td>\n",
       "      <td>كيف تؤثر اللوائح على تصميم المباني التجارية وا...</td>\n",
       "      <td>intrdocution:\\n- تلعب اللوائح التنظيمية دورًا ...</td>\n",
       "    </tr>\n",
       "    <tr>\n",
       "      <th>2</th>\n",
       "      <td>Real Estate</td>\n",
       "      <td>كيف يمكن للمستثمرين تحديد الفرص العقارية المربحة؟</td>\n",
       "      <td>intrdocution:\\n- تحديد الفرص العقارية المربحة ...</td>\n",
       "    </tr>\n",
       "    <tr>\n",
       "      <th>3</th>\n",
       "      <td>Real Estate</td>\n",
       "      <td>ما هي أنواع العقارات الأكثر طلبا؟</td>\n",
       "      <td>intrdocution:\\n- تختلف أنواع العقارات الأكثر ط...</td>\n",
       "    </tr>\n",
       "    <tr>\n",
       "      <th>4</th>\n",
       "      <td>Real Estate</td>\n",
       "      <td>كيف يؤثر التضخم على قيم العقارات؟</td>\n",
       "      <td>intrdocution:\\n- مع ارتفاع التضخم، ترتفع تكلفة...</td>\n",
       "    </tr>\n",
       "  </tbody>\n",
       "</table>\n",
       "</div>"
      ],
      "text/plain": [
       "       section                                           question  \\\n",
       "0  Real Estate    لماذا الاستثمار في العقارات في تونس؟ فرصة واعدة   \n",
       "1  Real Estate  كيف تؤثر اللوائح على تصميم المباني التجارية وا...   \n",
       "2  Real Estate  كيف يمكن للمستثمرين تحديد الفرص العقارية المربحة؟   \n",
       "3  Real Estate                  ما هي أنواع العقارات الأكثر طلبا؟   \n",
       "4  Real Estate                  كيف يؤثر التضخم على قيم العقارات؟   \n",
       "\n",
       "                                              answer  \n",
       "0  intrdocution:\\n- يعد الاستثمار في المنازل للاس...  \n",
       "1  intrdocution:\\n- تلعب اللوائح التنظيمية دورًا ...  \n",
       "2  intrdocution:\\n- تحديد الفرص العقارية المربحة ...  \n",
       "3  intrdocution:\\n- تختلف أنواع العقارات الأكثر ط...  \n",
       "4  intrdocution:\\n- مع ارتفاع التضخم، ترتفع تكلفة...  "
      ]
     },
     "execution_count": 15,
     "metadata": {},
     "output_type": "execute_result"
    }
   ],
   "source": [
    "df_ar=json_to_dataframe('data_ar.json')\n",
    "df_ar.head()"
   ]
  },
  {
   "cell_type": "code",
   "execution_count": 16,
   "metadata": {},
   "outputs": [
    {
     "name": "stdout",
     "output_type": "stream",
     "text": [
      "<class 'pandas.core.frame.DataFrame'>\n",
      "RangeIndex: 250 entries, 0 to 249\n",
      "Data columns (total 3 columns):\n",
      " #   Column    Non-Null Count  Dtype \n",
      "---  ------    --------------  ----- \n",
      " 0   section   250 non-null    object\n",
      " 1   question  250 non-null    object\n",
      " 2   answer    250 non-null    object\n",
      "dtypes: object(3)\n",
      "memory usage: 6.0+ KB\n"
     ]
    }
   ],
   "source": [
    "df_ar.info()"
   ]
  },
  {
   "cell_type": "code",
   "execution_count": 17,
   "metadata": {},
   "outputs": [
    {
     "data": {
      "text/plain": [
       "0"
      ]
     },
     "execution_count": 17,
     "metadata": {},
     "output_type": "execute_result"
    }
   ],
   "source": [
    "df_ar.duplicated().isna().sum()"
   ]
  }
 ],
 "metadata": {
  "kernelspec": {
   "display_name": "Python 3",
   "language": "python",
   "name": "python3"
  },
  "language_info": {
   "codemirror_mode": {
    "name": "ipython",
    "version": 3
   },
   "file_extension": ".py",
   "mimetype": "text/x-python",
   "name": "python",
   "nbconvert_exporter": "python",
   "pygments_lexer": "ipython3",
   "version": "3.11.0"
  }
 },
 "nbformat": 4,
 "nbformat_minor": 2
}
